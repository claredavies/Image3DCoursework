{
  "cells": [
    {
      "cell_type": "markdown",
      "metadata": {
        "id": "view-in-github",
        "colab_type": "text"
      },
      "source": [
        "<a href=\"https://colab.research.google.com/github/claredavies/Image3DCoursework/blob/main/GLCM/GLCM.ipynb\" target=\"_parent\"><img src=\"https://colab.research.google.com/assets/colab-badge.svg\" alt=\"Open In Colab\"/></a>"
      ]
    },
    {
      "cell_type": "markdown",
      "source": [
        "# Libraries"
      ],
      "metadata": {
        "id": "aRdRo2swZ-ph"
      },
      "id": "aRdRo2swZ-ph"
    },
    {
      "cell_type": "code",
      "execution_count": 360,
      "id": "72b320e6-60c2-41a2-8220-9e5d204a8ce6",
      "metadata": {
        "id": "72b320e6-60c2-41a2-8220-9e5d204a8ce6"
      },
      "outputs": [],
      "source": [
        "import matplotlib.pyplot as plt\n",
        "import numpy as np\n",
        "\n",
        "from skimage.feature import greycomatrix, greycoprops\n",
        "from skimage import data\n",
        "\n",
        "from numpy import mean\n",
        "from numpy import std\n",
        "from sklearn.model_selection import KFold\n",
        "from tensorflow.keras.datasets import mnist\n",
        "from tensorflow.keras.utils import to_categorical\n",
        "from tensorflow.keras.models import Sequential\n",
        "from tensorflow.keras.layers import Conv2D\n",
        "from tensorflow.keras.utils import to_categorical\n",
        "from tensorflow.keras.models import Sequential\n",
        "from tensorflow.keras.layers import Conv2D\n",
        "from tensorflow.keras.layers import MaxPooling2D\n",
        "from tensorflow.keras.layers import Dense\n",
        "from tensorflow.keras.layers import Flatten\n",
        "from tensorflow.keras.optimizers import SGD\n",
        "import pandas as pd"
      ]
    },
    {
      "cell_type": "code",
      "source": [
        "!pip install python-mnist"
      ],
      "metadata": {
        "colab": {
          "base_uri": "https://localhost:8080/"
        },
        "id": "mOG3zw-TahKv",
        "outputId": "a51cb854-4e89-402a-a02f-14be2fe739f9"
      },
      "id": "mOG3zw-TahKv",
      "execution_count": 95,
      "outputs": [
        {
          "output_type": "stream",
          "name": "stdout",
          "text": [
            "Looking in indexes: https://pypi.org/simple, https://us-python.pkg.dev/colab-wheels/public/simple/\n",
            "Requirement already satisfied: python-mnist in /usr/local/lib/python3.8/dist-packages (0.7)\n"
          ]
        }
      ]
    },
    {
      "cell_type": "code",
      "source": [
        "import fm.utils.mnist_reader as mnist_reader"
      ],
      "metadata": {
        "id": "y2_htiL9ah0H"
      },
      "id": "y2_htiL9ah0H",
      "execution_count": 96,
      "outputs": []
    },
    {
      "cell_type": "markdown",
      "source": [
        "# GLCM Functions"
      ],
      "metadata": {
        "id": "Ugjj3j80h-My"
      },
      "id": "Ugjj3j80h-My"
    },
    {
      "cell_type": "code",
      "source": [
        "def showImagePatch(patch):\n",
        "  plt.imshow(patch, cmap=plt.cm.gray, vmin=0, vmax=255)"
      ],
      "metadata": {
        "id": "RPkTbAQXePqu"
      },
      "id": "RPkTbAQXePqu",
      "execution_count": 156,
      "outputs": []
    },
    {
      "cell_type": "code",
      "source": [
        "def getPatchFromLocation(image, loc):\n",
        "  patch = image[loc[0]:loc[0] + PATCH_SIZE, loc[1]:loc[1] + PATCH_SIZE]\n",
        "  return patch"
      ],
      "metadata": {
        "id": "ujsy_ddQexRO"
      },
      "id": "ujsy_ddQexRO",
      "execution_count": 157,
      "outputs": []
    },
    {
      "cell_type": "code",
      "execution_count": 243,
      "id": "f4963eb7-36c9-43e8-b5d5-1c6f203be00e",
      "metadata": {
        "id": "f4963eb7-36c9-43e8-b5d5-1c6f203be00e"
      },
      "outputs": [],
      "source": [
        "# compute some GLCM properties each patch\n",
        "def calGLCMPropertiesMultiClass(class1Patches, class2Patches):\n",
        "  dissimilarity = []\n",
        "  correlation = []\n",
        "  for patch in (class1Patches + class2Patches):\n",
        "      glcm = greycomatrix(patch, \n",
        "                          distances=[5],\n",
        "                          angles=[0], # We ignore this\n",
        "                          levels=256, # Number of possible pixel values\n",
        "                          symmetric=True, \n",
        "                          normed=True)\n",
        "      dissimilarity.append(greycoprops(glcm, 'dissimilarity')[0, 0])\n",
        "      correlation.append(greycoprops(glcm, 'correlation')[0, 0])\n",
        "  return [dissimilarity, correlation, glcm]"
      ]
    },
    {
      "cell_type": "code",
      "source": [
        "# compute some GLCM properties each patch\n",
        "def calGLCMProperties(patches):\n",
        "  dissimilarity = []\n",
        "  correlation = []\n",
        "  for patch in (patches):\n",
        "      glcm = greycomatrix(patch, \n",
        "                          distances=[5],\n",
        "                          angles=[0], # We ignore this\n",
        "                          levels=256, # Number of possible pixel values\n",
        "                          symmetric=True, \n",
        "                          normed=True)\n",
        "      dissimilarity.append(greycoprops(glcm, 'dissimilarity')[0, 0])\n",
        "      correlation.append(greycoprops(glcm, 'correlation')[0, 0])\n",
        "  return [dissimilarity, correlation, glcm]"
      ],
      "metadata": {
        "id": "INHmk_nlsE38"
      },
      "id": "INHmk_nlsE38",
      "execution_count": 247,
      "outputs": []
    },
    {
      "cell_type": "code",
      "source": [
        "def visualiseSelectedPatchesAndComputedFeatures(image, dissimilarity, correlation, PATCH_SIZE, patches):\n",
        "  # create the figure\n",
        "  fig = plt.figure(figsize=(8, 8))\n",
        "\n",
        "  # display original image with locations of patches\n",
        "  ax = fig.add_subplot(3, 2, 1)\n",
        "  ax.imshow(image, cmap=plt.cm.gray, vmin=0, vmax=255)\n",
        "  for (y, x) in grass_locations:\n",
        "      ax.plot(x + PATCH_SIZE / 2, y + PATCH_SIZE / 2, 'gs')\n",
        "\n",
        "  for (y, x) in sky_locations:\n",
        "      ax.plot(x + PATCH_SIZE / 2, y + PATCH_SIZE / 2, 'bs')\n",
        "\n",
        "  ax.set_xlabel('Original Image')\n",
        "  ax.set_xticks([])\n",
        "  ax.set_yticks([])\n",
        "  ax.axis('image')\n",
        "\n",
        "  # for each patch, plot (dissimilarity, correlation)\n",
        "  ax = fig.add_subplot(3, 2, 2)\n",
        "  ax.plot(dissimilarity[:len(patches)], correlation[:len(patches)], 'go', label='Grass')\n",
        "  ax.plot(dissimilarity[len(patches):], correlation[len(patches):], 'bo', label='Sky')\n",
        "  ax.set_xlabel('GLCM Dissimilarity')\n",
        "  ax.set_ylabel('GLCM Correlation')\n",
        "  ax.legend()\n",
        "\n",
        "  # display the image patches\n",
        "  for i, patch in enumerate(patches):\n",
        "      ax = fig.add_subplot(3, len(patches), len(patches)*1 + i + 1)\n",
        "      ax.imshow(patch, cmap=plt.cm.gray, vmin=0, vmax=255)\n",
        "      ax.set_xlabel('Grass %d' % (i + 1))\n",
        "\n",
        "  # display the patches and plot\n",
        "  fig.suptitle('Grey level co-occurrence matrix features', fontsize=14, y=1.05)\n",
        "  plt.tight_layout()"
      ],
      "metadata": {
        "id": "f9ZYqT8dsOQC"
      },
      "id": "f9ZYqT8dsOQC",
      "execution_count": 253,
      "outputs": []
    },
    {
      "cell_type": "code",
      "execution_count": 248,
      "id": "64c827df-0292-40d0-a8cd-7a552864d5df",
      "metadata": {
        "id": "64c827df-0292-40d0-a8cd-7a552864d5df"
      },
      "outputs": [],
      "source": [
        "def visualiseSelectedPatchesAndComputedFeaturesMultiClass(image, dissimilarity, correlation, PATCH_SIZE, class1, class2):\n",
        "  # create the figure\n",
        "  fig = plt.figure(figsize=(8, 8))\n",
        "\n",
        "  # display original image with locations of patches\n",
        "  ax = fig.add_subplot(3, 2, 1)\n",
        "  ax.imshow(image, cmap=plt.cm.gray, vmin=0, vmax=255)\n",
        "  for (y, x) in grass_locations:\n",
        "      ax.plot(x + PATCH_SIZE / 2, y + PATCH_SIZE / 2, 'gs')\n",
        "\n",
        "  for (y, x) in sky_locations:\n",
        "      ax.plot(x + PATCH_SIZE / 2, y + PATCH_SIZE / 2, 'bs')\n",
        "\n",
        "  ax.set_xlabel('Original Image')\n",
        "  ax.set_xticks([])\n",
        "  ax.set_yticks([])\n",
        "  ax.axis('image')\n",
        "\n",
        "  # for each patch, plot (dissimilarity, correlation)\n",
        "  ax = fig.add_subplot(3, 2, 2)\n",
        "  ax.plot(dissimilarity[:len(class1)], correlation[:len(class1)], 'go', label='Grass')\n",
        "  ax.plot(dissimilarity[len(class1):], correlation[len(class1):], 'bo', label='Sky')\n",
        "  ax.set_xlabel('GLCM Dissimilarity')\n",
        "  ax.set_ylabel('GLCM Correlation')\n",
        "  ax.legend()\n",
        "\n",
        "  # display the image patches\n",
        "  for i, patch in enumerate(class1):\n",
        "      ax = fig.add_subplot(3, len(class1), len(class1)*1 + i + 1)\n",
        "      ax.imshow(patch, cmap=plt.cm.gray, vmin=0, vmax=255)\n",
        "      ax.set_xlabel('Grass %d' % (i + 1))\n",
        "\n",
        "  for i, patch in enumerate(class2):\n",
        "      ax = fig.add_subplot(3, len(class2), len(class2)*2 + i + 1)\n",
        "      ax.imshow(patch, cmap=plt.cm.gray, vmin=0, vmax=255)\n",
        "      ax.set_xlabel('Sky %d' % (i + 1))\n",
        "\n",
        "  # display the patches and plot\n",
        "  fig.suptitle('Grey level co-occurrence matrix features', fontsize=14, y=1.05)\n",
        "  plt.tight_layout()"
      ]
    },
    {
      "cell_type": "markdown",
      "id": "e4e6bbf0-2773-4a95-986a-49d90043ff18",
      "metadata": {
        "id": "e4e6bbf0-2773-4a95-986a-49d90043ff18"
      },
      "source": [
        "# Dataset 1"
      ]
    },
    {
      "cell_type": "markdown",
      "source": [
        "## Read images"
      ],
      "metadata": {
        "id": "BkiH2pv4aBad"
      },
      "id": "BkiH2pv4aBad"
    },
    {
      "cell_type": "code",
      "execution_count": 194,
      "id": "2281be82-ac62-4941-a861-fa1305868fc6",
      "metadata": {
        "id": "2281be82-ac62-4941-a861-fa1305868fc6",
        "outputId": "cb23a65e-23f4-47e9-9f29-32ac14036883",
        "colab": {
          "base_uri": "https://localhost:8080/",
          "height": 269
        }
      },
      "outputs": [
        {
          "output_type": "display_data",
          "data": {
            "text/plain": [
              "<Figure size 432x288 with 1 Axes>"
            ],
            "image/png": "[encoded data removed]"
          },
          "metadata": {
            "needs_background": "light"
          }
        }
      ],
      "source": [
        "# Load the sample image\n",
        "imageDataset1 = data.camera()\n",
        "plt.imshow(imageDataset1, cmap=\"gray\");"
      ]
    },
    {
      "cell_type": "markdown",
      "source": [
        "## Get Patches"
      ],
      "metadata": {
        "id": "5MJfhfT-aOzl"
      },
      "id": "5MJfhfT-aOzl"
    },
    {
      "cell_type": "markdown",
      "id": "72c75d3c-90cc-4406-a8c2-600ca16fd278",
      "metadata": {
        "id": "72c75d3c-90cc-4406-a8c2-600ca16fd278"
      },
      "source": [
        "First, we select a set of patches from the image. We select 4 grass patches and 4 sky patches, and we register them.\n",
        "Next, there is the code we to select those patches manually and we save them in two independent lists.\n",
        "\n",
        "Remember, that a patch is an image piece. In our case we have defined it as a square of $21 \\times 21$ pixels."
      ]
    },
    {
      "cell_type": "markdown",
      "source": [
        "showImagePatch used to identify sky and grass to bulk up dataset"
      ],
      "metadata": {
        "id": "R4sSwuLGf8j_"
      },
      "id": "R4sSwuLGf8j_"
    },
    {
      "cell_type": "code",
      "source": [
        "showImagePatch(getPatchFromLocation(imageDataset1, (150, 30)))"
      ],
      "metadata": {
        "colab": {
          "base_uri": "https://localhost:8080/",
          "height": 265
        },
        "id": "QZ5-jYo2eqxS",
        "outputId": "9f7dcd34-b59b-486c-d719-583e8947f81b"
      },
      "id": "QZ5-jYo2eqxS",
      "execution_count": 195,
      "outputs": [
        {
          "output_type": "display_data",
          "data": {
            "text/plain": [
              "<Figure size 432x288 with 1 Axes>"
            ],
            "image/png": "[encoded data removed]"
          },
          "metadata": {
            "needs_background": "light"
          }
        }
      ]
    },
    {
      "cell_type": "code",
      "source": [
        "def getGrassPatches(PATCH_SIZE, image):\n",
        "  grass_locations = [(280, 454), (342, 223), (444, 192), (455, 455), (340, 340), (340, 200), (370, 200), (390, 220), (400, 220)]\n",
        "  grass_patches = []\n",
        "  for loc in grass_locations:\n",
        "      patch = getPatchFromLocation(image, loc)\n",
        "      grass_patches.append(patch)\n",
        "  return [grass_patches, grass_locations]"
      ],
      "metadata": {
        "id": "ut9A0Pn0UQDH"
      },
      "id": "ut9A0Pn0UQDH",
      "execution_count": 196,
      "outputs": []
    },
    {
      "cell_type": "code",
      "source": [
        "def getSkyPatches(PATCH_SIZE, image):\n",
        "  sky_locations = [(38, 34), (139, 28), (37, 437), (145, 379), (150, 350), (150, 30), (30, 420), (150, 370), (30, 40)]\n",
        "  sky_patches = []\n",
        "  for loc in sky_locations:\n",
        "      sky_patches.append(image[loc[0]:loc[0] + PATCH_SIZE,\n",
        "                              loc[1]:loc[1] + PATCH_SIZE])\n",
        "  return [sky_patches, sky_locations]"
      ],
      "metadata": {
        "id": "drcoEtINUDml"
      },
      "id": "drcoEtINUDml",
      "execution_count": 197,
      "outputs": []
    },
    {
      "cell_type": "code",
      "source": [
        "PATCH_SIZE = 21\n",
        "[grass_patches, grass_locations] = getGrassPatches(PATCH_SIZE, imageDataset1)\n",
        "[sky_patches, sky_locations] = getSkyPatches(PATCH_SIZE, imageDataset1)"
      ],
      "metadata": {
        "id": "OfT4I3TtUWD3"
      },
      "id": "OfT4I3TtUWD3",
      "execution_count": 198,
      "outputs": []
    },
    {
      "cell_type": "markdown",
      "source": [
        "## Find GLCM Features"
      ],
      "metadata": {
        "id": "6mwZMjcbaSDk"
      },
      "id": "6mwZMjcbaSDk"
    },
    {
      "cell_type": "markdown",
      "id": "f8bd71d4-ce4d-447b-a039-4adaaf081aed",
      "metadata": {
        "id": "f8bd71d4-ce4d-447b-a039-4adaaf081aed"
      },
      "source": [
        "Once we have the patches selected, we can compute the GLCM features.\n",
        "The computation procedure of this kind of features consists in two steps:\n",
        "1. Compute the Grey Level Co-occurrence Matrix (la GLCM).\n",
        "2. Compute the texture properties of the GLCM.\n",
        "\n",
        "The first step is achieved applying the function [greycomatrix](https://scikit-image.org/docs/dev/api/skimage.feature.html#skimage.feature.graycomatrix) and the second one using [greycoprops](https://scikit-image.org/docs/dev/api/skimage.feature.html#skimage.feature.graycoprops)."
      ]
    },
    {
      "cell_type": "code",
      "source": [
        "[dissimilarity, correlation, glcm] = calGLCMPropertiesMultiClass(grass_patches, sky_patches)"
      ],
      "metadata": {
        "id": "ilR_q5VKVnFz"
      },
      "id": "ilR_q5VKVnFz",
      "execution_count": 244,
      "outputs": []
    },
    {
      "cell_type": "code",
      "execution_count": 166,
      "id": "618424c0-011a-4ba2-b8c3-f3bc2986d998",
      "metadata": {
        "id": "618424c0-011a-4ba2-b8c3-f3bc2986d998",
        "outputId": "60d81ffb-f045-4e88-b610-dcc98ce42098",
        "colab": {
          "base_uri": "https://localhost:8080/"
        }
      },
      "outputs": [
        {
          "output_type": "execute_result",
          "data": {
            "text/plain": [
              "(256, 256, 1, 1)"
            ]
          },
          "metadata": {},
          "execution_count": 166
        }
      ],
      "source": [
        "glcm.shape"
      ]
    },
    {
      "cell_type": "markdown",
      "source": [
        "xs - dissimilarity"
      ],
      "metadata": {
        "id": "Pyfx7rEGXNHj"
      },
      "id": "Pyfx7rEGXNHj"
    },
    {
      "cell_type": "code",
      "execution_count": 167,
      "id": "b42e6a1e-5dde-4bcd-8b3a-9007152c9da0",
      "metadata": {
        "id": "b42e6a1e-5dde-4bcd-8b3a-9007152c9da0",
        "outputId": "4b6d735c-c381-45d2-ce7a-07b35a7c7f1f",
        "colab": {
          "base_uri": "https://localhost:8080/"
        }
      },
      "outputs": [
        {
          "output_type": "execute_result",
          "data": {
            "text/plain": [
              "[6.044642857142856,\n",
              " 11.973214285714285,\n",
              " 18.794642857142858,\n",
              " 18.80059523809523,\n",
              " 12.214285714285714,\n",
              " 11.9375,\n",
              " 14.946428571428573,\n",
              " 15.44642857142857,\n",
              " 15.613095238095239,\n",
              " 0.46726190476190477,\n",
              " 0.5744047619047619,\n",
              " 0.5208333333333334,\n",
              " 0.5386904761904763,\n",
              " 2.1875,\n",
              " 0.6160714285714286,\n",
              " 0.4047619047619049,\n",
              " 1.3571428571428572,\n",
              " 0.43154761904761907]"
            ]
          },
          "metadata": {},
          "execution_count": 167
        }
      ],
      "source": [
        "dissimilarity"
      ]
    },
    {
      "cell_type": "markdown",
      "source": [
        "ys - correlation"
      ],
      "metadata": {
        "id": "q2T2n9GdXXRv"
      },
      "id": "q2T2n9GdXXRv"
    },
    {
      "cell_type": "code",
      "source": [
        "correlation"
      ],
      "metadata": {
        "colab": {
          "base_uri": "https://localhost:8080/"
        },
        "id": "ugTapIN_XFTs",
        "outputId": "841262b4-2738-421a-c388-67540bbf46c6"
      },
      "id": "ugTapIN_XFTs",
      "execution_count": 168,
      "outputs": [
        {
          "output_type": "execute_result",
          "data": {
            "text/plain": [
              "[0.18465981611100118,\n",
              " 0.09819326975998054,\n",
              " 0.012329737526846562,\n",
              " 0.03211156902114874,\n",
              " 0.003840311844660029,\n",
              " -0.05085218911772683,\n",
              " 0.10615735972737371,\n",
              " 0.08440710798145946,\n",
              " 0.09599346158167409,\n",
              " 0.6499750949948057,\n",
              " 0.7303979048396345,\n",
              " 0.7674139951474309,\n",
              " 0.5151595753523491,\n",
              " 0.5974132211669424,\n",
              " 0.17189467175008782,\n",
              " 0.7224637764291533,\n",
              " 0.6399610481586401,\n",
              " 0.9225927039450565]"
            ]
          },
          "metadata": {},
          "execution_count": 168
        }
      ]
    },
    {
      "cell_type": "markdown",
      "id": "124c5a08-2c3c-4348-9f02-9294a2913e3e",
      "metadata": {
        "id": "124c5a08-2c3c-4348-9f02-9294a2913e3e"
      },
      "source": [
        "Next, we can visualise the selected patches and the computed features."
      ]
    },
    {
      "cell_type": "code",
      "source": [
        "visualiseSelectedPatchesAndComputedFeaturesMultiClass(imageDataset1, dissimilarity, correlation, PATCH_SIZE, grass_patches, sky_patches)"
      ],
      "metadata": {
        "colab": {
          "base_uri": "https://localhost:8080/",
          "height": 587
        },
        "id": "yUlQXr-BX4k4",
        "outputId": "97cc2bee-f6ac-4943-800a-ec2efd2dbcb0"
      },
      "id": "yUlQXr-BX4k4",
      "execution_count": 250,
      "outputs": [
        {
          "output_type": "stream",
          "name": "stderr",
          "text": [
            "<ipython-input-248-c08e5265f92c>:40: UserWarning: tight_layout not applied: number of columns in subplot specifications must be multiples of one another.\n",
            "  plt.tight_layout()\n"
          ]
        },
        {
          "output_type": "display_data",
          "data": {
            "text/plain": [
              "<Figure size 576x576 with 20 Axes>"
            ],
            "image/png": "[encoded data removed]"
          },
          "metadata": {
            "needs_background": "light"
          }
        }
      ]
    },
    {
      "cell_type": "markdown",
      "source": [
        "## Classifier"
      ],
      "metadata": {
        "id": "8iOxpijeZ2uD"
      },
      "id": "8iOxpijeZ2uD"
    },
    {
      "cell_type": "code",
      "source": [
        "## Classifier"
      ],
      "metadata": {
        "id": "Jv3wArjRZuf8"
      },
      "id": "Jv3wArjRZuf8",
      "execution_count": null,
      "outputs": []
    },
    {
      "cell_type": "code",
      "source": [],
      "metadata": {
        "id": "i8BTNRCCZ1GB"
      },
      "id": "i8BTNRCCZ1GB",
      "execution_count": null,
      "outputs": []
    },
    {
      "cell_type": "markdown",
      "source": [
        "# Dataset *2*"
      ],
      "metadata": {
        "id": "etN0IECya1zx"
      },
      "id": "etN0IECya1zx"
    },
    {
      "cell_type": "markdown",
      "id": "e0836202-5b51-43eb-a489-a7776df3a7fb",
      "metadata": {
        "id": "e0836202-5b51-43eb-a489-a7776df3a7fb"
      },
      "source": [
        "## Download dataset"
      ]
    },
    {
      "cell_type": "code",
      "execution_count": 321,
      "id": "3207e492-d46e-4c57-ad3b-9b60fc66ad48",
      "metadata": {
        "id": "3207e492-d46e-4c57-ad3b-9b60fc66ad48",
        "outputId": "cb2fcad9-cb76-4561-8583-48c51a203578",
        "colab": {
          "base_uri": "https://localhost:8080/"
        }
      },
      "outputs": [
        {
          "output_type": "stream",
          "name": "stdout",
          "text": [
            "fatal: destination path 'fm' already exists and is not an empty directory.\n"
          ]
        }
      ],
      "source": [
        "!git clone https://github.com/zalandoresearch/fashion-mnist.git fm"
      ]
    },
    {
      "cell_type": "code",
      "execution_count": 389,
      "id": "6d0dda1f-5706-4468-b704-97f8c9ef3221",
      "metadata": {
        "id": "6d0dda1f-5706-4468-b704-97f8c9ef3221"
      },
      "outputs": [],
      "source": [
        "X_train, y_train = mnist_reader.load_mnist('fm/data/fashion', kind='train')\n",
        "X_test, y_test = mnist_reader.load_mnist('fm/data/fashion', kind='t10k')"
      ]
    },
    {
      "cell_type": "code",
      "execution_count": 388,
      "id": "f03acc4f-72d9-4307-a4b7-d4f3f85bd367",
      "metadata": {
        "id": "f03acc4f-72d9-4307-a4b7-d4f3f85bd367",
        "outputId": "9f8325ee-116c-4a64-e50c-11ce394dbce4",
        "colab": {
          "base_uri": "https://localhost:8080/"
        }
      },
      "outputs": [
        {
          "output_type": "execute_result",
          "data": {
            "text/plain": [
              "(28, 28)"
            ]
          },
          "metadata": {},
          "execution_count": 388
        }
      ],
      "source": [
        "X_train.shape"
      ]
    },
    {
      "cell_type": "code",
      "execution_count": 390,
      "id": "ed3d4c16-195e-4c2f-a03e-8bb7fe56441a",
      "metadata": {
        "id": "ed3d4c16-195e-4c2f-a03e-8bb7fe56441a",
        "colab": {
          "base_uri": "https://localhost:8080/",
          "height": 282
        },
        "outputId": "982c5eba-eb1e-4e5d-afc7-c6f180916746"
      },
      "outputs": [
        {
          "output_type": "execute_result",
          "data": {
            "text/plain": [
              "<matplotlib.image.AxesImage at 0x7f6ebbfb8430>"
            ]
          },
          "metadata": {},
          "execution_count": 390
        },
        {
          "output_type": "display_data",
          "data": {
            "text/plain": [
              "<Figure size 432x288 with 1 Axes>"
            ],
            "image/png": "[encoded data removed]"
          },
          "metadata": {
            "needs_background": "light"
          }
        }
      ],
      "source": [
        "X_train = X_train[0].reshape((28, 28))\n",
        "plt.imshow(X_train, cmap=\"gray\")"
      ]
    },
    {
      "cell_type": "markdown",
      "id": "2fb9e8da-18d7-49c6-a2b9-9fe6d94b4671",
      "metadata": {
        "id": "2fb9e8da-18d7-49c6-a2b9-9fe6d94b4671"
      },
      "source": [
        "## Feature extraction"
      ]
    },
    {
      "cell_type": "markdown",
      "source": [
        "### Training Data"
      ],
      "metadata": {
        "id": "zlrecmur0HtG"
      },
      "id": "zlrecmur0HtG"
    },
    {
      "cell_type": "code",
      "source": [
        "PATCH_SIZE = int(28 / 4)\n",
        "PATCH_SIZE"
      ],
      "metadata": {
        "colab": {
          "base_uri": "https://localhost:8080/"
        },
        "id": "9QMlCvdHnPnM",
        "outputId": "062b4825-6a5d-4867-c7a2-d94a0f4d3d43"
      },
      "id": "9QMlCvdHnPnM",
      "execution_count": 349,
      "outputs": [
        {
          "output_type": "execute_result",
          "data": {
            "text/plain": [
              "7"
            ]
          },
          "metadata": {},
          "execution_count": 349
        }
      ]
    },
    {
      "cell_type": "code",
      "source": [
        "def getWantedSizedPatches(image, patchSize):\n",
        "  patches = []\n",
        "  for y in range(0, image.shape[0] - patchSize + 1, patchSize):\n",
        "      for x in range(0, image.shape[1] - patchSize + 1, patchSize):\n",
        "          patches.append(image[y:y + patchSize, x:x + patchSize])\n",
        "  return patches"
      ],
      "metadata": {
        "id": "LPyoH2ChkUfo"
      },
      "id": "LPyoH2ChkUfo",
      "execution_count": 374,
      "outputs": []
    },
    {
      "cell_type": "code",
      "execution_count": 394,
      "id": "716fe84d-0413-40af-ae12-500ffa7e7137",
      "metadata": {
        "id": "716fe84d-0413-40af-ae12-500ffa7e7137"
      },
      "outputs": [],
      "source": [
        "patchesXTrain = getWantedSizedPatches(X_train, PATCH_SIZE)"
      ]
    },
    {
      "cell_type": "code",
      "source": [
        "patchesXTrain[0].shape"
      ],
      "metadata": {
        "colab": {
          "base_uri": "https://localhost:8080/"
        },
        "id": "FxKo7_kD0jwZ",
        "outputId": "c2ac5b32-2a67-44c6-d825-c8a04229ae62"
      },
      "id": "FxKo7_kD0jwZ",
      "execution_count": 395,
      "outputs": [
        {
          "output_type": "execute_result",
          "data": {
            "text/plain": [
              "(7, 7)"
            ]
          },
          "metadata": {},
          "execution_count": 395
        }
      ]
    },
    {
      "cell_type": "code",
      "execution_count": 392,
      "id": "1bdb9303-8da0-4158-89c2-a235b174d302",
      "metadata": {
        "id": "1bdb9303-8da0-4158-89c2-a235b174d302"
      },
      "outputs": [],
      "source": [
        "def showPatches(patches):\n",
        "  fig, axes = plt.subplots(4, 4)\n",
        "  axes = axes.flatten()\n",
        "\n",
        "  for i, patch in enumerate(patches):\n",
        "      axes[i].imshow(patch)\n",
        "      axes[i].set_xlabel('Number %d' % (i + 1))\n",
        "\n",
        "\n",
        "  plt.show()"
      ]
    },
    {
      "cell_type": "code",
      "source": [
        "showPatches(patchesXTrain)"
      ],
      "metadata": {
        "colab": {
          "base_uri": "https://localhost:8080/",
          "height": 280
        },
        "id": "x06mQnEI0v70",
        "outputId": "ee7ab57e-e858-4411-8030-6859a1213750"
      },
      "id": "x06mQnEI0v70",
      "execution_count": 396,
      "outputs": [
        {
          "output_type": "display_data",
          "data": {
            "text/plain": [
              "<Figure size 432x288 with 16 Axes>"
            ],
            "image/png": "[encoded data removed]"
          },
          "metadata": {
            "needs_background": "light"
          }
        }
      ]
    },
    {
      "cell_type": "code",
      "source": [
        "[dissimilarity, correlation, glcm] = calGLCMProperties(patchesXTrain)"
      ],
      "metadata": {
        "id": "KbQGcH4vkygZ"
      },
      "id": "KbQGcH4vkygZ",
      "execution_count": 379,
      "outputs": []
    },
    {
      "cell_type": "code",
      "execution_count": 380,
      "id": "186bebf1-f92a-460e-9d2a-60cc720cc77a",
      "metadata": {
        "id": "186bebf1-f92a-460e-9d2a-60cc720cc77a",
        "outputId": "fbae4b3c-d13f-4d1d-f5c3-1653cfcbf6df",
        "colab": {
          "base_uri": "https://localhost:8080/",
          "height": 279
        }
      },
      "outputs": [
        {
          "output_type": "display_data",
          "data": {
            "text/plain": [
              "<Figure size 432x288 with 1 Axes>"
            ],
            "image/png": "[encoded data removed]"
          },
          "metadata": {
            "needs_background": "light"
          }
        }
      ],
      "source": [
        "# for each patch, plot (dissimilarity, correlation)\n",
        "plt.plot(dissimilarity[:len(patchesXTrain)], correlation[:len(patchesXTrain)], 'go')\n",
        "plt.xlabel('GLCM Dissimilarity')\n",
        "plt.ylabel('GLCM Correlation')\n",
        "plt.show()"
      ]
    },
    {
      "cell_type": "code",
      "execution_count": 356,
      "id": "ba8cc608-4bc3-4717-b6e4-fe0b4831c5f0",
      "metadata": {
        "id": "ba8cc608-4bc3-4717-b6e4-fe0b4831c5f0",
        "outputId": "20a4624b-85cf-4adf-c0d8-3ee1027458d1",
        "colab": {
          "base_uri": "https://localhost:8080/"
        }
      },
      "outputs": [
        {
          "output_type": "execute_result",
          "data": {
            "text/plain": [
              "16"
            ]
          },
          "metadata": {},
          "execution_count": 356
        }
      ],
      "source": [
        "PATCH_PER_IMAGE = int(28 / PATCH_SIZE) * int(28 / PATCH_SIZE)\n",
        "PATCH_PER_IMAGE"
      ]
    },
    {
      "cell_type": "code",
      "source": [
        "y_train = [0, 0, 1, 1, 0, 0, 1, 1, 1, 1, 1, 1, 1, 1, 1, 1]\n",
        "  \n",
        "# Calling DataFrame constructor after zipping\n",
        "# both lists, with columns specified\n",
        "X_train = pd.DataFrame(list(zip(dissimilarity, correlation)),\n",
        "               columns =['dissimilarity', 'correlation'])"
      ],
      "metadata": {
        "id": "4SgjXEThxjy2"
      },
      "id": "4SgjXEThxjy2",
      "execution_count": 401,
      "outputs": []
    },
    {
      "cell_type": "markdown",
      "source": [
        "### Test Data"
      ],
      "metadata": {
        "id": "h5O05Ao_1R13"
      },
      "id": "h5O05Ao_1R13"
    },
    {
      "cell_type": "code",
      "source": [
        "X_test= X_test[0].reshape((28, 28))\n",
        "plt.imshow(X_test, cmap=\"gray\")"
      ],
      "metadata": {
        "colab": {
          "base_uri": "https://localhost:8080/",
          "height": 282
        },
        "id": "Is_XpQwPy76T",
        "outputId": "af7e1f32-68ce-49da-c652-3f55b085baf5"
      },
      "id": "Is_XpQwPy76T",
      "execution_count": 391,
      "outputs": [
        {
          "output_type": "execute_result",
          "data": {
            "text/plain": [
              "<matplotlib.image.AxesImage at 0x7f6ebc1ed970>"
            ]
          },
          "metadata": {},
          "execution_count": 391
        },
        {
          "output_type": "display_data",
          "data": {
            "text/plain": [
              "<Figure size 432x288 with 1 Axes>"
            ],
            "image/png": "[encoded data removed]"
          },
          "metadata": {
            "needs_background": "light"
          }
        }
      ]
    },
    {
      "cell_type": "code",
      "source": [
        "patchesXTest = getWantedSizedPatches(X_test, PATCH_SIZE)"
      ],
      "metadata": {
        "id": "4x-S0JH21XTK"
      },
      "id": "4x-S0JH21XTK",
      "execution_count": 397,
      "outputs": []
    },
    {
      "cell_type": "code",
      "source": [
        "showPatches(patchesXTest)"
      ],
      "metadata": {
        "colab": {
          "base_uri": "https://localhost:8080/",
          "height": 280
        },
        "id": "z8Xp8LIZ2Jwk",
        "outputId": "76d42e97-a7fa-4699-fd82-7d769169679c"
      },
      "id": "z8Xp8LIZ2Jwk",
      "execution_count": 398,
      "outputs": [
        {
          "output_type": "display_data",
          "data": {
            "text/plain": [
              "<Figure size 432x288 with 16 Axes>"
            ],
            "image/png": "[encoded data removed]"
          },
          "metadata": {
            "needs_background": "light"
          }
        }
      ]
    },
    {
      "cell_type": "code",
      "source": [
        "y_test = [0, 0, 0, 0, 0, 0, 1, 1, 1, 1, 1, 1, 0, 0, 0, 0]\n",
        "  \n",
        "# Calling DataFrame constructor after zipping\n",
        "# both lists, with columns specified\n",
        "X_test = pd.DataFrame(list(zip(dissimilarity, correlation)),\n",
        "               columns =['dissimilarity', 'correlation'])"
      ],
      "metadata": {
        "id": "0GHBv5cF2PKL"
      },
      "id": "0GHBv5cF2PKL",
      "execution_count": 399,
      "outputs": []
    },
    {
      "cell_type": "markdown",
      "id": "52318d8b-bbd2-4d3f-920c-55ca3ff5e931",
      "metadata": {
        "jp-MarkdownHeadingCollapsed": true,
        "tags": [],
        "id": "52318d8b-bbd2-4d3f-920c-55ca3ff5e931"
      },
      "source": [
        "## Tasks\n",
        "\n",
        "Build your own classifier and extract metrics to know how the classifier is working.\n",
        "\n",
        "Detect with which classes is the classifier working better and worse. Try to explain the reasons.\n",
        "\n",
        "\n",
        "**HINT:** The confusion matrix can be very helpful.\n",
        "\n",
        "Useful link: https://towardsdatascience.com/multi-class-classification-extracting-performance-metrics-from-the-confusion-matrix-b379b427a872\n"
      ]
    },
    {
      "cell_type": "code",
      "source": [
        "#Import Random Forest Model\n",
        "from sklearn.ensemble import RandomForestClassifier\n",
        "\n",
        "#Create a Gaussian Classifier\n",
        "clf=RandomForestClassifier(n_estimators=100)\n",
        "\n",
        "#Train the model using the training sets y_pred=clf.predict(X_test)\n",
        "clf.fit(X_train,y_train)\n",
        "\n",
        "y_pred=clf.predict(X_test)"
      ],
      "metadata": {
        "id": "LZcXwQF4z8Tc"
      },
      "id": "LZcXwQF4z8Tc",
      "execution_count": 402,
      "outputs": []
    },
    {
      "cell_type": "code",
      "source": [
        "import matplotlib.pyplot as plt\n",
        "import numpy\n",
        "from sklearn import metrics\n",
        "\n",
        "predicted = clf.predict(X_test)\n",
        "\n",
        "confusion_matrix = metrics.confusion_matrix(y_test, predicted)\n",
        "\n",
        "cm_display = metrics.ConfusionMatrixDisplay(confusion_matrix = confusion_matrix, display_labels = [False, True])\n",
        "\n",
        "cm_display.plot()\n",
        "plt.show()"
      ],
      "metadata": {
        "colab": {
          "base_uri": "https://localhost:8080/",
          "height": 283
        },
        "id": "1gKJx5nJ2x5p",
        "outputId": "e4b983ec-3e45-4905-8e9b-ae1650c70f19"
      },
      "id": "1gKJx5nJ2x5p",
      "execution_count": 403,
      "outputs": [
        {
          "output_type": "display_data",
          "data": {
            "text/plain": [
              "<Figure size 432x288 with 2 Axes>"
            ],
            "image/png": "[encoded data removed]"
          },
          "metadata": {
            "needs_background": "light"
          }
        }
      ]
    },
    {
      "cell_type": "markdown",
      "id": "84f5e6b3-7cad-415d-bc32-981088124a87",
      "metadata": {
        "id": "84f5e6b3-7cad-415d-bc32-981088124a87"
      },
      "source": [
        "# Features library"
      ]
    },
    {
      "cell_type": "markdown",
      "id": "db815a15-919c-4f13-94a7-69c540e88ecb",
      "metadata": {
        "id": "db815a15-919c-4f13-94a7-69c540e88ecb"
      },
      "source": [
        "https://github.com/explainingAI/uib_vfeatures\n",
        "\n",
        "\n",
        "https://pypi.org/project/uib-vfeatures/"
      ]
    }
  ],
  "metadata": {
    "kernelspec": {
      "display_name": "Python 3 (ipykernel)",
      "language": "python",
      "name": "python3"
    },
    "language_info": {
      "codemirror_mode": {
        "name": "ipython",
        "version": 3
      },
      "file_extension": ".py",
      "mimetype": "text/x-python",
      "name": "python",
      "nbconvert_exporter": "python",
      "pygments_lexer": "ipython3",
      "version": "3.9.6"
    },
    "colab": {
      "provenance": [],
      "collapsed_sections": [
        "aRdRo2swZ-ph",
        "8iOxpijeZ2uD"
      ],
      "toc_visible": true,
      "include_colab_link": true
    }
  },
  "nbformat": 4,
  "nbformat_minor": 5
}