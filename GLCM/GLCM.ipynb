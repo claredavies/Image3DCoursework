{
  "cells": [
    {
      "cell_type": "markdown",
      "metadata": {
        "id": "view-in-github",
        "colab_type": "text"
      },
      "source": [
        "<a href=\"https://colab.research.google.com/github/claredavies/Image3DCoursework/blob/main/GLCM/GLCM.ipynb\" target=\"_parent\"><img src=\"https://colab.research.google.com/assets/colab-badge.svg\" alt=\"Open In Colab\"/></a>"
      ]
    },
    {
      "cell_type": "markdown",
      "source": [
        "# Libraries"
      ],
      "metadata": {
        "id": "aRdRo2swZ-ph"
      },
      "id": "aRdRo2swZ-ph"
    },
    {
      "cell_type": "code",
      "execution_count": 34,
      "id": "72b320e6-60c2-41a2-8220-9e5d204a8ce6",
      "metadata": {
        "id": "72b320e6-60c2-41a2-8220-9e5d204a8ce6"
      },
      "outputs": [],
      "source": [
        "import matplotlib.pyplot as plt\n",
        "import numpy as np\n",
        "import pandas as pd\n",
        "\n",
        "from skimage.feature import greycomatrix, greycoprops\n",
        "from skimage import data\n",
        "\n",
        "from sklearn import metrics\n",
        "from sklearn.preprocessing import StandardScaler\n",
        "from sklearn.metrics import precision_score, recall_score, f1_score, accuracy_score\n",
        "\n",
        "from sklearn.ensemble import RandomForestClassifier\n",
        "from sklearn.linear_model import LogisticRegression\n",
        "from sklearn.discriminant_analysis import LinearDiscriminantAnalysis\n",
        "from sklearn.neighbors import KNeighborsClassifier\n",
        "from sklearn.naive_bayes import GaussianNB\n",
        "from sklearn.tree import DecisionTreeClassifier\n",
        "from sklearn.svm import SVC"
      ]
    },
    {
      "cell_type": "code",
      "source": [
        "!pip install python-mnist"
      ],
      "metadata": {
        "colab": {
          "base_uri": "https://localhost:8080/"
        },
        "id": "mOG3zw-TahKv",
        "outputId": "1c29476e-582d-450b-b194-7e494cb7d2bf"
      },
      "id": "mOG3zw-TahKv",
      "execution_count": 62,
      "outputs": [
        {
          "output_type": "stream",
          "name": "stdout",
          "text": [
            "Looking in indexes: https://pypi.org/simple, https://us-python.pkg.dev/colab-wheels/public/simple/\n",
            "Requirement already satisfied: python-mnist in /usr/local/lib/python3.8/dist-packages (0.7)\n"
          ]
        }
      ]
    },
    {
      "cell_type": "markdown",
      "source": [
        "# GLCM Functions"
      ],
      "metadata": {
        "id": "Ugjj3j80h-My"
      },
      "id": "Ugjj3j80h-My"
    },
    {
      "cell_type": "code",
      "source": [
        "def showImagePatch(patch):\n",
        "  plt.imshow(patch, cmap=plt.cm.gray, vmin=0, vmax=255)"
      ],
      "metadata": {
        "id": "RPkTbAQXePqu"
      },
      "id": "RPkTbAQXePqu",
      "execution_count": 36,
      "outputs": []
    },
    {
      "cell_type": "code",
      "source": [
        "def getPatchFromLocation(PATCH_SIZE, image, loc):\n",
        "  patch = image[loc[0]:loc[0] + PATCH_SIZE, loc[1]:loc[1] + PATCH_SIZE]\n",
        "  return patch"
      ],
      "metadata": {
        "id": "ujsy_ddQexRO"
      },
      "id": "ujsy_ddQexRO",
      "execution_count": 37,
      "outputs": []
    },
    {
      "cell_type": "code",
      "source": [
        "def getWantedSizedPatches(image, patchSize):\n",
        "  patches = []\n",
        "  for y in range(0, image.shape[0] - patchSize + 1, patchSize):\n",
        "      for x in range(0, image.shape[1] - patchSize + 1, patchSize):\n",
        "          patches.append(image[y:y + patchSize, x:x + patchSize])\n",
        "  return patches"
      ],
      "metadata": {
        "id": "ENEbDIriXahR"
      },
      "id": "ENEbDIriXahR",
      "execution_count": 38,
      "outputs": []
    },
    {
      "cell_type": "code",
      "source": [
        "# compute some GLCM properties each patch\n",
        "def calGLCMProperties(patches):\n",
        "  dissimilarity = []\n",
        "  correlation = []\n",
        "  for patch in (patches):\n",
        "      glcm = greycomatrix(patch, \n",
        "                          distances=[5],\n",
        "                          angles=[0], # We ignore this\n",
        "                          levels=256, # Number of possible pixel values\n",
        "                          symmetric=True, \n",
        "                          normed=True)\n",
        "      dissimilarity.append(greycoprops(glcm, 'dissimilarity')[0, 0])\n",
        "      correlation.append(greycoprops(glcm, 'correlation')[0, 0])\n",
        "  return [dissimilarity, correlation, glcm]"
      ],
      "metadata": {
        "id": "INHmk_nlsE38"
      },
      "id": "INHmk_nlsE38",
      "execution_count": 39,
      "outputs": []
    },
    {
      "cell_type": "code",
      "execution_count": 40,
      "id": "64c827df-0292-40d0-a8cd-7a552864d5df",
      "metadata": {
        "id": "64c827df-0292-40d0-a8cd-7a552864d5df"
      },
      "outputs": [],
      "source": [
        "def visualiseSelectedPatchesAndComputedFeatures(image, dissimilarity, correlation, PATCH_SIZE, class1, class2):\n",
        "  # create the figure\n",
        "  fig = plt.figure(figsize=(8, 8))\n",
        "\n",
        "  # display original image with locations of patches\n",
        "  ax = fig.add_subplot(3, 2, 1)\n",
        "  ax.imshow(image, cmap=plt.cm.gray, vmin=0, vmax=255)\n",
        "  for (y, x) in grass_locations:\n",
        "      ax.plot(x + PATCH_SIZE / 2, y + PATCH_SIZE / 2, 'gs')\n",
        "\n",
        "  for (y, x) in sky_locations:\n",
        "      ax.plot(x + PATCH_SIZE / 2, y + PATCH_SIZE / 2, 'bs')\n",
        "\n",
        "  ax.set_xlabel('Original Image')\n",
        "  ax.set_xticks([])\n",
        "  ax.set_yticks([])\n",
        "  ax.axis('image')\n",
        "\n",
        "  # for each patch, plot (dissimilarity, correlation)\n",
        "  ax = fig.add_subplot(3, 2, 2)\n",
        "  ax.plot(dissimilarity[:len(class1)], correlation[:len(class1)], 'go', label='Grass')\n",
        "  ax.plot(dissimilarity[len(class1):], correlation[len(class1):], 'bo', label='Sky')\n",
        "  ax.set_xlabel('GLCM Dissimilarity')\n",
        "  ax.set_ylabel('GLCM Correlation')\n",
        "  ax.legend()\n",
        "\n",
        "  # display the image patches\n",
        "  for i, patch in enumerate(class1):\n",
        "      ax = fig.add_subplot(3, len(class1), len(class1)*1 + i + 1)\n",
        "      ax.imshow(patch, cmap=plt.cm.gray, vmin=0, vmax=255)\n",
        "      ax.set_xlabel('Grass %d' % (i + 1))\n",
        "\n",
        "  for i, patch in enumerate(class2):\n",
        "      ax = fig.add_subplot(3, len(class2), len(class2)*2 + i + 1)\n",
        "      ax.imshow(patch, cmap=plt.cm.gray, vmin=0, vmax=255)\n",
        "      ax.set_xlabel('Sky %d' % (i + 1))\n",
        "\n",
        "  # display the patches and plot\n",
        "  fig.suptitle('Grey level co-occurrence matrix features', fontsize=14, y=1.05)\n",
        "  plt.tight_layout()"
      ]
    },
    {
      "cell_type": "markdown",
      "id": "e4e6bbf0-2773-4a95-986a-49d90043ff18",
      "metadata": {
        "id": "e4e6bbf0-2773-4a95-986a-49d90043ff18"
      },
      "source": [
        "# Dataset 1"
      ]
    },
    {
      "cell_type": "markdown",
      "source": [
        "## Read images"
      ],
      "metadata": {
        "id": "BkiH2pv4aBad"
      },
      "id": "BkiH2pv4aBad"
    },
    {
      "cell_type": "code",
      "execution_count": 41,
      "id": "2281be82-ac62-4941-a861-fa1305868fc6",
      "metadata": {
        "id": "2281be82-ac62-4941-a861-fa1305868fc6",
        "outputId": "55af3f9d-c4dd-4f67-f805-3f2f84593281",
        "colab": {
          "base_uri": "https://localhost:8080/",
          "height": 0
        }
      },
      "outputs": [
        {
          "output_type": "display_data",
          "data": {
            "text/plain": [
              "<Figure size 432x288 with 1 Axes>"
            ],
            "image/png": "[encoded data removed]"
          },
          "metadata": {
            "needs_background": "light"
          }
        }
      ],
      "source": [
        "# Load the sample image\n",
        "imageDataset1 = data.camera()\n",
        "plt.imshow(imageDataset1, cmap=\"gray\");"
      ]
    },
    {
      "cell_type": "markdown",
      "source": [
        "## Get Patches"
      ],
      "metadata": {
        "id": "5MJfhfT-aOzl"
      },
      "id": "5MJfhfT-aOzl"
    },
    {
      "cell_type": "markdown",
      "id": "72c75d3c-90cc-4406-a8c2-600ca16fd278",
      "metadata": {
        "id": "72c75d3c-90cc-4406-a8c2-600ca16fd278"
      },
      "source": [
        "First, we select a set of patches from the image. We select 4 grass patches and 4 sky patches, and we register them.\n",
        "Next, there is the code we to select those patches manually and we save them in two independent lists.\n",
        "\n",
        "Remember, that a patch is an image piece. In our case we have defined it as a square of $21 \\times 21$ pixels."
      ]
    },
    {
      "cell_type": "markdown",
      "source": [
        "showImagePatch used to identify sky and grass to bulk up dataset"
      ],
      "metadata": {
        "id": "R4sSwuLGf8j_"
      },
      "id": "R4sSwuLGf8j_"
    },
    {
      "cell_type": "code",
      "source": [
        "PATCH_SIZE = 21"
      ],
      "metadata": {
        "id": "B5tLfWf5SORY"
      },
      "id": "B5tLfWf5SORY",
      "execution_count": 42,
      "outputs": []
    },
    {
      "cell_type": "code",
      "source": [
        "showImagePatch(getPatchFromLocation(PATCH_SIZE, imageDataset1, (280, 454)))"
      ],
      "metadata": {
        "colab": {
          "base_uri": "https://localhost:8080/",
          "height": 265
        },
        "id": "QZ5-jYo2eqxS",
        "outputId": "15a5e2dc-b583-4439-fb5c-0ee7bc5124cb"
      },
      "id": "QZ5-jYo2eqxS",
      "execution_count": 43,
      "outputs": [
        {
          "output_type": "display_data",
          "data": {
            "text/plain": [
              "<Figure size 432x288 with 1 Axes>"
            ],
            "image/png": "[encoded data removed]"
          },
          "metadata": {
            "needs_background": "light"
          }
        }
      ]
    },
    {
      "cell_type": "code",
      "source": [
        "def getGrassPatches(PATCH_SIZE, image):\n",
        "  grass_locations = [(280, 454), (342, 223), (444, 192), (455, 455), (340, 340), (340, 200), (370, 200), (390, 220), (400, 220)]\n",
        "  grass_patches = []\n",
        "  for loc in grass_locations:\n",
        "      grass_patches.append(image[loc[0]:loc[0] + PATCH_SIZE,\n",
        "                              loc[1]:loc[1] + PATCH_SIZE])\n",
        "      patch = getPatchFromLocation(PATCH_SIZE, image, loc)\n",
        "  return [grass_patches, grass_locations]"
      ],
      "metadata": {
        "id": "ut9A0Pn0UQDH"
      },
      "id": "ut9A0Pn0UQDH",
      "execution_count": 44,
      "outputs": []
    },
    {
      "cell_type": "code",
      "source": [
        "def getSkyPatches(PATCH_SIZE, image):\n",
        "  sky_locations = [(38, 34), (139, 28), (37, 437), (145, 379), (150, 350), (150, 30), (30, 420), (150, 370), (30, 40)]\n",
        "  sky_patches = []\n",
        "  for loc in sky_locations:\n",
        "      sky_patches.append(image[loc[0]:loc[0] + PATCH_SIZE,\n",
        "                              loc[1]:loc[1] + PATCH_SIZE])\n",
        "  return [sky_patches, sky_locations]"
      ],
      "metadata": {
        "id": "drcoEtINUDml"
      },
      "id": "drcoEtINUDml",
      "execution_count": 45,
      "outputs": []
    },
    {
      "cell_type": "code",
      "source": [
        "[grass_patches, grass_locations] = getGrassPatches(PATCH_SIZE, imageDataset1)\n",
        "[sky_patches, sky_locations] = getSkyPatches(PATCH_SIZE, imageDataset1)"
      ],
      "metadata": {
        "id": "OfT4I3TtUWD3"
      },
      "id": "OfT4I3TtUWD3",
      "execution_count": 46,
      "outputs": []
    },
    {
      "cell_type": "markdown",
      "source": [
        "## Find GLCM Features"
      ],
      "metadata": {
        "id": "6mwZMjcbaSDk"
      },
      "id": "6mwZMjcbaSDk"
    },
    {
      "cell_type": "markdown",
      "id": "f8bd71d4-ce4d-447b-a039-4adaaf081aed",
      "metadata": {
        "id": "f8bd71d4-ce4d-447b-a039-4adaaf081aed"
      },
      "source": [
        "Once we have the patches selected, we can compute the GLCM features.\n",
        "The computation procedure of this kind of features consists in two steps:\n",
        "1. Compute the Grey Level Co-occurrence Matrix (la GLCM).\n",
        "2. Compute the texture properties of the GLCM.\n",
        "\n",
        "The first step is achieved applying the function [greycomatrix](https://scikit-image.org/docs/dev/api/skimage.feature.html#skimage.feature.graycomatrix) and the second one using [greycoprops](https://scikit-image.org/docs/dev/api/skimage.feature.html#skimage.feature.graycoprops)."
      ]
    },
    {
      "cell_type": "code",
      "source": [
        "[dissimilarity, correlation, glcm] = calGLCMProperties(grass_patches + sky_patches)"
      ],
      "metadata": {
        "id": "ilR_q5VKVnFz"
      },
      "id": "ilR_q5VKVnFz",
      "execution_count": 47,
      "outputs": []
    },
    {
      "cell_type": "code",
      "execution_count": 48,
      "id": "618424c0-011a-4ba2-b8c3-f3bc2986d998",
      "metadata": {
        "id": "618424c0-011a-4ba2-b8c3-f3bc2986d998",
        "outputId": "75fb2862-76bc-41b8-942a-fbeadf7f4926",
        "colab": {
          "base_uri": "https://localhost:8080/"
        }
      },
      "outputs": [
        {
          "output_type": "execute_result",
          "data": {
            "text/plain": [
              "(256, 256, 1, 1)"
            ]
          },
          "metadata": {},
          "execution_count": 48
        }
      ],
      "source": [
        "glcm.shape"
      ]
    },
    {
      "cell_type": "markdown",
      "source": [
        "xs - dissimilarity"
      ],
      "metadata": {
        "id": "Pyfx7rEGXNHj"
      },
      "id": "Pyfx7rEGXNHj"
    },
    {
      "cell_type": "markdown",
      "id": "124c5a08-2c3c-4348-9f02-9294a2913e3e",
      "metadata": {
        "id": "124c5a08-2c3c-4348-9f02-9294a2913e3e"
      },
      "source": [
        "Next, we can visualise the selected patches and the computed features."
      ]
    },
    {
      "cell_type": "code",
      "source": [
        "visualiseSelectedPatchesAndComputedFeatures(imageDataset1, dissimilarity, correlation, PATCH_SIZE, grass_patches, sky_patches)"
      ],
      "metadata": {
        "colab": {
          "base_uri": "https://localhost:8080/",
          "height": 607
        },
        "id": "yUlQXr-BX4k4",
        "outputId": "d63c6a2d-5336-4075-b082-1a5da698f9c9"
      },
      "id": "yUlQXr-BX4k4",
      "execution_count": 49,
      "outputs": [
        {
          "output_type": "stream",
          "name": "stderr",
          "text": [
            "<ipython-input-40-354610d82ede>:40: UserWarning: tight_layout not applied: number of columns in subplot specifications must be multiples of one another.\n",
            "  plt.tight_layout()\n"
          ]
        },
        {
          "output_type": "display_data",
          "data": {
            "text/plain": [
              "<Figure size 576x576 with 20 Axes>"
            ],
            "image/png": "[encoded data removed]"
          },
          "metadata": {
            "needs_background": "light"
          }
        }
      ]
    },
    {
      "cell_type": "markdown",
      "source": [
        "# Dataset *2*"
      ],
      "metadata": {
        "id": "etN0IECya1zx"
      },
      "id": "etN0IECya1zx"
    },
    {
      "cell_type": "markdown",
      "id": "e0836202-5b51-43eb-a489-a7776df3a7fb",
      "metadata": {
        "id": "e0836202-5b51-43eb-a489-a7776df3a7fb"
      },
      "source": [
        "## Download dataset"
      ]
    },
    {
      "cell_type": "code",
      "execution_count": 69,
      "id": "3207e492-d46e-4c57-ad3b-9b60fc66ad48",
      "metadata": {
        "id": "3207e492-d46e-4c57-ad3b-9b60fc66ad48",
        "outputId": "96ab106d-e3d8-4ddb-9bbc-9840a9ec676a",
        "colab": {
          "base_uri": "https://localhost:8080/"
        }
      },
      "outputs": [
        {
          "output_type": "stream",
          "name": "stdout",
          "text": [
            "Cloning into 'fm'...\n",
            "remote: Enumerating objects: 762, done.\u001b[K\n",
            "remote: Counting objects: 100% (4/4), done.\u001b[K\n",
            "remote: Compressing objects: 100% (4/4), done.\u001b[K\n",
            "remote: Total 762 (delta 0), reused 3 (delta 0), pack-reused 758\u001b[K\n",
            "Receiving objects: 100% (762/762), 105.85 MiB | 21.27 MiB/s, done.\n",
            "Resolving deltas: 100% (444/444), done.\n"
          ]
        }
      ],
      "source": [
        "!git clone https://github.com/zalandoresearch/fashion-mnist.git fm"
      ]
    },
    {
      "cell_type": "code",
      "source": [
        "import fm.utils.mnist_reader as mnist_reader"
      ],
      "metadata": {
        "id": "gjaGq-k8Ts-o"
      },
      "id": "gjaGq-k8Ts-o",
      "execution_count": 70,
      "outputs": []
    },
    {
      "cell_type": "code",
      "execution_count": 71,
      "id": "6d0dda1f-5706-4468-b704-97f8c9ef3221",
      "metadata": {
        "id": "6d0dda1f-5706-4468-b704-97f8c9ef3221"
      },
      "outputs": [],
      "source": [
        "X_train, y_train = mnist_reader.load_mnist('fm/data/fashion', kind='train')\n",
        "X_test, y_test = mnist_reader.load_mnist('fm/data/fashion', kind='t10k')"
      ]
    },
    {
      "cell_type": "code",
      "execution_count": 72,
      "id": "f03acc4f-72d9-4307-a4b7-d4f3f85bd367",
      "metadata": {
        "id": "f03acc4f-72d9-4307-a4b7-d4f3f85bd367",
        "outputId": "2b2b2776-0755-48f1-8e48-6d113d91e63c",
        "colab": {
          "base_uri": "https://localhost:8080/"
        }
      },
      "outputs": [
        {
          "output_type": "execute_result",
          "data": {
            "text/plain": [
              "(60000, 784)"
            ]
          },
          "metadata": {},
          "execution_count": 72
        }
      ],
      "source": [
        "X_train.shape"
      ]
    },
    {
      "cell_type": "code",
      "execution_count": 73,
      "id": "ed3d4c16-195e-4c2f-a03e-8bb7fe56441a",
      "metadata": {
        "id": "ed3d4c16-195e-4c2f-a03e-8bb7fe56441a",
        "colab": {
          "base_uri": "https://localhost:8080/",
          "height": 282
        },
        "outputId": "09b05a32-3b35-4551-e179-d44543d90ff8"
      },
      "outputs": [
        {
          "output_type": "execute_result",
          "data": {
            "text/plain": [
              "<matplotlib.image.AxesImage at 0x7ff32dd85310>"
            ]
          },
          "metadata": {},
          "execution_count": 73
        },
        {
          "output_type": "display_data",
          "data": {
            "text/plain": [
              "<Figure size 432x288 with 1 Axes>"
            ],
            "image/png": "[encoded data removed]"
          },
          "metadata": {
            "needs_background": "light"
          }
        }
      ],
      "source": [
        "X_train = X_train[0].reshape((28, 28))\n",
        "plt.imshow(X_train, cmap=\"gray\")"
      ]
    },
    {
      "cell_type": "markdown",
      "id": "2fb9e8da-18d7-49c6-a2b9-9fe6d94b4671",
      "metadata": {
        "id": "2fb9e8da-18d7-49c6-a2b9-9fe6d94b4671"
      },
      "source": [
        "## Feature extraction"
      ]
    },
    {
      "cell_type": "markdown",
      "source": [
        "### Training Data"
      ],
      "metadata": {
        "id": "zlrecmur0HtG"
      },
      "id": "zlrecmur0HtG"
    },
    {
      "cell_type": "code",
      "source": [
        "PATCH_SIZE = int(28 / 4)\n",
        "PATCH_SIZE"
      ],
      "metadata": {
        "colab": {
          "base_uri": "https://localhost:8080/"
        },
        "id": "9QMlCvdHnPnM",
        "outputId": "307cc49b-50db-4de3-d86f-e76e5a8687f0"
      },
      "id": "9QMlCvdHnPnM",
      "execution_count": 74,
      "outputs": [
        {
          "output_type": "execute_result",
          "data": {
            "text/plain": [
              "7"
            ]
          },
          "metadata": {},
          "execution_count": 74
        }
      ]
    },
    {
      "cell_type": "code",
      "source": [
        "X_train.shape[0]"
      ],
      "metadata": {
        "colab": {
          "base_uri": "https://localhost:8080/"
        },
        "id": "iE0ajw3yZyv1",
        "outputId": "845e316c-19ab-4717-94cf-e54ebd93acc5"
      },
      "id": "iE0ajw3yZyv1",
      "execution_count": 75,
      "outputs": [
        {
          "output_type": "execute_result",
          "data": {
            "text/plain": [
              "28"
            ]
          },
          "metadata": {},
          "execution_count": 75
        }
      ]
    },
    {
      "cell_type": "code",
      "source": [
        "def getWantedSizedPatches(image, patchSize):\n",
        "  patches = []\n",
        "  for y in range(0, image.shape[0] - patchSize + 1, patchSize):\n",
        "      for x in range(0, image.shape[1] - patchSize + 1, patchSize):\n",
        "          patches.append(image[y:y + patchSize, x:x + patchSize])\n",
        "  return patches"
      ],
      "metadata": {
        "id": "L5MDWGHNZoFR"
      },
      "id": "L5MDWGHNZoFR",
      "execution_count": 76,
      "outputs": []
    },
    {
      "cell_type": "code",
      "execution_count": 77,
      "id": "716fe84d-0413-40af-ae12-500ffa7e7137",
      "metadata": {
        "id": "716fe84d-0413-40af-ae12-500ffa7e7137"
      },
      "outputs": [],
      "source": [
        "patchesXTrain = getWantedSizedPatches(X_train, PATCH_SIZE)"
      ]
    },
    {
      "cell_type": "code",
      "source": [
        "len(patchesXTrain)"
      ],
      "metadata": {
        "colab": {
          "base_uri": "https://localhost:8080/"
        },
        "id": "FxKo7_kD0jwZ",
        "outputId": "82981fce-b1d8-48a4-8968-bf11faee9f70"
      },
      "id": "FxKo7_kD0jwZ",
      "execution_count": 78,
      "outputs": [
        {
          "output_type": "execute_result",
          "data": {
            "text/plain": [
              "16"
            ]
          },
          "metadata": {},
          "execution_count": 78
        }
      ]
    },
    {
      "cell_type": "code",
      "source": [
        "def showPatches(patches):\n",
        "  fig, axes = plt.subplots(4, 4)\n",
        "  axes = axes.flatten()\n",
        "\n",
        "  for i, patch in enumerate(patches):\n",
        "      axes[i].imshow(patch)\n",
        "      axes[i].set_xlabel('Number %d' % (i + 1))\n",
        "\n",
        "  plt.show()"
      ],
      "metadata": {
        "id": "bCQ3LGyBc1VZ"
      },
      "id": "bCQ3LGyBc1VZ",
      "execution_count": 79,
      "outputs": []
    },
    {
      "cell_type": "code",
      "source": [
        "showPatches(patchesXTrain)"
      ],
      "metadata": {
        "colab": {
          "base_uri": "https://localhost:8080/",
          "height": 0
        },
        "id": "x06mQnEI0v70",
        "outputId": "dc3d5a07-be27-49dc-90e9-03e7964fdc41"
      },
      "id": "x06mQnEI0v70",
      "execution_count": 80,
      "outputs": [
        {
          "output_type": "display_data",
          "data": {
            "text/plain": [
              "<Figure size 432x288 with 16 Axes>"
            ],
            "image/png": "[encoded data removed]"
          },
          "metadata": {
            "needs_background": "light"
          }
        }
      ]
    },
    {
      "cell_type": "code",
      "source": [
        "len(patchesXTrain)"
      ],
      "metadata": {
        "colab": {
          "base_uri": "https://localhost:8080/"
        },
        "id": "EvSGYQYpevMq",
        "outputId": "70485766-26b3-44fd-a28c-1cc6ac4035ce"
      },
      "id": "EvSGYQYpevMq",
      "execution_count": 81,
      "outputs": [
        {
          "output_type": "execute_result",
          "data": {
            "text/plain": [
              "16"
            ]
          },
          "metadata": {},
          "execution_count": 81
        }
      ]
    },
    {
      "cell_type": "code",
      "source": [
        "# compute some GLCM properties each patch\n",
        "def calGLCMProperties(patches):\n",
        "  dissimilarity = []\n",
        "  correlation = []\n",
        "  constrast = []\n",
        "  energy = []\n",
        "  for patch in (patches):\n",
        "    glcm = greycomatrix(patch, \n",
        "                        distances=[5],\n",
        "                        angles=[0], # We ignore this\n",
        "                        levels=256, # Number of possible pixel values\n",
        "                        symmetric=False, \n",
        "                        normed=True)\n",
        "\n",
        "    dissimilarity.append(greycoprops(glcm, 'dissimilarity')[0, 0])\n",
        "    correlation.append(greycoprops(glcm, 'correlation')[0, 0])\n",
        "    constrast.append(greycoprops(glcm, 'contrast')[0, 0])\n",
        "    energy.append(greycoprops(glcm, 'energy')[0, 0])\n",
        "\n",
        "  return [dissimilarity, correlation, constrast, energy, glcm]"
      ],
      "metadata": {
        "id": "lMYrjq_TfUmv"
      },
      "id": "lMYrjq_TfUmv",
      "execution_count": 82,
      "outputs": []
    },
    {
      "cell_type": "code",
      "source": [
        "[dissimilarity, correlation, constrast, energy, glcm] = calGLCMProperties(np.array(patchesXTrain))"
      ],
      "metadata": {
        "id": "KbQGcH4vkygZ"
      },
      "id": "KbQGcH4vkygZ",
      "execution_count": 83,
      "outputs": []
    },
    {
      "cell_type": "code",
      "source": [
        "len(dissimilarity)"
      ],
      "metadata": {
        "colab": {
          "base_uri": "https://localhost:8080/"
        },
        "id": "NvAguJiDe0YM",
        "outputId": "6b6bc366-a5fa-4b13-e0c5-0604f30e6ed2"
      },
      "id": "NvAguJiDe0YM",
      "execution_count": 84,
      "outputs": [
        {
          "output_type": "execute_result",
          "data": {
            "text/plain": [
              "16"
            ]
          },
          "metadata": {},
          "execution_count": 84
        }
      ]
    },
    {
      "cell_type": "code",
      "execution_count": 85,
      "id": "186bebf1-f92a-460e-9d2a-60cc720cc77a",
      "metadata": {
        "id": "186bebf1-f92a-460e-9d2a-60cc720cc77a",
        "outputId": "1ba6c183-022f-41eb-8a0e-d27e7a488663",
        "colab": {
          "base_uri": "https://localhost:8080/",
          "height": 0
        }
      },
      "outputs": [
        {
          "output_type": "display_data",
          "data": {
            "text/plain": [
              "<Figure size 432x288 with 1 Axes>"
            ],
            "image/png": "[encoded data removed]"
          },
          "metadata": {
            "needs_background": "light"
          }
        }
      ],
      "source": [
        "# for each patch, plot (dissimilarity, correlation)\n",
        "plt.plot(dissimilarity[:len(patchesXTrain)], correlation[:len(patchesXTrain)], 'go')\n",
        "plt.xlabel('GLCM Dissimilarity')\n",
        "plt.ylabel('GLCM Correlation')\n",
        "plt.show()"
      ]
    },
    {
      "cell_type": "code",
      "execution_count": 86,
      "id": "ba8cc608-4bc3-4717-b6e4-fe0b4831c5f0",
      "metadata": {
        "id": "ba8cc608-4bc3-4717-b6e4-fe0b4831c5f0",
        "outputId": "2c87b3d3-ff41-4e30-f359-c6316d585361",
        "colab": {
          "base_uri": "https://localhost:8080/"
        }
      },
      "outputs": [
        {
          "output_type": "execute_result",
          "data": {
            "text/plain": [
              "16"
            ]
          },
          "metadata": {},
          "execution_count": 86
        }
      ],
      "source": [
        "PATCH_PER_IMAGE = int(28 / PATCH_SIZE) * int(28 / PATCH_SIZE)\n",
        "PATCH_PER_IMAGE"
      ]
    },
    {
      "cell_type": "code",
      "source": [
        "y_train = [0, 0, 1, 1, 0, 0, 1, 1, 1, 1, 1, 1, 1, 1, 1, 1]\n",
        "  \n",
        "# Calling DataFrame constructor after zipping\n",
        "# both lists, with columns specified\n",
        "X_train = pd.DataFrame(list(zip(dissimilarity, correlation, constrast, energy)),\n",
        "               columns =['dissimilarity', 'correlation', 'contrast', 'energy'])\n",
        "\n",
        "sc = StandardScaler()\n",
        "sc.fit(X_train)\n",
        "X_train= sc.transform(X_train)"
      ],
      "metadata": {
        "id": "4SgjXEThxjy2"
      },
      "id": "4SgjXEThxjy2",
      "execution_count": 87,
      "outputs": []
    },
    {
      "cell_type": "markdown",
      "source": [
        "### Test Data"
      ],
      "metadata": {
        "id": "h5O05Ao_1R13"
      },
      "id": "h5O05Ao_1R13"
    },
    {
      "cell_type": "code",
      "source": [
        "X_test= X_test[0].reshape((28, 28))\n",
        "plt.imshow(X_test, cmap=\"gray\")"
      ],
      "metadata": {
        "colab": {
          "base_uri": "https://localhost:8080/",
          "height": 0
        },
        "id": "Is_XpQwPy76T",
        "outputId": "53dbffad-3b85-4eae-f1a5-c86db986fb50"
      },
      "id": "Is_XpQwPy76T",
      "execution_count": 88,
      "outputs": [
        {
          "output_type": "execute_result",
          "data": {
            "text/plain": [
              "<matplotlib.image.AxesImage at 0x7ff32b743eb0>"
            ]
          },
          "metadata": {},
          "execution_count": 88
        },
        {
          "output_type": "display_data",
          "data": {
            "text/plain": [
              "<Figure size 432x288 with 1 Axes>"
            ],
            "image/png": "[encoded data removed]"
          },
          "metadata": {
            "needs_background": "light"
          }
        }
      ]
    },
    {
      "cell_type": "code",
      "source": [
        "patchesXTest = getWantedSizedPatches(X_test, PATCH_SIZE)"
      ],
      "metadata": {
        "id": "4x-S0JH21XTK"
      },
      "id": "4x-S0JH21XTK",
      "execution_count": 89,
      "outputs": []
    },
    {
      "cell_type": "code",
      "source": [
        "showPatches(patchesXTest)"
      ],
      "metadata": {
        "colab": {
          "base_uri": "https://localhost:8080/",
          "height": 0
        },
        "id": "z8Xp8LIZ2Jwk",
        "outputId": "53fae50a-eb2e-4fe3-8ee6-a37d54f4c97b"
      },
      "id": "z8Xp8LIZ2Jwk",
      "execution_count": 90,
      "outputs": [
        {
          "output_type": "display_data",
          "data": {
            "text/plain": [
              "<Figure size 432x288 with 16 Axes>"
            ],
            "image/png": "[encoded data removed]"
          },
          "metadata": {
            "needs_background": "light"
          }
        }
      ]
    },
    {
      "cell_type": "code",
      "source": [
        "y_test = [0, 0, 0, 0, 0, 0, 1, 1, 1, 1, 1, 1, 0, 0, 0, 0]\n",
        "  \n",
        "# Calling DataFrame constructor after zipping\n",
        "# both lists, with columns specified\n",
        "X_test = pd.DataFrame(list(zip(dissimilarity, correlation, constrast, energy)),\n",
        "               columns =['dissimilarity', 'correlation', 'constrast', 'energy'])\n",
        "\n",
        "sc = StandardScaler()\n",
        "sc.fit(X_test)\n",
        "X_test = sc.transform(X_test)"
      ],
      "metadata": {
        "id": "0GHBv5cF2PKL"
      },
      "id": "0GHBv5cF2PKL",
      "execution_count": 91,
      "outputs": []
    },
    {
      "cell_type": "markdown",
      "id": "52318d8b-bbd2-4d3f-920c-55ca3ff5e931",
      "metadata": {
        "jp-MarkdownHeadingCollapsed": true,
        "tags": [],
        "id": "52318d8b-bbd2-4d3f-920c-55ca3ff5e931"
      },
      "source": [
        "## Tasks - Classification\n",
        "\n",
        "Build your own classifier and extract metrics to know how the classifier is working.\n",
        "\n",
        "Detect with which classes is the classifier working better and worse. Try to explain the reasons.\n",
        "\n",
        "\n",
        "**HINT:** The confusion matrix can be very helpful.\n",
        "\n",
        "Useful link: https://towardsdatascience.com/multi-class-classification-extracting-performance-metrics-from-the-confusion-matrix-b379b427a872\n"
      ]
    },
    {
      "cell_type": "code",
      "source": [
        "models = dict()\n",
        "\n",
        "models['GNB'] = GaussianNB()\n",
        "models['LR'] = LogisticRegression()\n",
        "models['DT'] = DecisionTreeClassifier()\n",
        "models['SVM'] = SVC()\n",
        "models['KNN'] = KNeighborsClassifier(n_neighbors=5)"
      ],
      "metadata": {
        "id": "vsou4_BUOaXk"
      },
      "id": "vsou4_BUOaXk",
      "execution_count": 92,
      "outputs": []
    },
    {
      "cell_type": "code",
      "source": [
        "def evaluateModels(models, X_train, X_test, y_train, y_test):\n",
        "  accuracy, precision, recall, f1Score, predictions = {}, {}, {}, {}, {}\n",
        "\n",
        "  for key in models.keys():\n",
        "      # print(SCORERS.keys())\n",
        "      print(\"Model:  \" + key)\n",
        "      models[key].fit(X_train, y_train)\n",
        "      y_pred = models[key].predict(X_test)\n",
        "\n",
        "      recall[key] = recall_score(y_test, y_pred)\n",
        "      accuracy[key] = accuracy_score(y_test, y_pred)\n",
        "      precision[key] = precision_score(y_test, y_pred)\n",
        "      f1Score[key] = f1_score(y_test, y_pred)\n",
        "\n",
        "  print(\"\")\n",
        "  df_model = pd.DataFrame(index=models.keys(), columns=['Accuracy', 'Precision', 'Recall'])\n",
        "  df_model['Accuracy'] = accuracy.values()\n",
        "  df_model['Precision'] = precision.values()\n",
        "  df_model['Recall'] = recall.values()\n",
        "  df_model['F1'] = f1Score.values()\n",
        "\n",
        "  print(df_model)\n",
        "\n",
        "  ax  = df_model.plot.bar(rot=45)\n",
        "  ax.legend(ncol= len(models.keys()), bbox_to_anchor=(0, 1), loc='lower left', prop={'size': 10})\n",
        "  plt.tight_layout()"
      ],
      "metadata": {
        "id": "AFk2HSiVO2G2"
      },
      "id": "AFk2HSiVO2G2",
      "execution_count": 93,
      "outputs": []
    },
    {
      "cell_type": "code",
      "source": [
        "evaluateModels(models, X_train, X_test, y_train, y_test)"
      ],
      "metadata": {
        "colab": {
          "base_uri": "https://localhost:8080/",
          "height": 505
        },
        "id": "QrQH6KIlVUNo",
        "outputId": "14ebabed-c9f9-476e-ddea-fa5ad374de6d"
      },
      "id": "QrQH6KIlVUNo",
      "execution_count": 94,
      "outputs": [
        {
          "output_type": "stream",
          "name": "stdout",
          "text": [
            "Model:  GNB\n",
            "Model:  LR\n",
            "Model:  DT\n",
            "Model:  SVM\n",
            "Model:  KNN\n",
            "\n",
            "     Accuracy  Precision  Recall        F1\n",
            "GNB    0.6250   0.500000     1.0  0.666667\n",
            "LR     0.5625   0.461538     1.0  0.631579\n",
            "DT     0.6250   0.500000     1.0  0.666667\n",
            "SVM    0.6250   0.500000     1.0  0.666667\n",
            "KNN    0.5625   0.461538     1.0  0.631579\n"
          ]
        },
        {
          "output_type": "display_data",
          "data": {
            "text/plain": [
              "<Figure size 432x288 with 1 Axes>"
            ],
            "image/png": "[encoded data removed]"
          },
          "metadata": {
            "needs_background": "light"
          }
        }
      ]
    },
    {
      "cell_type": "code",
      "source": [
        "def confusionMatrix(model, X_test, y_test):\n",
        "  predicted = model.predict(X_test)\n",
        "  confusion_matrix = metrics.confusion_matrix(y_test, predicted)\n",
        "\n",
        "  cm_display = metrics.ConfusionMatrixDisplay(confusion_matrix = confusion_matrix, display_labels = [False, True])\n",
        "\n",
        "  cm_display.plot()\n",
        "  plt.show()"
      ],
      "metadata": {
        "id": "elf7WMq3VsQO"
      },
      "id": "elf7WMq3VsQO",
      "execution_count": 95,
      "outputs": []
    },
    {
      "cell_type": "code",
      "source": [
        "confusionMatrix(models[\"GNB\"], X_test, y_test)"
      ],
      "metadata": {
        "colab": {
          "base_uri": "https://localhost:8080/",
          "height": 283
        },
        "id": "1gKJx5nJ2x5p",
        "outputId": "7c139a1d-aff6-4f3b-bda0-f58b0a57b90c"
      },
      "id": "1gKJx5nJ2x5p",
      "execution_count": 96,
      "outputs": [
        {
          "output_type": "display_data",
          "data": {
            "text/plain": [
              "<Figure size 432x288 with 2 Axes>"
            ],
            "image/png": "[encoded data removed]"
          },
          "metadata": {
            "needs_background": "light"
          }
        }
      ]
    }
  ],
  "metadata": {
    "kernelspec": {
      "display_name": "Python 3 (ipykernel)",
      "language": "python",
      "name": "python3"
    },
    "language_info": {
      "codemirror_mode": {
        "name": "ipython",
        "version": 3
      },
      "file_extension": ".py",
      "mimetype": "text/x-python",
      "name": "python",
      "nbconvert_exporter": "python",
      "pygments_lexer": "ipython3",
      "version": "3.9.6"
    },
    "colab": {
      "provenance": [],
      "collapsed_sections": [
        "BkiH2pv4aBad",
        "5MJfhfT-aOzl",
        "6mwZMjcbaSDk",
        "zlrecmur0HtG",
        "h5O05Ao_1R13"
      ],
      "include_colab_link": true
    }
  },
  "nbformat": 4,
  "nbformat_minor": 5
}