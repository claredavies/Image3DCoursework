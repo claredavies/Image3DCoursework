{
  "cells": [
    {
      "cell_type": "markdown",
      "metadata": {
        "id": "view-in-github",
        "colab_type": "text"
      },
      "source": [
        "<a href=\"https://colab.research.google.com/github/claredavies/Image3DCoursework/blob/main/GLCM/GLCM.ipynb\" target=\"_parent\"><img src=\"https://colab.research.google.com/assets/colab-badge.svg\" alt=\"Open In Colab\"/></a>"
      ]
    },
    {
      "cell_type": "markdown",
      "source": [
        "# Libraries"
      ],
      "metadata": {
        "id": "aRdRo2swZ-ph"
      },
      "id": "aRdRo2swZ-ph"
    },
    {
      "cell_type": "code",
      "execution_count": 50,
      "id": "72b320e6-60c2-41a2-8220-9e5d204a8ce6",
      "metadata": {
        "id": "72b320e6-60c2-41a2-8220-9e5d204a8ce6"
      },
      "outputs": [],
      "source": [
        "import matplotlib.pyplot as plt\n",
        "import numpy as np\n",
        "\n",
        "from skimage.feature import greycomatrix, greycoprops\n",
        "from skimage import data\n",
        "\n",
        "import matplotlib.pyplot as plt\n",
        "import numpy\n",
        "from sklearn import metrics\n",
        "\n",
        "from numpy import mean\n",
        "from numpy import std\n",
        "from sklearn.model_selection import KFold\n",
        "from tensorflow.keras.datasets import mnist\n",
        "from tensorflow.keras.utils import to_categorical\n",
        "from tensorflow.keras.models import Sequential\n",
        "from tensorflow.keras.layers import Conv2D\n",
        "from tensorflow.keras.utils import to_categorical\n",
        "from tensorflow.keras.models import Sequential\n",
        "from tensorflow.keras.layers import Conv2D\n",
        "from tensorflow.keras.layers import MaxPooling2D\n",
        "from tensorflow.keras.layers import Dense\n",
        "from tensorflow.keras.layers import Flatten\n",
        "from tensorflow.keras.optimizers import SGD\n",
        "from sklearn.preprocessing import StandardScaler\n",
        "\n",
        "from sklearn.metrics import precision_score, recall_score, f1_score, accuracy_score\n",
        "\n",
        "\n",
        "#Import Random Forest Model\n",
        "from sklearn.ensemble import RandomForestClassifier\n",
        "from sklearn.linear_model import LogisticRegression\n",
        "from sklearn.discriminant_analysis import LinearDiscriminantAnalysis\n",
        "from sklearn.neighbors import KNeighborsClassifier\n",
        "from sklearn.naive_bayes import GaussianNB\n",
        "from sklearn.tree import DecisionTreeClassifier\n",
        "from sklearn.svm import SVC\n",
        "\n",
        "import pandas as pd"
      ]
    },
    {
      "cell_type": "code",
      "source": [
        "!pip install python-mnist"
      ],
      "metadata": {
        "colab": {
          "base_uri": "https://localhost:8080/"
        },
        "id": "mOG3zw-TahKv",
        "outputId": "6d18fb8a-cc22-42d0-b833-a8036334b164"
      },
      "id": "mOG3zw-TahKv",
      "execution_count": 4,
      "outputs": [
        {
          "output_type": "stream",
          "name": "stdout",
          "text": [
            "Looking in indexes: https://pypi.org/simple, https://us-python.pkg.dev/colab-wheels/public/simple/\n",
            "Collecting python-mnist\n",
            "  Downloading python_mnist-0.7-py2.py3-none-any.whl (9.6 kB)\n",
            "Installing collected packages: python-mnist\n",
            "Successfully installed python-mnist-0.7\n"
          ]
        }
      ]
    },
    {
      "cell_type": "markdown",
      "source": [
        "# GLCM Functions"
      ],
      "metadata": {
        "id": "Ugjj3j80h-My"
      },
      "id": "Ugjj3j80h-My"
    },
    {
      "cell_type": "code",
      "source": [
        "def showImagePatch(patch):\n",
        "  plt.imshow(patch, cmap=plt.cm.gray, vmin=0, vmax=255)"
      ],
      "metadata": {
        "id": "RPkTbAQXePqu"
      },
      "id": "RPkTbAQXePqu",
      "execution_count": 8,
      "outputs": []
    },
    {
      "cell_type": "code",
      "source": [
        "def getPatchFromLocation(PATCH_SIZE, image, loc):\n",
        "  patch = image[loc[0]:loc[0] + PATCH_SIZE, loc[1]:loc[1] + PATCH_SIZE]\n",
        "  return patch"
      ],
      "metadata": {
        "id": "ujsy_ddQexRO"
      },
      "id": "ujsy_ddQexRO",
      "execution_count": 19,
      "outputs": []
    },
    {
      "cell_type": "code",
      "execution_count": 10,
      "id": "f4963eb7-36c9-43e8-b5d5-1c6f203be00e",
      "metadata": {
        "id": "f4963eb7-36c9-43e8-b5d5-1c6f203be00e"
      },
      "outputs": [],
      "source": [
        "# compute some GLCM properties each patch\n",
        "def calGLCMPropertiesMultiClass(class1Patches, class2Patches):\n",
        "  dissimilarity = []\n",
        "  correlation = []\n",
        "  for patch in (class1Patches + class2Patches):\n",
        "      glcm = greycomatrix(patch, \n",
        "                          distances=[5],\n",
        "                          angles=[0], # We ignore this\n",
        "                          levels=256, # Number of possible pixel values\n",
        "                          symmetric=True, \n",
        "                          normed=True)\n",
        "      dissimilarity.append(greycoprops(glcm, 'dissimilarity')[0, 0])\n",
        "      correlation.append(greycoprops(glcm, 'correlation')[0, 0])\n",
        "  return [dissimilarity, correlation, glcm]"
      ]
    },
    {
      "cell_type": "code",
      "source": [
        "# compute some GLCM properties each patch\n",
        "def calGLCMProperties(patches):\n",
        "  dissimilarity = []\n",
        "  correlation = []\n",
        "  for patch in (patches):\n",
        "      glcm = greycomatrix(patch, \n",
        "                          distances=[5],\n",
        "                          angles=[0], # We ignore this\n",
        "                          levels=256, # Number of possible pixel values\n",
        "                          symmetric=True, \n",
        "                          normed=True)\n",
        "      dissimilarity.append(greycoprops(glcm, 'dissimilarity')[0, 0])\n",
        "      correlation.append(greycoprops(glcm, 'correlation')[0, 0])\n",
        "  return [dissimilarity, correlation, glcm]"
      ],
      "metadata": {
        "id": "INHmk_nlsE38"
      },
      "id": "INHmk_nlsE38",
      "execution_count": 11,
      "outputs": []
    },
    {
      "cell_type": "code",
      "source": [
        "def visualiseSelectedPatchesAndComputedFeatures(image, dissimilarity, correlation, PATCH_SIZE, patches):\n",
        "  # create the figure\n",
        "  fig = plt.figure(figsize=(8, 8))\n",
        "\n",
        "  # display original image with locations of patches\n",
        "  ax = fig.add_subplot(3, 2, 1)\n",
        "  ax.imshow(image, cmap=plt.cm.gray, vmin=0, vmax=255)\n",
        "  for (y, x) in grass_locations:\n",
        "      ax.plot(x + PATCH_SIZE / 2, y + PATCH_SIZE / 2, 'gs')\n",
        "\n",
        "  for (y, x) in sky_locations:\n",
        "      ax.plot(x + PATCH_SIZE / 2, y + PATCH_SIZE / 2, 'bs')\n",
        "\n",
        "  ax.set_xlabel('Original Image')\n",
        "  ax.set_xticks([])\n",
        "  ax.set_yticks([])\n",
        "  ax.axis('image')\n",
        "\n",
        "  # for each patch, plot (dissimilarity, correlation)\n",
        "  ax = fig.add_subplot(3, 2, 2)\n",
        "  ax.plot(dissimilarity[:len(patches)], correlation[:len(patches)], 'go', label='Grass')\n",
        "  ax.plot(dissimilarity[len(patches):], correlation[len(patches):], 'bo', label='Sky')\n",
        "  ax.set_xlabel('GLCM Dissimilarity')\n",
        "  ax.set_ylabel('GLCM Correlation')\n",
        "  ax.legend()\n",
        "\n",
        "  # display the image patches\n",
        "  for i, patch in enumerate(patches):\n",
        "      ax = fig.add_subplot(3, len(patches), len(patches)*1 + i + 1)\n",
        "      ax.imshow(patch, cmap=plt.cm.gray, vmin=0, vmax=255)\n",
        "      ax.set_xlabel('Grass %d' % (i + 1))\n",
        "\n",
        "  # display the patches and plot\n",
        "  fig.suptitle('Grey level co-occurrence matrix features', fontsize=14, y=1.05)\n",
        "  plt.tight_layout()"
      ],
      "metadata": {
        "id": "f9ZYqT8dsOQC"
      },
      "id": "f9ZYqT8dsOQC",
      "execution_count": 12,
      "outputs": []
    },
    {
      "cell_type": "code",
      "execution_count": 13,
      "id": "64c827df-0292-40d0-a8cd-7a552864d5df",
      "metadata": {
        "id": "64c827df-0292-40d0-a8cd-7a552864d5df"
      },
      "outputs": [],
      "source": [
        "def visualiseSelectedPatchesAndComputedFeaturesMultiClass(image, dissimilarity, correlation, PATCH_SIZE, class1, class2):\n",
        "  # create the figure\n",
        "  fig = plt.figure(figsize=(8, 8))\n",
        "\n",
        "  # display original image with locations of patches\n",
        "  ax = fig.add_subplot(3, 2, 1)\n",
        "  ax.imshow(image, cmap=plt.cm.gray, vmin=0, vmax=255)\n",
        "  for (y, x) in grass_locations:\n",
        "      ax.plot(x + PATCH_SIZE / 2, y + PATCH_SIZE / 2, 'gs')\n",
        "\n",
        "  for (y, x) in sky_locations:\n",
        "      ax.plot(x + PATCH_SIZE / 2, y + PATCH_SIZE / 2, 'bs')\n",
        "\n",
        "  ax.set_xlabel('Original Image')\n",
        "  ax.set_xticks([])\n",
        "  ax.set_yticks([])\n",
        "  ax.axis('image')\n",
        "\n",
        "  # for each patch, plot (dissimilarity, correlation)\n",
        "  ax = fig.add_subplot(3, 2, 2)\n",
        "  ax.plot(dissimilarity[:len(class1)], correlation[:len(class1)], 'go', label='Grass')\n",
        "  ax.plot(dissimilarity[len(class1):], correlation[len(class1):], 'bo', label='Sky')\n",
        "  ax.set_xlabel('GLCM Dissimilarity')\n",
        "  ax.set_ylabel('GLCM Correlation')\n",
        "  ax.legend()\n",
        "\n",
        "  # display the image patches\n",
        "  for i, patch in enumerate(class1):\n",
        "      ax = fig.add_subplot(3, len(class1), len(class1)*1 + i + 1)\n",
        "      ax.imshow(patch, cmap=plt.cm.gray, vmin=0, vmax=255)\n",
        "      ax.set_xlabel('Grass %d' % (i + 1))\n",
        "\n",
        "  for i, patch in enumerate(class2):\n",
        "      ax = fig.add_subplot(3, len(class2), len(class2)*2 + i + 1)\n",
        "      ax.imshow(patch, cmap=plt.cm.gray, vmin=0, vmax=255)\n",
        "      ax.set_xlabel('Sky %d' % (i + 1))\n",
        "\n",
        "  # display the patches and plot\n",
        "  fig.suptitle('Grey level co-occurrence matrix features', fontsize=14, y=1.05)\n",
        "  plt.tight_layout()"
      ]
    },
    {
      "cell_type": "markdown",
      "id": "e4e6bbf0-2773-4a95-986a-49d90043ff18",
      "metadata": {
        "id": "e4e6bbf0-2773-4a95-986a-49d90043ff18"
      },
      "source": [
        "# Dataset 1"
      ]
    },
    {
      "cell_type": "markdown",
      "source": [
        "## Read images"
      ],
      "metadata": {
        "id": "BkiH2pv4aBad"
      },
      "id": "BkiH2pv4aBad"
    },
    {
      "cell_type": "code",
      "execution_count": 14,
      "id": "2281be82-ac62-4941-a861-fa1305868fc6",
      "metadata": {
        "id": "2281be82-ac62-4941-a861-fa1305868fc6",
        "outputId": "96b808ba-5a0a-4ae6-c83e-ed3376208212",
        "colab": {
          "base_uri": "https://localhost:8080/",
          "height": 0
        }
      },
      "outputs": [
        {
          "output_type": "display_data",
          "data": {
            "text/plain": [
              "<Figure size 432x288 with 1 Axes>"
            ],
            "image/png": "[encoded data removed]"
          },
          "metadata": {
            "needs_background": "light"
          }
        }
      ],
      "source": [
        "# Load the sample image\n",
        "imageDataset1 = data.camera()\n",
        "plt.imshow(imageDataset1, cmap=\"gray\");"
      ]
    },
    {
      "cell_type": "markdown",
      "source": [
        "## Get Patches"
      ],
      "metadata": {
        "id": "5MJfhfT-aOzl"
      },
      "id": "5MJfhfT-aOzl"
    },
    {
      "cell_type": "markdown",
      "id": "72c75d3c-90cc-4406-a8c2-600ca16fd278",
      "metadata": {
        "id": "72c75d3c-90cc-4406-a8c2-600ca16fd278"
      },
      "source": [
        "First, we select a set of patches from the image. We select 4 grass patches and 4 sky patches, and we register them.\n",
        "Next, there is the code we to select those patches manually and we save them in two independent lists.\n",
        "\n",
        "Remember, that a patch is an image piece. In our case we have defined it as a square of $21 \\times 21$ pixels."
      ]
    },
    {
      "cell_type": "markdown",
      "source": [
        "showImagePatch used to identify sky and grass to bulk up dataset"
      ],
      "metadata": {
        "id": "R4sSwuLGf8j_"
      },
      "id": "R4sSwuLGf8j_"
    },
    {
      "cell_type": "code",
      "source": [
        "PATCH_SIZE = 21"
      ],
      "metadata": {
        "id": "B5tLfWf5SORY"
      },
      "id": "B5tLfWf5SORY",
      "execution_count": 20,
      "outputs": []
    },
    {
      "cell_type": "code",
      "source": [
        "showImagePatch(getPatchFromLocation(PATCH_SIZE, imageDataset1, (150, 30)))"
      ],
      "metadata": {
        "colab": {
          "base_uri": "https://localhost:8080/",
          "height": 265
        },
        "id": "QZ5-jYo2eqxS",
        "outputId": "97cbe25e-e525-4af7-8153-a4ef0f655918"
      },
      "id": "QZ5-jYo2eqxS",
      "execution_count": 22,
      "outputs": [
        {
          "output_type": "display_data",
          "data": {
            "text/plain": [
              "<Figure size 432x288 with 1 Axes>"
            ],
            "image/png": "[encoded data removed]"
          },
          "metadata": {
            "needs_background": "light"
          }
        }
      ]
    },
    {
      "cell_type": "code",
      "source": [
        "def getGrassPatches(PATCH_SIZE, image):\n",
        "  grass_locations = [(280, 454), (342, 223), (444, 192), (455, 455), (340, 340), (340, 200), (370, 200), (390, 220), (400, 220)]\n",
        "  grass_patches = []\n",
        "  for loc in grass_locations:\n",
        "      patch = getPatchFromLocation(image, loc)\n",
        "      grass_patches.append(patch)\n",
        "  return [grass_patches, grass_locations]"
      ],
      "metadata": {
        "id": "ut9A0Pn0UQDH"
      },
      "id": "ut9A0Pn0UQDH",
      "execution_count": 16,
      "outputs": []
    },
    {
      "cell_type": "code",
      "source": [
        "def getSkyPatches(PATCH_SIZE, image):\n",
        "  sky_locations = [(38, 34), (139, 28), (37, 437), (145, 379), (150, 350), (150, 30), (30, 420), (150, 370), (30, 40)]\n",
        "  sky_patches = []\n",
        "  for loc in sky_locations:\n",
        "      sky_patches.append(image[loc[0]:loc[0] + PATCH_SIZE,\n",
        "                              loc[1]:loc[1] + PATCH_SIZE])\n",
        "  return [sky_patches, sky_locations]"
      ],
      "metadata": {
        "id": "drcoEtINUDml"
      },
      "id": "drcoEtINUDml",
      "execution_count": 17,
      "outputs": []
    },
    {
      "cell_type": "code",
      "source": [
        "[grass_patches, grass_locations] = getGrassPatches(PATCH_SIZE, imageDataset1)\n",
        "[sky_patches, sky_locations] = getSkyPatches(PATCH_SIZE, imageDataset1)"
      ],
      "metadata": {
        "id": "OfT4I3TtUWD3"
      },
      "id": "OfT4I3TtUWD3",
      "execution_count": 18,
      "outputs": []
    },
    {
      "cell_type": "markdown",
      "source": [
        "## Find GLCM Features"
      ],
      "metadata": {
        "id": "6mwZMjcbaSDk"
      },
      "id": "6mwZMjcbaSDk"
    },
    {
      "cell_type": "markdown",
      "id": "f8bd71d4-ce4d-447b-a039-4adaaf081aed",
      "metadata": {
        "id": "f8bd71d4-ce4d-447b-a039-4adaaf081aed"
      },
      "source": [
        "Once we have the patches selected, we can compute the GLCM features.\n",
        "The computation procedure of this kind of features consists in two steps:\n",
        "1. Compute the Grey Level Co-occurrence Matrix (la GLCM).\n",
        "2. Compute the texture properties of the GLCM.\n",
        "\n",
        "The first step is achieved applying the function [greycomatrix](https://scikit-image.org/docs/dev/api/skimage.feature.html#skimage.feature.graycomatrix) and the second one using [greycoprops](https://scikit-image.org/docs/dev/api/skimage.feature.html#skimage.feature.graycoprops)."
      ]
    },
    {
      "cell_type": "code",
      "source": [
        "[dissimilarity, correlation, glcm] = calGLCMPropertiesMultiClass(grass_patches, sky_patches)"
      ],
      "metadata": {
        "id": "ilR_q5VKVnFz"
      },
      "id": "ilR_q5VKVnFz",
      "execution_count": 23,
      "outputs": []
    },
    {
      "cell_type": "code",
      "execution_count": 24,
      "id": "618424c0-011a-4ba2-b8c3-f3bc2986d998",
      "metadata": {
        "id": "618424c0-011a-4ba2-b8c3-f3bc2986d998",
        "outputId": "10dd34f7-282b-4d8e-93fc-97b2c7564b53",
        "colab": {
          "base_uri": "https://localhost:8080/"
        }
      },
      "outputs": [
        {
          "output_type": "execute_result",
          "data": {
            "text/plain": [
              "(256, 256, 1, 1)"
            ]
          },
          "metadata": {},
          "execution_count": 24
        }
      ],
      "source": [
        "glcm.shape"
      ]
    },
    {
      "cell_type": "markdown",
      "source": [
        "xs - dissimilarity"
      ],
      "metadata": {
        "id": "Pyfx7rEGXNHj"
      },
      "id": "Pyfx7rEGXNHj"
    },
    {
      "cell_type": "code",
      "execution_count": 25,
      "id": "b42e6a1e-5dde-4bcd-8b3a-9007152c9da0",
      "metadata": {
        "id": "b42e6a1e-5dde-4bcd-8b3a-9007152c9da0",
        "outputId": "fc610d3a-36cc-4874-ee75-e287105be389",
        "colab": {
          "base_uri": "https://localhost:8080/"
        }
      },
      "outputs": [
        {
          "output_type": "execute_result",
          "data": {
            "text/plain": [
              "[6.044642857142856,\n",
              " 11.973214285714285,\n",
              " 18.794642857142858,\n",
              " 18.80059523809523,\n",
              " 12.214285714285714,\n",
              " 11.9375,\n",
              " 14.946428571428573,\n",
              " 15.44642857142857,\n",
              " 15.613095238095239,\n",
              " 0.46726190476190477,\n",
              " 0.5744047619047619,\n",
              " 0.5208333333333334,\n",
              " 0.5386904761904763,\n",
              " 2.1875,\n",
              " 0.6160714285714286,\n",
              " 0.4047619047619049,\n",
              " 1.3571428571428572,\n",
              " 0.43154761904761907]"
            ]
          },
          "metadata": {},
          "execution_count": 25
        }
      ],
      "source": [
        "dissimilarity"
      ]
    },
    {
      "cell_type": "markdown",
      "source": [
        "ys - correlation"
      ],
      "metadata": {
        "id": "q2T2n9GdXXRv"
      },
      "id": "q2T2n9GdXXRv"
    },
    {
      "cell_type": "code",
      "source": [
        "correlation"
      ],
      "metadata": {
        "colab": {
          "base_uri": "https://localhost:8080/"
        },
        "id": "ugTapIN_XFTs",
        "outputId": "65600d5d-1e06-4838-f6f6-f057e799b76a"
      },
      "id": "ugTapIN_XFTs",
      "execution_count": 26,
      "outputs": [
        {
          "output_type": "execute_result",
          "data": {
            "text/plain": [
              "[0.18465981611100118,\n",
              " 0.09819326975998054,\n",
              " 0.012329737526846562,\n",
              " 0.03211156902114874,\n",
              " 0.003840311844660029,\n",
              " -0.05085218911772683,\n",
              " 0.10615735972737371,\n",
              " 0.08440710798145946,\n",
              " 0.09599346158167409,\n",
              " 0.6499750949948057,\n",
              " 0.7303979048396345,\n",
              " 0.7674139951474309,\n",
              " 0.5151595753523491,\n",
              " 0.5974132211669424,\n",
              " 0.17189467175008782,\n",
              " 0.7224637764291533,\n",
              " 0.6399610481586401,\n",
              " 0.9225927039450565]"
            ]
          },
          "metadata": {},
          "execution_count": 26
        }
      ]
    },
    {
      "cell_type": "markdown",
      "id": "124c5a08-2c3c-4348-9f02-9294a2913e3e",
      "metadata": {
        "id": "124c5a08-2c3c-4348-9f02-9294a2913e3e"
      },
      "source": [
        "Next, we can visualise the selected patches and the computed features."
      ]
    },
    {
      "cell_type": "code",
      "source": [
        "visualiseSelectedPatchesAndComputedFeaturesMultiClass(imageDataset1, dissimilarity, correlation, PATCH_SIZE, grass_patches, sky_patches)"
      ],
      "metadata": {
        "colab": {
          "base_uri": "https://localhost:8080/",
          "height": 0
        },
        "id": "yUlQXr-BX4k4",
        "outputId": "1df13877-3935-488f-89ef-bced2f169b5d"
      },
      "id": "yUlQXr-BX4k4",
      "execution_count": 27,
      "outputs": [
        {
          "output_type": "stream",
          "name": "stderr",
          "text": [
            "<ipython-input-13-c08e5265f92c>:40: UserWarning: tight_layout not applied: number of columns in subplot specifications must be multiples of one another.\n",
            "  plt.tight_layout()\n"
          ]
        },
        {
          "output_type": "display_data",
          "data": {
            "text/plain": [
              "<Figure size 576x576 with 20 Axes>"
            ],
            "image/png": "[encoded data removed]"
          },
          "metadata": {
            "needs_background": "light"
          }
        }
      ]
    },
    {
      "cell_type": "markdown",
      "source": [
        "## Classifier"
      ],
      "metadata": {
        "id": "8iOxpijeZ2uD"
      },
      "id": "8iOxpijeZ2uD"
    },
    {
      "cell_type": "code",
      "source": [
        "## Classifier"
      ],
      "metadata": {
        "id": "Jv3wArjRZuf8"
      },
      "id": "Jv3wArjRZuf8",
      "execution_count": null,
      "outputs": []
    },
    {
      "cell_type": "code",
      "source": [],
      "metadata": {
        "id": "i8BTNRCCZ1GB"
      },
      "id": "i8BTNRCCZ1GB",
      "execution_count": null,
      "outputs": []
    },
    {
      "cell_type": "markdown",
      "source": [
        "# Dataset *2*"
      ],
      "metadata": {
        "id": "etN0IECya1zx"
      },
      "id": "etN0IECya1zx"
    },
    {
      "cell_type": "markdown",
      "id": "e0836202-5b51-43eb-a489-a7776df3a7fb",
      "metadata": {
        "id": "e0836202-5b51-43eb-a489-a7776df3a7fb"
      },
      "source": [
        "## Download dataset"
      ]
    },
    {
      "cell_type": "code",
      "execution_count": 28,
      "id": "3207e492-d46e-4c57-ad3b-9b60fc66ad48",
      "metadata": {
        "id": "3207e492-d46e-4c57-ad3b-9b60fc66ad48",
        "outputId": "ee4c4a64-585e-4f69-d3d1-a6fdb7db9535",
        "colab": {
          "base_uri": "https://localhost:8080/"
        }
      },
      "outputs": [
        {
          "output_type": "stream",
          "name": "stdout",
          "text": [
            "Cloning into 'fm'...\n",
            "remote: Enumerating objects: 762, done.\u001b[K\n",
            "remote: Counting objects: 100% (4/4), done.\u001b[K\n",
            "remote: Compressing objects: 100% (4/4), done.\u001b[K\n",
            "remote: Total 762 (delta 0), reused 3 (delta 0), pack-reused 758\u001b[K\n",
            "Receiving objects: 100% (762/762), 105.85 MiB | 44.55 MiB/s, done.\n",
            "Resolving deltas: 100% (444/444), done.\n"
          ]
        }
      ],
      "source": [
        "!git clone https://github.com/zalandoresearch/fashion-mnist.git fm"
      ]
    },
    {
      "cell_type": "code",
      "source": [
        "import fm.utils.mnist_reader as mnist_reader"
      ],
      "metadata": {
        "id": "gjaGq-k8Ts-o"
      },
      "id": "gjaGq-k8Ts-o",
      "execution_count": 30,
      "outputs": []
    },
    {
      "cell_type": "code",
      "execution_count": 31,
      "id": "6d0dda1f-5706-4468-b704-97f8c9ef3221",
      "metadata": {
        "id": "6d0dda1f-5706-4468-b704-97f8c9ef3221"
      },
      "outputs": [],
      "source": [
        "X_train, y_train = mnist_reader.load_mnist('fm/data/fashion', kind='train')\n",
        "X_test, y_test = mnist_reader.load_mnist('fm/data/fashion', kind='t10k')"
      ]
    },
    {
      "cell_type": "code",
      "execution_count": 32,
      "id": "f03acc4f-72d9-4307-a4b7-d4f3f85bd367",
      "metadata": {
        "id": "f03acc4f-72d9-4307-a4b7-d4f3f85bd367",
        "outputId": "18e27f4a-488f-43f6-fa79-64d6ba64211b",
        "colab": {
          "base_uri": "https://localhost:8080/"
        }
      },
      "outputs": [
        {
          "output_type": "execute_result",
          "data": {
            "text/plain": [
              "(60000, 784)"
            ]
          },
          "metadata": {},
          "execution_count": 32
        }
      ],
      "source": [
        "X_train.shape"
      ]
    },
    {
      "cell_type": "code",
      "execution_count": 33,
      "id": "ed3d4c16-195e-4c2f-a03e-8bb7fe56441a",
      "metadata": {
        "id": "ed3d4c16-195e-4c2f-a03e-8bb7fe56441a",
        "colab": {
          "base_uri": "https://localhost:8080/",
          "height": 282
        },
        "outputId": "7481af2f-4170-4187-c76a-6e9b962da6e9"
      },
      "outputs": [
        {
          "output_type": "execute_result",
          "data": {
            "text/plain": [
              "<matplotlib.image.AxesImage at 0x7f46f4f3b7f0>"
            ]
          },
          "metadata": {},
          "execution_count": 33
        },
        {
          "output_type": "display_data",
          "data": {
            "text/plain": [
              "<Figure size 432x288 with 1 Axes>"
            ],
            "image/png": "[encoded data removed]"
          },
          "metadata": {
            "needs_background": "light"
          }
        }
      ],
      "source": [
        "X_train = X_train[0].reshape((28, 28))\n",
        "plt.imshow(X_train, cmap=\"gray\")"
      ]
    },
    {
      "cell_type": "markdown",
      "id": "2fb9e8da-18d7-49c6-a2b9-9fe6d94b4671",
      "metadata": {
        "id": "2fb9e8da-18d7-49c6-a2b9-9fe6d94b4671"
      },
      "source": [
        "## Feature extraction"
      ]
    },
    {
      "cell_type": "markdown",
      "source": [
        "### Training Data"
      ],
      "metadata": {
        "id": "zlrecmur0HtG"
      },
      "id": "zlrecmur0HtG"
    },
    {
      "cell_type": "code",
      "source": [
        "PATCH_SIZE = int(28 / 4)\n",
        "PATCH_SIZE"
      ],
      "metadata": {
        "colab": {
          "base_uri": "https://localhost:8080/"
        },
        "id": "9QMlCvdHnPnM",
        "outputId": "6eafc12d-cfc4-4ff0-9fc1-3c958bc36aa2"
      },
      "id": "9QMlCvdHnPnM",
      "execution_count": 34,
      "outputs": [
        {
          "output_type": "execute_result",
          "data": {
            "text/plain": [
              "7"
            ]
          },
          "metadata": {},
          "execution_count": 34
        }
      ]
    },
    {
      "cell_type": "code",
      "source": [
        "def getWantedSizedPatches(image, patchSize):\n",
        "  patches = []\n",
        "  for y in range(0, image.shape[0] - patchSize + 1, patchSize):\n",
        "      for x in range(0, image.shape[1] - patchSize + 1, patchSize):\n",
        "          patches.append(image[y:y + patchSize, x:x + patchSize])\n",
        "  return patches"
      ],
      "metadata": {
        "id": "LPyoH2ChkUfo"
      },
      "id": "LPyoH2ChkUfo",
      "execution_count": 35,
      "outputs": []
    },
    {
      "cell_type": "code",
      "execution_count": 36,
      "id": "716fe84d-0413-40af-ae12-500ffa7e7137",
      "metadata": {
        "id": "716fe84d-0413-40af-ae12-500ffa7e7137"
      },
      "outputs": [],
      "source": [
        "patchesXTrain = getWantedSizedPatches(X_train, PATCH_SIZE)"
      ]
    },
    {
      "cell_type": "code",
      "source": [
        "patchesXTrain[0].shape"
      ],
      "metadata": {
        "colab": {
          "base_uri": "https://localhost:8080/"
        },
        "id": "FxKo7_kD0jwZ",
        "outputId": "357b6171-fe27-40af-ec4b-ce903e4e984c"
      },
      "id": "FxKo7_kD0jwZ",
      "execution_count": 37,
      "outputs": [
        {
          "output_type": "execute_result",
          "data": {
            "text/plain": [
              "(7, 7)"
            ]
          },
          "metadata": {},
          "execution_count": 37
        }
      ]
    },
    {
      "cell_type": "code",
      "execution_count": 38,
      "id": "1bdb9303-8da0-4158-89c2-a235b174d302",
      "metadata": {
        "id": "1bdb9303-8da0-4158-89c2-a235b174d302"
      },
      "outputs": [],
      "source": [
        "def showPatches(patches):\n",
        "  fig, axes = plt.subplots(4, 4)\n",
        "  axes = axes.flatten()\n",
        "\n",
        "  for i, patch in enumerate(patches):\n",
        "      axes[i].imshow(patch)\n",
        "      axes[i].set_xlabel('Number %d' % (i + 1))\n",
        "\n",
        "\n",
        "  plt.show()"
      ]
    },
    {
      "cell_type": "code",
      "source": [
        "showPatches(patchesXTrain)"
      ],
      "metadata": {
        "colab": {
          "base_uri": "https://localhost:8080/",
          "height": 280
        },
        "id": "x06mQnEI0v70",
        "outputId": "695e322a-a4a9-460c-f7fc-6fe2bfe0bbee"
      },
      "id": "x06mQnEI0v70",
      "execution_count": 39,
      "outputs": [
        {
          "output_type": "display_data",
          "data": {
            "text/plain": [
              "<Figure size 432x288 with 16 Axes>"
            ],
            "image/png": "[encoded data removed]"
          },
          "metadata": {
            "needs_background": "light"
          }
        }
      ]
    },
    {
      "cell_type": "code",
      "source": [
        "[dissimilarity, correlation, glcm] = calGLCMProperties(patchesXTrain)"
      ],
      "metadata": {
        "id": "KbQGcH4vkygZ"
      },
      "id": "KbQGcH4vkygZ",
      "execution_count": 40,
      "outputs": []
    },
    {
      "cell_type": "code",
      "execution_count": 41,
      "id": "186bebf1-f92a-460e-9d2a-60cc720cc77a",
      "metadata": {
        "id": "186bebf1-f92a-460e-9d2a-60cc720cc77a",
        "outputId": "0fdee59e-75be-4d17-e132-2094d8d39a64",
        "colab": {
          "base_uri": "https://localhost:8080/",
          "height": 279
        }
      },
      "outputs": [
        {
          "output_type": "display_data",
          "data": {
            "text/plain": [
              "<Figure size 432x288 with 1 Axes>"
            ],
            "image/png": "[encoded data removed]"
          },
          "metadata": {
            "needs_background": "light"
          }
        }
      ],
      "source": [
        "# for each patch, plot (dissimilarity, correlation)\n",
        "plt.plot(dissimilarity[:len(patchesXTrain)], correlation[:len(patchesXTrain)], 'go')\n",
        "plt.xlabel('GLCM Dissimilarity')\n",
        "plt.ylabel('GLCM Correlation')\n",
        "plt.show()"
      ]
    },
    {
      "cell_type": "code",
      "execution_count": 42,
      "id": "ba8cc608-4bc3-4717-b6e4-fe0b4831c5f0",
      "metadata": {
        "id": "ba8cc608-4bc3-4717-b6e4-fe0b4831c5f0",
        "outputId": "cf0ec895-5a06-4075-892a-1b6c1791a006",
        "colab": {
          "base_uri": "https://localhost:8080/"
        }
      },
      "outputs": [
        {
          "output_type": "execute_result",
          "data": {
            "text/plain": [
              "16"
            ]
          },
          "metadata": {},
          "execution_count": 42
        }
      ],
      "source": [
        "PATCH_PER_IMAGE = int(28 / PATCH_SIZE) * int(28 / PATCH_SIZE)\n",
        "PATCH_PER_IMAGE"
      ]
    },
    {
      "cell_type": "code",
      "source": [
        "y_train = [0, 0, 1, 1, 0, 0, 1, 1, 1, 1, 1, 1, 1, 1, 1, 1]\n",
        "  \n",
        "# Calling DataFrame constructor after zipping\n",
        "# both lists, with columns specified\n",
        "X_train = pd.DataFrame(list(zip(dissimilarity, correlation)),\n",
        "               columns =['dissimilarity', 'correlation'])\n",
        "\n",
        "sc = StandardScaler()\n",
        "sc.fit(X_train)\n",
        "X_train= sc.transform(X_train)"
      ],
      "metadata": {
        "id": "4SgjXEThxjy2"
      },
      "id": "4SgjXEThxjy2",
      "execution_count": 43,
      "outputs": []
    },
    {
      "cell_type": "markdown",
      "source": [
        "### Test Data"
      ],
      "metadata": {
        "id": "h5O05Ao_1R13"
      },
      "id": "h5O05Ao_1R13"
    },
    {
      "cell_type": "code",
      "source": [
        "X_test= X_test[0].reshape((28, 28))\n",
        "plt.imshow(X_test, cmap=\"gray\")"
      ],
      "metadata": {
        "colab": {
          "base_uri": "https://localhost:8080/",
          "height": 282
        },
        "id": "Is_XpQwPy76T",
        "outputId": "faa3179b-e48e-4bc4-cabc-8d9bf65c4fac"
      },
      "id": "Is_XpQwPy76T",
      "execution_count": 44,
      "outputs": [
        {
          "output_type": "execute_result",
          "data": {
            "text/plain": [
              "<matplotlib.image.AxesImage at 0x7f46f4b40d00>"
            ]
          },
          "metadata": {},
          "execution_count": 44
        },
        {
          "output_type": "display_data",
          "data": {
            "text/plain": [
              "<Figure size 432x288 with 1 Axes>"
            ],
            "image/png": "[encoded data removed]"
          },
          "metadata": {
            "needs_background": "light"
          }
        }
      ]
    },
    {
      "cell_type": "code",
      "source": [
        "patchesXTest = getWantedSizedPatches(X_test, PATCH_SIZE)"
      ],
      "metadata": {
        "id": "4x-S0JH21XTK"
      },
      "id": "4x-S0JH21XTK",
      "execution_count": 45,
      "outputs": []
    },
    {
      "cell_type": "code",
      "source": [
        "showPatches(patchesXTest)"
      ],
      "metadata": {
        "colab": {
          "base_uri": "https://localhost:8080/",
          "height": 280
        },
        "id": "z8Xp8LIZ2Jwk",
        "outputId": "d7755fcb-f26e-4afe-b7dc-c24fe29b9a9e"
      },
      "id": "z8Xp8LIZ2Jwk",
      "execution_count": 46,
      "outputs": [
        {
          "output_type": "display_data",
          "data": {
            "text/plain": [
              "<Figure size 432x288 with 16 Axes>"
            ],
            "image/png": "[encoded data removed]"
          },
          "metadata": {
            "needs_background": "light"
          }
        }
      ]
    },
    {
      "cell_type": "code",
      "source": [
        "y_test = [0, 0, 0, 0, 0, 0, 1, 1, 1, 1, 1, 1, 0, 0, 0, 0]\n",
        "  \n",
        "# Calling DataFrame constructor after zipping\n",
        "# both lists, with columns specified\n",
        "X_test = pd.DataFrame(list(zip(dissimilarity, correlation)),\n",
        "               columns =['dissimilarity', 'correlation'])\n",
        "\n",
        "sc = StandardScaler()\n",
        "sc.fit(X_test)\n",
        "X_test = sc.transform(X_test)"
      ],
      "metadata": {
        "id": "0GHBv5cF2PKL"
      },
      "id": "0GHBv5cF2PKL",
      "execution_count": 47,
      "outputs": []
    },
    {
      "cell_type": "markdown",
      "id": "52318d8b-bbd2-4d3f-920c-55ca3ff5e931",
      "metadata": {
        "jp-MarkdownHeadingCollapsed": true,
        "tags": [],
        "id": "52318d8b-bbd2-4d3f-920c-55ca3ff5e931"
      },
      "source": [
        "## Tasks - Classification\n",
        "\n",
        "Build your own classifier and extract metrics to know how the classifier is working.\n",
        "\n",
        "Detect with which classes is the classifier working better and worse. Try to explain the reasons.\n",
        "\n",
        "\n",
        "**HINT:** The confusion matrix can be very helpful.\n",
        "\n",
        "Useful link: https://towardsdatascience.com/multi-class-classification-extracting-performance-metrics-from-the-confusion-matrix-b379b427a872\n"
      ]
    },
    {
      "cell_type": "code",
      "source": [
        "models = dict()\n",
        "\n",
        "models['GNB'] = GaussianNB()\n",
        "models['LR'] = LogisticRegression()\n",
        "models['DT'] = DecisionTreeClassifier()\n",
        "models['SVM'] = SVC()\n",
        "models['KNN'] = KNeighborsClassifier(n_neighbors=5)"
      ],
      "metadata": {
        "id": "vsou4_BUOaXk"
      },
      "id": "vsou4_BUOaXk",
      "execution_count": 53,
      "outputs": []
    },
    {
      "cell_type": "code",
      "source": [
        "def evaluateModels(models, X_train, X_test, y_train, y_test):\n",
        "  accuracy, precision, recall, f1Score, predictions = {}, {}, {}, {}, {}\n",
        "\n",
        "  for key in models.keys():\n",
        "      # print(SCORERS.keys())\n",
        "      print(\"Model:  \" + key)\n",
        "      models[key].fit(X_train, y_train)\n",
        "      y_pred = models[key].predict(X_test)\n",
        "\n",
        "      recall[key] = recall_score(y_test, y_pred)\n",
        "      accuracy[key] = accuracy_score(y_test, y_pred)\n",
        "      precision[key] = precision_score(y_test, y_pred)\n",
        "      f1Score[key] = f1_score(y_test, y_pred)\n",
        "\n",
        "  print(\"\")\n",
        "  df_model = pd.DataFrame(index=models.keys(), columns=['Accuracy', 'Precision', 'Recall'])\n",
        "  df_model['Accuracy'] = accuracy.values()\n",
        "  df_model['Precision'] = precision.values()\n",
        "  df_model['Recall'] = recall.values()\n",
        "  df_model['F1'] = f1Score.values()\n",
        "\n",
        "  print(df_model)\n",
        "\n",
        "  ax  = df_model.plot.bar(rot=45)\n",
        "  ax.legend(ncol= len(models.keys()), bbox_to_anchor=(0, 1), loc='lower left', prop={'size': 10})\n",
        "  plt.tight_layout()"
      ],
      "metadata": {
        "id": "AFk2HSiVO2G2"
      },
      "id": "AFk2HSiVO2G2",
      "execution_count": 51,
      "outputs": []
    },
    {
      "cell_type": "code",
      "source": [
        "evaluateModels(models, X_train, X_test, y_train, y_test)"
      ],
      "metadata": {
        "colab": {
          "base_uri": "https://localhost:8080/",
          "height": 505
        },
        "id": "QrQH6KIlVUNo",
        "outputId": "5c544678-7f02-4dfc-da06-76e9d3771844"
      },
      "id": "QrQH6KIlVUNo",
      "execution_count": 54,
      "outputs": [
        {
          "output_type": "stream",
          "name": "stdout",
          "text": [
            "Model:  GNB\n",
            "Model:  LR\n",
            "Model:  DT\n",
            "Model:  SVM\n",
            "Model:  KNN\n",
            "\n",
            "     Accuracy  Precision  Recall        F1\n",
            "GNB     0.375      0.375     1.0  0.545455\n",
            "LR      0.375      0.375     1.0  0.545455\n",
            "DT      0.625      0.500     1.0  0.666667\n",
            "SVM     0.375      0.375     1.0  0.545455\n",
            "KNN     0.375      0.375     1.0  0.545455\n"
          ]
        },
        {
          "output_type": "display_data",
          "data": {
            "text/plain": [
              "<Figure size 432x288 with 1 Axes>"
            ],
            "image/png": "[encoded data removed]"
          },
          "metadata": {
            "needs_background": "light"
          }
        }
      ]
    },
    {
      "cell_type": "code",
      "source": [
        "def confusionMatrix(model, X_test, y_test):\n",
        "  predicted = model.predict(X_test)\n",
        "  confusion_matrix = metrics.confusion_matrix(y_test, predicted)\n",
        "\n",
        "  cm_display = metrics.ConfusionMatrixDisplay(confusion_matrix = confusion_matrix, display_labels = [False, True])\n",
        "\n",
        "  cm_display.plot()\n",
        "  plt.show()"
      ],
      "metadata": {
        "id": "elf7WMq3VsQO"
      },
      "id": "elf7WMq3VsQO",
      "execution_count": 56,
      "outputs": []
    },
    {
      "cell_type": "code",
      "source": [
        "confusionMatrix(models[\"GNB\"], X_test, y_test)"
      ],
      "metadata": {
        "colab": {
          "base_uri": "https://localhost:8080/",
          "height": 283
        },
        "id": "1gKJx5nJ2x5p",
        "outputId": "6cce367e-b62b-46fb-d02f-ef2eb611f8f9"
      },
      "id": "1gKJx5nJ2x5p",
      "execution_count": 58,
      "outputs": [
        {
          "output_type": "display_data",
          "data": {
            "text/plain": [
              "<Figure size 432x288 with 2 Axes>"
            ],
            "image/png": "[encoded data removed]"
          },
          "metadata": {
            "needs_background": "light"
          }
        }
      ]
    }
  ],
  "metadata": {
    "kernelspec": {
      "display_name": "Python 3 (ipykernel)",
      "language": "python",
      "name": "python3"
    },
    "language_info": {
      "codemirror_mode": {
        "name": "ipython",
        "version": 3
      },
      "file_extension": ".py",
      "mimetype": "text/x-python",
      "name": "python",
      "nbconvert_exporter": "python",
      "pygments_lexer": "ipython3",
      "version": "3.9.6"
    },
    "colab": {
      "provenance": [],
      "collapsed_sections": [
        "Ugjj3j80h-My",
        "e4e6bbf0-2773-4a95-986a-49d90043ff18",
        "BkiH2pv4aBad",
        "6mwZMjcbaSDk",
        "8iOxpijeZ2uD",
        "zlrecmur0HtG",
        "h5O05Ao_1R13"
      ],
      "toc_visible": true,
      "include_colab_link": true
    }
  },
  "nbformat": 4,
  "nbformat_minor": 5
}