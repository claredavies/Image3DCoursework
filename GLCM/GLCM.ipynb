{
  "cells": [
    {
      "cell_type": "markdown",
      "metadata": {
        "id": "view-in-github",
        "colab_type": "text"
      },
      "source": [
        "<a href=\"https://colab.research.google.com/github/claredavies/Image3DCoursework/blob/main/GLCM/GLCM.ipynb\" target=\"_parent\"><img src=\"https://colab.research.google.com/assets/colab-badge.svg\" alt=\"Open In Colab\"/></a>"
      ]
    },
    {
      "cell_type": "markdown",
      "source": [
        "# Libraries"
      ],
      "metadata": {
        "id": "aRdRo2swZ-ph"
      },
      "id": "aRdRo2swZ-ph"
    },
    {
      "cell_type": "code",
      "execution_count": 59,
      "id": "72b320e6-60c2-41a2-8220-9e5d204a8ce6",
      "metadata": {
        "id": "72b320e6-60c2-41a2-8220-9e5d204a8ce6"
      },
      "outputs": [],
      "source": [
        "import matplotlib.pyplot as plt\n",
        "import numpy as np\n",
        "import pandas as pd\n",
        "\n",
        "from skimage.feature import greycomatrix, greycoprops\n",
        "from skimage import data\n",
        "\n",
        "from sklearn import metrics\n",
        "from sklearn.preprocessing import StandardScaler\n",
        "from sklearn.metrics import precision_score, recall_score, f1_score, accuracy_score\n",
        "\n",
        "from sklearn.ensemble import RandomForestClassifier\n",
        "from sklearn.linear_model import LogisticRegression\n",
        "from sklearn.discriminant_analysis import LinearDiscriminantAnalysis\n",
        "from sklearn.neighbors import KNeighborsClassifier\n",
        "from sklearn.naive_bayes import GaussianNB\n",
        "from sklearn.tree import DecisionTreeClassifier\n",
        "from sklearn.svm import SVC"
      ]
    },
    {
      "cell_type": "code",
      "source": [
        "!pip install python-mnist"
      ],
      "metadata": {
        "colab": {
          "base_uri": "https://localhost:8080/"
        },
        "id": "mOG3zw-TahKv",
        "outputId": "6d18fb8a-cc22-42d0-b833-a8036334b164"
      },
      "id": "mOG3zw-TahKv",
      "execution_count": 4,
      "outputs": [
        {
          "output_type": "stream",
          "name": "stdout",
          "text": [
            "Looking in indexes: https://pypi.org/simple, https://us-python.pkg.dev/colab-wheels/public/simple/\n",
            "Collecting python-mnist\n",
            "  Downloading python_mnist-0.7-py2.py3-none-any.whl (9.6 kB)\n",
            "Installing collected packages: python-mnist\n",
            "Successfully installed python-mnist-0.7\n"
          ]
        }
      ]
    },
    {
      "cell_type": "markdown",
      "source": [
        "# GLCM Functions"
      ],
      "metadata": {
        "id": "Ugjj3j80h-My"
      },
      "id": "Ugjj3j80h-My"
    },
    {
      "cell_type": "code",
      "source": [
        "def showImagePatch(patch):\n",
        "  plt.imshow(patch, cmap=plt.cm.gray, vmin=0, vmax=255)"
      ],
      "metadata": {
        "id": "RPkTbAQXePqu"
      },
      "id": "RPkTbAQXePqu",
      "execution_count": 8,
      "outputs": []
    },
    {
      "cell_type": "code",
      "source": [
        "def getPatchFromLocation(PATCH_SIZE, image, loc):\n",
        "  patch = image[loc[0]:loc[0] + PATCH_SIZE, loc[1]:loc[1] + PATCH_SIZE]\n",
        "  return patch"
      ],
      "metadata": {
        "id": "ujsy_ddQexRO"
      },
      "id": "ujsy_ddQexRO",
      "execution_count": 19,
      "outputs": []
    },
    {
      "cell_type": "code",
      "source": [
        "def getWantedSizedPatches(image, patchSize):\n",
        "  patches = []\n",
        "  for y in range(0, image.shape[0] - patchSize + 1, patchSize):\n",
        "      for x in range(0, image.shape[1] - patchSize + 1, patchSize):\n",
        "          patches.append(image[y:y + patchSize, x:x + patchSize])\n",
        "  return patches"
      ],
      "metadata": {
        "id": "ENEbDIriXahR"
      },
      "id": "ENEbDIriXahR",
      "execution_count": 60,
      "outputs": []
    },
    {
      "cell_type": "code",
      "execution_count": 10,
      "id": "f4963eb7-36c9-43e8-b5d5-1c6f203be00e",
      "metadata": {
        "id": "f4963eb7-36c9-43e8-b5d5-1c6f203be00e"
      },
      "outputs": [],
      "source": [
        "# compute some GLCM properties each patch\n",
        "def calGLCMPropertiesMultiClass(class1Patches, class2Patches):\n",
        "  dissimilarity = []\n",
        "  correlation = []\n",
        "  for patch in (class1Patches + class2Patches):\n",
        "      glcm = greycomatrix(patch, \n",
        "                          distances=[5],\n",
        "                          angles=[0], # We ignore this\n",
        "                          levels=256, # Number of possible pixel values\n",
        "                          symmetric=True, \n",
        "                          normed=True)\n",
        "      dissimilarity.append(greycoprops(glcm, 'dissimilarity')[0, 0])\n",
        "      correlation.append(greycoprops(glcm, 'correlation')[0, 0])\n",
        "  return [dissimilarity, correlation, glcm]"
      ]
    },
    {
      "cell_type": "code",
      "source": [
        "# compute some GLCM properties each patch\n",
        "def calGLCMProperties(patches):\n",
        "  dissimilarity = []\n",
        "  correlation = []\n",
        "  for patch in (patches):\n",
        "      glcm = greycomatrix(patch, \n",
        "                          distances=[5],\n",
        "                          angles=[0], # We ignore this\n",
        "                          levels=256, # Number of possible pixel values\n",
        "                          symmetric=True, \n",
        "                          normed=True)\n",
        "      dissimilarity.append(greycoprops(glcm, 'dissimilarity')[0, 0])\n",
        "      correlation.append(greycoprops(glcm, 'correlation')[0, 0])\n",
        "  return [dissimilarity, correlation, glcm]"
      ],
      "metadata": {
        "id": "INHmk_nlsE38"
      },
      "id": "INHmk_nlsE38",
      "execution_count": 11,
      "outputs": []
    },
    {
      "cell_type": "code",
      "source": [
        "def visualiseSelectedPatchesAndComputedFeatures(image, dissimilarity, correlation, PATCH_SIZE, patches):\n",
        "  # create the figure\n",
        "  fig = plt.figure(figsize=(8, 8))\n",
        "\n",
        "  # display original image with locations of patches\n",
        "  ax = fig.add_subplot(3, 2, 1)\n",
        "  ax.imshow(image, cmap=plt.cm.gray, vmin=0, vmax=255)\n",
        "  for (y, x) in grass_locations:\n",
        "      ax.plot(x + PATCH_SIZE / 2, y + PATCH_SIZE / 2, 'gs')\n",
        "\n",
        "  for (y, x) in sky_locations:\n",
        "      ax.plot(x + PATCH_SIZE / 2, y + PATCH_SIZE / 2, 'bs')\n",
        "\n",
        "  ax.set_xlabel('Original Image')\n",
        "  ax.set_xticks([])\n",
        "  ax.set_yticks([])\n",
        "  ax.axis('image')\n",
        "\n",
        "  # for each patch, plot (dissimilarity, correlation)\n",
        "  ax = fig.add_subplot(3, 2, 2)\n",
        "  ax.plot(dissimilarity[:len(patches)], correlation[:len(patches)], 'go', label='Grass')\n",
        "  ax.plot(dissimilarity[len(patches):], correlation[len(patches):], 'bo', label='Sky')\n",
        "  ax.set_xlabel('GLCM Dissimilarity')\n",
        "  ax.set_ylabel('GLCM Correlation')\n",
        "  ax.legend()\n",
        "\n",
        "  # display the image patches\n",
        "  for i, patch in enumerate(patches):\n",
        "      ax = fig.add_subplot(3, len(patches), len(patches)*1 + i + 1)\n",
        "      ax.imshow(patch, cmap=plt.cm.gray, vmin=0, vmax=255)\n",
        "      ax.set_xlabel('Grass %d' % (i + 1))\n",
        "\n",
        "  # display the patches and plot\n",
        "  fig.suptitle('Grey level co-occurrence matrix features', fontsize=14, y=1.05)\n",
        "  plt.tight_layout()"
      ],
      "metadata": {
        "id": "f9ZYqT8dsOQC"
      },
      "id": "f9ZYqT8dsOQC",
      "execution_count": 12,
      "outputs": []
    },
    {
      "cell_type": "code",
      "execution_count": 13,
      "id": "64c827df-0292-40d0-a8cd-7a552864d5df",
      "metadata": {
        "id": "64c827df-0292-40d0-a8cd-7a552864d5df"
      },
      "outputs": [],
      "source": [
        "def visualiseSelectedPatchesAndComputedFeaturesMultiClass(image, dissimilarity, correlation, PATCH_SIZE, class1, class2):\n",
        "  # create the figure\n",
        "  fig = plt.figure(figsize=(8, 8))\n",
        "\n",
        "  # display original image with locations of patches\n",
        "  ax = fig.add_subplot(3, 2, 1)\n",
        "  ax.imshow(image, cmap=plt.cm.gray, vmin=0, vmax=255)\n",
        "  for (y, x) in grass_locations:\n",
        "      ax.plot(x + PATCH_SIZE / 2, y + PATCH_SIZE / 2, 'gs')\n",
        "\n",
        "  for (y, x) in sky_locations:\n",
        "      ax.plot(x + PATCH_SIZE / 2, y + PATCH_SIZE / 2, 'bs')\n",
        "\n",
        "  ax.set_xlabel('Original Image')\n",
        "  ax.set_xticks([])\n",
        "  ax.set_yticks([])\n",
        "  ax.axis('image')\n",
        "\n",
        "  # for each patch, plot (dissimilarity, correlation)\n",
        "  ax = fig.add_subplot(3, 2, 2)\n",
        "  ax.plot(dissimilarity[:len(class1)], correlation[:len(class1)], 'go', label='Grass')\n",
        "  ax.plot(dissimilarity[len(class1):], correlation[len(class1):], 'bo', label='Sky')\n",
        "  ax.set_xlabel('GLCM Dissimilarity')\n",
        "  ax.set_ylabel('GLCM Correlation')\n",
        "  ax.legend()\n",
        "\n",
        "  # display the image patches\n",
        "  for i, patch in enumerate(class1):\n",
        "      ax = fig.add_subplot(3, len(class1), len(class1)*1 + i + 1)\n",
        "      ax.imshow(patch, cmap=plt.cm.gray, vmin=0, vmax=255)\n",
        "      ax.set_xlabel('Grass %d' % (i + 1))\n",
        "\n",
        "  for i, patch in enumerate(class2):\n",
        "      ax = fig.add_subplot(3, len(class2), len(class2)*2 + i + 1)\n",
        "      ax.imshow(patch, cmap=plt.cm.gray, vmin=0, vmax=255)\n",
        "      ax.set_xlabel('Sky %d' % (i + 1))\n",
        "\n",
        "  # display the patches and plot\n",
        "  fig.suptitle('Grey level co-occurrence matrix features', fontsize=14, y=1.05)\n",
        "  plt.tight_layout()"
      ]
    },
    {
      "cell_type": "markdown",
      "id": "e4e6bbf0-2773-4a95-986a-49d90043ff18",
      "metadata": {
        "id": "e4e6bbf0-2773-4a95-986a-49d90043ff18"
      },
      "source": [
        "# Dataset 1"
      ]
    },
    {
      "cell_type": "markdown",
      "source": [
        "## Read images"
      ],
      "metadata": {
        "id": "BkiH2pv4aBad"
      },
      "id": "BkiH2pv4aBad"
    },
    {
      "cell_type": "code",
      "execution_count": 14,
      "id": "2281be82-ac62-4941-a861-fa1305868fc6",
      "metadata": {
        "id": "2281be82-ac62-4941-a861-fa1305868fc6",
        "outputId": "96b808ba-5a0a-4ae6-c83e-ed3376208212",
        "colab": {
          "base_uri": "https://localhost:8080/",
          "height": 269
        }
      },
      "outputs": [
        {
          "output_type": "display_data",
          "data": {
            "text/plain": [
              "<Figure size 432x288 with 1 Axes>"
            ],
            "image/png": "[encoded data removed]"
          },
          "metadata": {
            "needs_background": "light"
          }
        }
      ],
      "source": [
        "# Load the sample image\n",
        "imageDataset1 = data.camera()\n",
        "plt.imshow(imageDataset1, cmap=\"gray\");"
      ]
    },
    {
      "cell_type": "markdown",
      "source": [
        "## Get Patches"
      ],
      "metadata": {
        "id": "5MJfhfT-aOzl"
      },
      "id": "5MJfhfT-aOzl"
    },
    {
      "cell_type": "markdown",
      "id": "72c75d3c-90cc-4406-a8c2-600ca16fd278",
      "metadata": {
        "id": "72c75d3c-90cc-4406-a8c2-600ca16fd278"
      },
      "source": [
        "First, we select a set of patches from the image. We select 4 grass patches and 4 sky patches, and we register them.\n",
        "Next, there is the code we to select those patches manually and we save them in two independent lists.\n",
        "\n",
        "Remember, that a patch is an image piece. In our case we have defined it as a square of $21 \\times 21$ pixels."
      ]
    },
    {
      "cell_type": "markdown",
      "source": [
        "showImagePatch used to identify sky and grass to bulk up dataset"
      ],
      "metadata": {
        "id": "R4sSwuLGf8j_"
      },
      "id": "R4sSwuLGf8j_"
    },
    {
      "cell_type": "code",
      "source": [
        "PATCH_SIZE = 21"
      ],
      "metadata": {
        "id": "B5tLfWf5SORY"
      },
      "id": "B5tLfWf5SORY",
      "execution_count": 20,
      "outputs": []
    },
    {
      "cell_type": "code",
      "source": [
        "showImagePatch(getPatchFromLocation(PATCH_SIZE, imageDataset1, (150, 30)))"
      ],
      "metadata": {
        "colab": {
          "base_uri": "https://localhost:8080/",
          "height": 265
        },
        "id": "QZ5-jYo2eqxS",
        "outputId": "97cbe25e-e525-4af7-8153-a4ef0f655918"
      },
      "id": "QZ5-jYo2eqxS",
      "execution_count": 22,
      "outputs": [
        {
          "output_type": "display_data",
          "data": {
            "text/plain": [
              "<Figure size 432x288 with 1 Axes>"
            ],
            "image/png": "[encoded data removed]"
          },
          "metadata": {
            "needs_background": "light"
          }
        }
      ]
    },
    {
      "cell_type": "code",
      "source": [
        "def getGrassPatches(PATCH_SIZE, image):\n",
        "  grass_locations = [(280, 454), (342, 223), (444, 192), (455, 455), (340, 340), (340, 200), (370, 200), (390, 220), (400, 220)]\n",
        "  grass_patches = []\n",
        "  for loc in grass_locations:\n",
        "      patch = getPatchFromLocation(image, loc)\n",
        "      grass_patches.append(patch)\n",
        "  return [grass_patches, grass_locations]"
      ],
      "metadata": {
        "id": "ut9A0Pn0UQDH"
      },
      "id": "ut9A0Pn0UQDH",
      "execution_count": 16,
      "outputs": []
    },
    {
      "cell_type": "code",
      "source": [
        "def getSkyPatches(PATCH_SIZE, image):\n",
        "  sky_locations = [(38, 34), (139, 28), (37, 437), (145, 379), (150, 350), (150, 30), (30, 420), (150, 370), (30, 40)]\n",
        "  sky_patches = []\n",
        "  for loc in sky_locations:\n",
        "      sky_patches.append(image[loc[0]:loc[0] + PATCH_SIZE,\n",
        "                              loc[1]:loc[1] + PATCH_SIZE])\n",
        "  return [sky_patches, sky_locations]"
      ],
      "metadata": {
        "id": "drcoEtINUDml"
      },
      "id": "drcoEtINUDml",
      "execution_count": 17,
      "outputs": []
    },
    {
      "cell_type": "code",
      "source": [
        "[grass_patches, grass_locations] = getGrassPatches(PATCH_SIZE, imageDataset1)\n",
        "[sky_patches, sky_locations] = getSkyPatches(PATCH_SIZE, imageDataset1)"
      ],
      "metadata": {
        "id": "OfT4I3TtUWD3"
      },
      "id": "OfT4I3TtUWD3",
      "execution_count": 18,
      "outputs": []
    },
    {
      "cell_type": "markdown",
      "source": [
        "## Find GLCM Features"
      ],
      "metadata": {
        "id": "6mwZMjcbaSDk"
      },
      "id": "6mwZMjcbaSDk"
    },
    {
      "cell_type": "markdown",
      "id": "f8bd71d4-ce4d-447b-a039-4adaaf081aed",
      "metadata": {
        "id": "f8bd71d4-ce4d-447b-a039-4adaaf081aed"
      },
      "source": [
        "Once we have the patches selected, we can compute the GLCM features.\n",
        "The computation procedure of this kind of features consists in two steps:\n",
        "1. Compute the Grey Level Co-occurrence Matrix (la GLCM).\n",
        "2. Compute the texture properties of the GLCM.\n",
        "\n",
        "The first step is achieved applying the function [greycomatrix](https://scikit-image.org/docs/dev/api/skimage.feature.html#skimage.feature.graycomatrix) and the second one using [greycoprops](https://scikit-image.org/docs/dev/api/skimage.feature.html#skimage.feature.graycoprops)."
      ]
    },
    {
      "cell_type": "code",
      "source": [
        "[dissimilarity, correlation, glcm] = calGLCMPropertiesMultiClass(grass_patches, sky_patches)"
      ],
      "metadata": {
        "id": "ilR_q5VKVnFz"
      },
      "id": "ilR_q5VKVnFz",
      "execution_count": 23,
      "outputs": []
    },
    {
      "cell_type": "code",
      "execution_count": 24,
      "id": "618424c0-011a-4ba2-b8c3-f3bc2986d998",
      "metadata": {
        "id": "618424c0-011a-4ba2-b8c3-f3bc2986d998",
        "outputId": "10dd34f7-282b-4d8e-93fc-97b2c7564b53",
        "colab": {
          "base_uri": "https://localhost:8080/"
        }
      },
      "outputs": [
        {
          "output_type": "execute_result",
          "data": {
            "text/plain": [
              "(256, 256, 1, 1)"
            ]
          },
          "metadata": {},
          "execution_count": 24
        }
      ],
      "source": [
        "glcm.shape"
      ]
    },
    {
      "cell_type": "markdown",
      "source": [
        "xs - dissimilarity"
      ],
      "metadata": {
        "id": "Pyfx7rEGXNHj"
      },
      "id": "Pyfx7rEGXNHj"
    },
    {
      "cell_type": "markdown",
      "id": "124c5a08-2c3c-4348-9f02-9294a2913e3e",
      "metadata": {
        "id": "124c5a08-2c3c-4348-9f02-9294a2913e3e"
      },
      "source": [
        "Next, we can visualise the selected patches and the computed features."
      ]
    },
    {
      "cell_type": "code",
      "source": [
        "visualiseSelectedPatchesAndComputedFeaturesMultiClass(imageDataset1, dissimilarity, correlation, PATCH_SIZE, grass_patches, sky_patches)"
      ],
      "metadata": {
        "colab": {
          "base_uri": "https://localhost:8080/",
          "height": 587
        },
        "id": "yUlQXr-BX4k4",
        "outputId": "1df13877-3935-488f-89ef-bced2f169b5d"
      },
      "id": "yUlQXr-BX4k4",
      "execution_count": 27,
      "outputs": [
        {
          "output_type": "stream",
          "name": "stderr",
          "text": [
            "<ipython-input-13-c08e5265f92c>:40: UserWarning: tight_layout not applied: number of columns in subplot specifications must be multiples of one another.\n",
            "  plt.tight_layout()\n"
          ]
        },
        {
          "output_type": "display_data",
          "data": {
            "text/plain": [
              "<Figure size 576x576 with 20 Axes>"
            ],
            "image/png": "[encoded data removed]"
          },
          "metadata": {
            "needs_background": "light"
          }
        }
      ]
    },
    {
      "cell_type": "markdown",
      "source": [
        "# Dataset *2*"
      ],
      "metadata": {
        "id": "etN0IECya1zx"
      },
      "id": "etN0IECya1zx"
    },
    {
      "cell_type": "markdown",
      "id": "e0836202-5b51-43eb-a489-a7776df3a7fb",
      "metadata": {
        "id": "e0836202-5b51-43eb-a489-a7776df3a7fb"
      },
      "source": [
        "## Download dataset"
      ]
    },
    {
      "cell_type": "code",
      "execution_count": 28,
      "id": "3207e492-d46e-4c57-ad3b-9b60fc66ad48",
      "metadata": {
        "id": "3207e492-d46e-4c57-ad3b-9b60fc66ad48",
        "outputId": "ee4c4a64-585e-4f69-d3d1-a6fdb7db9535",
        "colab": {
          "base_uri": "https://localhost:8080/"
        }
      },
      "outputs": [
        {
          "output_type": "stream",
          "name": "stdout",
          "text": [
            "Cloning into 'fm'...\n",
            "remote: Enumerating objects: 762, done.\u001b[K\n",
            "remote: Counting objects: 100% (4/4), done.\u001b[K\n",
            "remote: Compressing objects: 100% (4/4), done.\u001b[K\n",
            "remote: Total 762 (delta 0), reused 3 (delta 0), pack-reused 758\u001b[K\n",
            "Receiving objects: 100% (762/762), 105.85 MiB | 44.55 MiB/s, done.\n",
            "Resolving deltas: 100% (444/444), done.\n"
          ]
        }
      ],
      "source": [
        "!git clone https://github.com/zalandoresearch/fashion-mnist.git fm"
      ]
    },
    {
      "cell_type": "code",
      "source": [
        "import fm.utils.mnist_reader as mnist_reader"
      ],
      "metadata": {
        "id": "gjaGq-k8Ts-o"
      },
      "id": "gjaGq-k8Ts-o",
      "execution_count": 30,
      "outputs": []
    },
    {
      "cell_type": "code",
      "execution_count": 242,
      "id": "6d0dda1f-5706-4468-b704-97f8c9ef3221",
      "metadata": {
        "id": "6d0dda1f-5706-4468-b704-97f8c9ef3221"
      },
      "outputs": [],
      "source": [
        "X_train, y_train = mnist_reader.load_mnist('fm/data/fashion', kind='train')\n",
        "X_test, y_test = mnist_reader.load_mnist('fm/data/fashion', kind='t10k')"
      ]
    },
    {
      "cell_type": "code",
      "execution_count": 175,
      "id": "f03acc4f-72d9-4307-a4b7-d4f3f85bd367",
      "metadata": {
        "id": "f03acc4f-72d9-4307-a4b7-d4f3f85bd367",
        "outputId": "07b23334-ce87-4951-ddcb-eea14085789b",
        "colab": {
          "base_uri": "https://localhost:8080/"
        }
      },
      "outputs": [
        {
          "output_type": "execute_result",
          "data": {
            "text/plain": [
              "(60000, 784)"
            ]
          },
          "metadata": {},
          "execution_count": 175
        }
      ],
      "source": [
        "X_train.shape"
      ]
    },
    {
      "cell_type": "code",
      "execution_count": 243,
      "id": "ed3d4c16-195e-4c2f-a03e-8bb7fe56441a",
      "metadata": {
        "id": "ed3d4c16-195e-4c2f-a03e-8bb7fe56441a",
        "colab": {
          "base_uri": "https://localhost:8080/",
          "height": 282
        },
        "outputId": "f8b65fcd-f192-4e26-a5db-c378041faf32"
      },
      "outputs": [
        {
          "output_type": "execute_result",
          "data": {
            "text/plain": [
              "<matplotlib.image.AxesImage at 0x7f46e4c0bbb0>"
            ]
          },
          "metadata": {},
          "execution_count": 243
        },
        {
          "output_type": "display_data",
          "data": {
            "text/plain": [
              "<Figure size 432x288 with 1 Axes>"
            ],
            "image/png": "[encoded data removed]"
          },
          "metadata": {
            "needs_background": "light"
          }
        }
      ],
      "source": [
        "X_train = X_train[0].reshape((28, 28))\n",
        "plt.imshow(X_train, cmap=\"gray\")"
      ]
    },
    {
      "cell_type": "markdown",
      "id": "2fb9e8da-18d7-49c6-a2b9-9fe6d94b4671",
      "metadata": {
        "id": "2fb9e8da-18d7-49c6-a2b9-9fe6d94b4671"
      },
      "source": [
        "## Feature extraction"
      ]
    },
    {
      "cell_type": "markdown",
      "source": [
        "### Training Data"
      ],
      "metadata": {
        "id": "zlrecmur0HtG"
      },
      "id": "zlrecmur0HtG"
    },
    {
      "cell_type": "code",
      "source": [
        "PATCH_SIZE = int(28 / 7)\n",
        "PATCH_SIZE"
      ],
      "metadata": {
        "colab": {
          "base_uri": "https://localhost:8080/"
        },
        "id": "9QMlCvdHnPnM",
        "outputId": "ff80e95a-783e-4c2d-a32a-1fd90ee9da4d"
      },
      "id": "9QMlCvdHnPnM",
      "execution_count": 248,
      "outputs": [
        {
          "output_type": "execute_result",
          "data": {
            "text/plain": [
              "4"
            ]
          },
          "metadata": {},
          "execution_count": 248
        }
      ]
    },
    {
      "cell_type": "code",
      "source": [
        "X_train.shape[0]"
      ],
      "metadata": {
        "colab": {
          "base_uri": "https://localhost:8080/"
        },
        "id": "iE0ajw3yZyv1",
        "outputId": "a4f3bcb8-3ad7-4502-916e-b833be40ed38"
      },
      "id": "iE0ajw3yZyv1",
      "execution_count": 249,
      "outputs": [
        {
          "output_type": "execute_result",
          "data": {
            "text/plain": [
              "28"
            ]
          },
          "metadata": {},
          "execution_count": 249
        }
      ]
    },
    {
      "cell_type": "code",
      "source": [
        "def getWantedSizedPatches(image, patchSize):\n",
        "  patches = []\n",
        "  for y in range(0, image.shape[0] - patchSize + 1, patchSize):\n",
        "      for x in range(0, image.shape[1] - patchSize + 1, patchSize):\n",
        "          patches.append(image[y:y + patchSize, x:x + patchSize])\n",
        "  return patches"
      ],
      "metadata": {
        "id": "L5MDWGHNZoFR"
      },
      "id": "L5MDWGHNZoFR",
      "execution_count": 239,
      "outputs": []
    },
    {
      "cell_type": "code",
      "execution_count": 250,
      "id": "716fe84d-0413-40af-ae12-500ffa7e7137",
      "metadata": {
        "id": "716fe84d-0413-40af-ae12-500ffa7e7137"
      },
      "outputs": [],
      "source": [
        "patchesXTrain = getWantedSizedPatches(X_train, PATCH_SIZE)"
      ]
    },
    {
      "cell_type": "code",
      "source": [
        "len(patchesXTrain)"
      ],
      "metadata": {
        "colab": {
          "base_uri": "https://localhost:8080/"
        },
        "id": "FxKo7_kD0jwZ",
        "outputId": "d66acb40-dd3b-48af-bae2-29f597755b7d"
      },
      "id": "FxKo7_kD0jwZ",
      "execution_count": 247,
      "outputs": [
        {
          "output_type": "execute_result",
          "data": {
            "text/plain": [
              "16"
            ]
          },
          "metadata": {},
          "execution_count": 247
        }
      ]
    },
    {
      "cell_type": "code",
      "source": [
        "def showPatches(patches):\n",
        "  fig, axes = plt.subplots(7, 7)\n",
        "  axes = axes.flatten()\n",
        "\n",
        "  for i, patch in enumerate(patches):\n",
        "      axes[i].imshow(patch)\n",
        "      axes[i].set_xlabel('Number %d' % (i + 1))\n",
        "\n",
        "  plt.show()"
      ],
      "metadata": {
        "id": "bCQ3LGyBc1VZ"
      },
      "id": "bCQ3LGyBc1VZ",
      "execution_count": 209,
      "outputs": []
    },
    {
      "cell_type": "code",
      "source": [
        "showPatches(patchesXTrain)"
      ],
      "metadata": {
        "colab": {
          "base_uri": "https://localhost:8080/",
          "height": 280
        },
        "id": "x06mQnEI0v70",
        "outputId": "725cf5e2-7fb3-4f8d-d385-03dbd2b3a16f"
      },
      "id": "x06mQnEI0v70",
      "execution_count": 210,
      "outputs": [
        {
          "output_type": "display_data",
          "data": {
            "text/plain": [
              "<Figure size 432x288 with 49 Axes>"
            ],
            "image/png": "[encoded data removed]"
          },
          "metadata": {
            "needs_background": "light"
          }
        }
      ]
    },
    {
      "cell_type": "code",
      "source": [
        "len(patchesXTrain)"
      ],
      "metadata": {
        "colab": {
          "base_uri": "https://localhost:8080/"
        },
        "id": "EvSGYQYpevMq",
        "outputId": "53ec2f42-c50a-4f31-ceac-273805e7ba35"
      },
      "id": "EvSGYQYpevMq",
      "execution_count": 183,
      "outputs": [
        {
          "output_type": "execute_result",
          "data": {
            "text/plain": [
              "784"
            ]
          },
          "metadata": {},
          "execution_count": 183
        }
      ]
    },
    {
      "cell_type": "code",
      "source": [
        "# compute some GLCM properties each patch\n",
        "def calGLCMProperties(patches):\n",
        "  dissimilarity = []\n",
        "  correlation = []\n",
        "  for patch in (patches):\n",
        "    print(patch)\n",
        "    glcm = greycomatrix(patch, \n",
        "                        distances=[5],\n",
        "                        angles=[0], # We ignore this\n",
        "                        levels=256, # Number of possible pixel values\n",
        "                        symmetric=False, \n",
        "                        normed=True)\n",
        "\n",
        "    # print skimage.feature.greycoprops(g, 'contrast')[0][0]\n",
        "    # print skimage.feature.greycoprops(g, 'energy')[0][0]\n",
        "    # print skimage.feature.greycoprops(g, 'homogeneity')[0][0]\n",
        "    # print skimage.feature.greycoprops(g, 'correlation')[0][0]\n",
        "\n",
        "    dissimilarity.append(greycoprops(glcm, 'dissimilarity')[0, 0])\n",
        "    correlation.append(greycoprops(glcm, 'correlation')[0, 0])\n",
        "    print(\"dissimilarity: \" + str(dissimilarity))\n",
        "    print(\"correlation: \" + str(correlation))\n",
        "    print(\"contrast: \" + str(greycoprops(glcm, 'contrast')[0, 0]))\n",
        "    print(\"energy: \" + str(greycoprops(glcm, 'energy')[0, 0]))\n",
        "\n",
        "  return [dissimilarity, correlation, glcm]"
      ],
      "metadata": {
        "id": "lMYrjq_TfUmv"
      },
      "id": "lMYrjq_TfUmv",
      "execution_count": 218,
      "outputs": []
    },
    {
      "cell_type": "code",
      "source": [
        "[dissimilarity, correlation, glcm] = calGLCMProperties(np.array(patchesXTrain))"
      ],
      "metadata": {
        "colab": {
          "base_uri": "https://localhost:8080/"
        },
        "id": "KbQGcH4vkygZ",
        "outputId": "bd97d6bf-e590-4ec5-eac9-dffe2bf80ced"
      },
      "id": "KbQGcH4vkygZ",
      "execution_count": 251,
      "outputs": [
        {
          "output_type": "stream",
          "name": "stdout",
          "text": [
            "[[0 0 0 0]\n",
            " [0 0 0 0]\n",
            " [0 0 0 0]\n",
            " [0 0 0 0]]\n",
            "dissimilarity: [0.0]\n",
            "correlation: [1.0]\n",
            "contrast: 0.0\n",
            "energy: 0.0\n",
            "[[0 0 0 0]\n",
            " [0 0 0 0]\n",
            " [0 0 0 0]\n",
            " [0 0 0 0]]\n",
            "dissimilarity: [0.0, 0.0]\n",
            "correlation: [1.0, 1.0]\n",
            "contrast: 0.0\n",
            "energy: 0.0\n",
            "[[0 0 0 0]\n",
            " [0 0 0 0]\n",
            " [0 0 0 0]\n",
            " [0 0 0 0]]\n",
            "dissimilarity: [0.0, 0.0, 0.0]\n",
            "correlation: [1.0, 1.0, 1.0]\n",
            "contrast: 0.0\n",
            "energy: 0.0\n",
            "[[ 0  0  0  0]\n",
            " [ 0  0  0  0]\n",
            " [ 0  0  0  0]\n",
            " [ 1  0  0 13]]\n",
            "dissimilarity: [0.0, 0.0, 0.0, 0.0]\n",
            "correlation: [1.0, 1.0, 1.0, 1.0]\n",
            "contrast: 0.0\n",
            "energy: 0.0\n",
            "[[ 0  0  0  0]\n",
            " [ 0  0  0  0]\n",
            " [ 0  0  0  0]\n",
            " [73  0  0  1]]\n",
            "dissimilarity: [0.0, 0.0, 0.0, 0.0, 0.0]\n",
            "correlation: [1.0, 1.0, 1.0, 1.0, 1.0]\n",
            "contrast: 0.0\n",
            "energy: 0.0\n",
            "[[0 0 0 0]\n",
            " [0 0 0 0]\n",
            " [0 0 0 0]\n",
            " [4 0 0 0]]\n",
            "dissimilarity: [0.0, 0.0, 0.0, 0.0, 0.0, 0.0]\n",
            "correlation: [1.0, 1.0, 1.0, 1.0, 1.0, 1.0]\n",
            "contrast: 0.0\n",
            "energy: 0.0\n",
            "[[0 0 0 0]\n",
            " [0 0 0 0]\n",
            " [0 0 0 0]\n",
            " [0 1 1 0]]\n",
            "dissimilarity: [0.0, 0.0, 0.0, 0.0, 0.0, 0.0, 0.0]\n",
            "correlation: [1.0, 1.0, 1.0, 1.0, 1.0, 1.0, 1.0]\n",
            "contrast: 0.0\n",
            "energy: 0.0\n",
            "[[0 0 0 0]\n",
            " [0 0 0 0]\n",
            " [0 0 0 0]\n",
            " [0 0 0 0]]\n",
            "dissimilarity: [0.0, 0.0, 0.0, 0.0, 0.0, 0.0, 0.0, 0.0]\n",
            "correlation: [1.0, 1.0, 1.0, 1.0, 1.0, 1.0, 1.0, 1.0]\n",
            "contrast: 0.0\n",
            "energy: 0.0\n",
            "[[0 0 0 0]\n",
            " [0 0 0 0]\n",
            " [0 0 0 0]\n",
            " [0 0 0 0]]\n",
            "dissimilarity: [0.0, 0.0, 0.0, 0.0, 0.0, 0.0, 0.0, 0.0, 0.0]\n",
            "correlation: [1.0, 1.0, 1.0, 1.0, 1.0, 1.0, 1.0, 1.0, 1.0]\n",
            "contrast: 0.0\n",
            "energy: 0.0\n",
            "[[0 0 0 0]\n",
            " [0 0 0 0]\n",
            " [0 0 0 0]\n",
            " [0 0 0 1]]\n",
            "dissimilarity: [0.0, 0.0, 0.0, 0.0, 0.0, 0.0, 0.0, 0.0, 0.0, 0.0]\n",
            "correlation: [1.0, 1.0, 1.0, 1.0, 1.0, 1.0, 1.0, 1.0, 1.0, 1.0]\n",
            "contrast: 0.0\n",
            "energy: 0.0\n",
            "[[  3   0  36 136]\n",
            " [  6   0 102 204]\n",
            " [  0   0 155 236]\n",
            " [  0  69 207 223]]\n",
            "dissimilarity: [0.0, 0.0, 0.0, 0.0, 0.0, 0.0, 0.0, 0.0, 0.0, 0.0, 0.0]\n",
            "correlation: [1.0, 1.0, 1.0, 1.0, 1.0, 1.0, 1.0, 1.0, 1.0, 1.0, 1.0]\n",
            "contrast: 0.0\n",
            "energy: 0.0\n",
            "[[127  62  54   0]\n",
            " [176 134 144 123]\n",
            " [207 178 107 156]\n",
            " [218 216 216 163]]\n",
            "dissimilarity: [0.0, 0.0, 0.0, 0.0, 0.0, 0.0, 0.0, 0.0, 0.0, 0.0, 0.0, 0.0]\n",
            "correlation: [1.0, 1.0, 1.0, 1.0, 1.0, 1.0, 1.0, 1.0, 1.0, 1.0, 1.0, 1.0]\n",
            "contrast: 0.0\n",
            "energy: 0.0\n",
            "[[  0   0   1   3]\n",
            " [ 23   0   0   0]\n",
            " [161 109  64  23]\n",
            " [127 121 122 146]]\n",
            "dissimilarity: [0.0, 0.0, 0.0, 0.0, 0.0, 0.0, 0.0, 0.0, 0.0, 0.0, 0.0, 0.0, 0.0]\n",
            "correlation: [1.0, 1.0, 1.0, 1.0, 1.0, 1.0, 1.0, 1.0, 1.0, 1.0, 1.0, 1.0, 1.0]\n",
            "contrast: 0.0\n",
            "energy: 0.0\n",
            "[[  4   0   0   3]\n",
            " [  0  12  10   0]\n",
            " [ 77 130  72  15]\n",
            " [141  88 172  66]]\n",
            "dissimilarity: [0.0, 0.0, 0.0, 0.0, 0.0, 0.0, 0.0, 0.0, 0.0, 0.0, 0.0, 0.0, 0.0, 0.0]\n",
            "correlation: [1.0, 1.0, 1.0, 1.0, 1.0, 1.0, 1.0, 1.0, 1.0, 1.0, 1.0, 1.0, 1.0, 1.0]\n",
            "contrast: 0.0\n",
            "energy: 0.0\n",
            "[[0 0 0 0]\n",
            " [0 0 0 0]\n",
            " [0 0 0 0]\n",
            " [0 0 0 0]]\n",
            "dissimilarity: [0.0, 0.0, 0.0, 0.0, 0.0, 0.0, 0.0, 0.0, 0.0, 0.0, 0.0, 0.0, 0.0, 0.0, 0.0]\n",
            "correlation: [1.0, 1.0, 1.0, 1.0, 1.0, 1.0, 1.0, 1.0, 1.0, 1.0, 1.0, 1.0, 1.0, 1.0, 1.0]\n",
            "contrast: 0.0\n",
            "energy: 0.0\n",
            "[[0 0 0 0]\n",
            " [0 0 0 0]\n",
            " [0 0 0 0]\n",
            " [0 0 0 0]]\n",
            "dissimilarity: [0.0, 0.0, 0.0, 0.0, 0.0, 0.0, 0.0, 0.0, 0.0, 0.0, 0.0, 0.0, 0.0, 0.0, 0.0, 0.0]\n",
            "correlation: [1.0, 1.0, 1.0, 1.0, 1.0, 1.0, 1.0, 1.0, 1.0, 1.0, 1.0, 1.0, 1.0, 1.0, 1.0, 1.0]\n",
            "contrast: 0.0\n",
            "energy: 0.0\n",
            "[[0 1 1 1]\n",
            " [0 0 0 0]\n",
            " [0 0 0 0]\n",
            " [0 1 3 0]]\n",
            "dissimilarity: [0.0, 0.0, 0.0, 0.0, 0.0, 0.0, 0.0, 0.0, 0.0, 0.0, 0.0, 0.0, 0.0, 0.0, 0.0, 0.0, 0.0]\n",
            "correlation: [1.0, 1.0, 1.0, 1.0, 1.0, 1.0, 1.0, 1.0, 1.0, 1.0, 1.0, 1.0, 1.0, 1.0, 1.0, 1.0, 1.0]\n",
            "contrast: 0.0\n",
            "energy: 0.0\n",
            "[[  0 200 232 232]\n",
            " [  0 183 225 216]\n",
            " [  0 193 228 218]\n",
            " [ 12 219 220 212]]\n",
            "dissimilarity: [0.0, 0.0, 0.0, 0.0, 0.0, 0.0, 0.0, 0.0, 0.0, 0.0, 0.0, 0.0, 0.0, 0.0, 0.0, 0.0, 0.0, 0.0]\n",
            "correlation: [1.0, 1.0, 1.0, 1.0, 1.0, 1.0, 1.0, 1.0, 1.0, 1.0, 1.0, 1.0, 1.0, 1.0, 1.0, 1.0, 1.0, 1.0]\n",
            "contrast: 0.0\n",
            "energy: 0.0\n",
            "[[233 229 223 223]\n",
            " [223 228 235 227]\n",
            " [213 198 180 212]\n",
            " [218 192 169 227]]\n",
            "dissimilarity: [0.0, 0.0, 0.0, 0.0, 0.0, 0.0, 0.0, 0.0, 0.0, 0.0, 0.0, 0.0, 0.0, 0.0, 0.0, 0.0, 0.0, 0.0, 0.0]\n",
            "correlation: [1.0, 1.0, 1.0, 1.0, 1.0, 1.0, 1.0, 1.0, 1.0, 1.0, 1.0, 1.0, 1.0, 1.0, 1.0, 1.0, 1.0, 1.0, 1.0]\n",
            "contrast: 0.0\n",
            "energy: 0.0\n",
            "[[215 213 164 127]\n",
            " [224 222 224 221]\n",
            " [210 211 213 223]\n",
            " [208 218 224 212]]\n",
            "dissimilarity: [0.0, 0.0, 0.0, 0.0, 0.0, 0.0, 0.0, 0.0, 0.0, 0.0, 0.0, 0.0, 0.0, 0.0, 0.0, 0.0, 0.0, 0.0, 0.0, 0.0]\n",
            "correlation: [1.0, 1.0, 1.0, 1.0, 1.0, 1.0, 1.0, 1.0, 1.0, 1.0, 1.0, 1.0, 1.0, 1.0, 1.0, 1.0, 1.0, 1.0, 1.0, 1.0]\n",
            "contrast: 0.0\n",
            "energy: 0.0\n",
            "[[123 196 229   0]\n",
            " [223 245 173   0]\n",
            " [220 243 202   0]\n",
            " [226 197 209  52]]\n",
            "dissimilarity: [0.0, 0.0, 0.0, 0.0, 0.0, 0.0, 0.0, 0.0, 0.0, 0.0, 0.0, 0.0, 0.0, 0.0, 0.0, 0.0, 0.0, 0.0, 0.0, 0.0, 0.0]\n",
            "correlation: [1.0, 1.0, 1.0, 1.0, 1.0, 1.0, 1.0, 1.0, 1.0, 1.0, 1.0, 1.0, 1.0, 1.0, 1.0, 1.0, 1.0, 1.0, 1.0, 1.0, 1.0]\n",
            "contrast: 0.0\n",
            "energy: 0.0\n",
            "[[0 0 0 0]\n",
            " [0 0 0 0]\n",
            " [0 0 1 4]\n",
            " [0 3 0 0]]\n",
            "dissimilarity: [0.0, 0.0, 0.0, 0.0, 0.0, 0.0, 0.0, 0.0, 0.0, 0.0, 0.0, 0.0, 0.0, 0.0, 0.0, 0.0, 0.0, 0.0, 0.0, 0.0, 0.0, 0.0]\n",
            "correlation: [1.0, 1.0, 1.0, 1.0, 1.0, 1.0, 1.0, 1.0, 1.0, 1.0, 1.0, 1.0, 1.0, 1.0, 1.0, 1.0, 1.0, 1.0, 1.0, 1.0, 1.0, 1.0]\n",
            "contrast: 0.0\n",
            "energy: 0.0\n",
            "[[0 0 0 0]\n",
            " [0 0 0 0]\n",
            " [6 7 2 0]\n",
            " [0 0 0 0]]\n",
            "dissimilarity: [0.0, 0.0, 0.0, 0.0, 0.0, 0.0, 0.0, 0.0, 0.0, 0.0, 0.0, 0.0, 0.0, 0.0, 0.0, 0.0, 0.0, 0.0, 0.0, 0.0, 0.0, 0.0, 0.0]\n",
            "correlation: [1.0, 1.0, 1.0, 1.0, 1.0, 1.0, 1.0, 1.0, 1.0, 1.0, 1.0, 1.0, 1.0, 1.0, 1.0, 1.0, 1.0, 1.0, 1.0, 1.0, 1.0, 1.0, 1.0]\n",
            "contrast: 0.0\n",
            "energy: 0.0\n",
            "[[  0   0   6   0]\n",
            " [  0   4   0   0]\n",
            " [  0   0   0   0]\n",
            " [  0  62 145 204]]\n",
            "dissimilarity: [0.0, 0.0, 0.0, 0.0, 0.0, 0.0, 0.0, 0.0, 0.0, 0.0, 0.0, 0.0, 0.0, 0.0, 0.0, 0.0, 0.0, 0.0, 0.0, 0.0, 0.0, 0.0, 0.0, 0.0]\n",
            "correlation: [1.0, 1.0, 1.0, 1.0, 1.0, 1.0, 1.0, 1.0, 1.0, 1.0, 1.0, 1.0, 1.0, 1.0, 1.0, 1.0, 1.0, 1.0, 1.0, 1.0, 1.0, 1.0, 1.0, 1.0]\n",
            "contrast: 0.0\n",
            "energy: 0.0\n",
            "[[ 99 244 222 220]\n",
            " [ 55 236 228 230]\n",
            " [237 226 217 223]\n",
            " [228 207 213 221]]\n",
            "dissimilarity: [0.0, 0.0, 0.0, 0.0, 0.0, 0.0, 0.0, 0.0, 0.0, 0.0, 0.0, 0.0, 0.0, 0.0, 0.0, 0.0, 0.0, 0.0, 0.0, 0.0, 0.0, 0.0, 0.0, 0.0, 0.0]\n",
            "correlation: [1.0, 1.0, 1.0, 1.0, 1.0, 1.0, 1.0, 1.0, 1.0, 1.0, 1.0, 1.0, 1.0, 1.0, 1.0, 1.0, 1.0, 1.0, 1.0, 1.0, 1.0, 1.0, 1.0, 1.0, 1.0]\n",
            "contrast: 0.0\n",
            "energy: 0.0\n",
            "[[218 203 198 221]\n",
            " [228 240 232 213]\n",
            " [222 219 222 221]\n",
            " [218 208 211 218]]\n",
            "dissimilarity: [0.0, 0.0, 0.0, 0.0, 0.0, 0.0, 0.0, 0.0, 0.0, 0.0, 0.0, 0.0, 0.0, 0.0, 0.0, 0.0, 0.0, 0.0, 0.0, 0.0, 0.0, 0.0, 0.0, 0.0, 0.0, 0.0]\n",
            "correlation: [1.0, 1.0, 1.0, 1.0, 1.0, 1.0, 1.0, 1.0, 1.0, 1.0, 1.0, 1.0, 1.0, 1.0, 1.0, 1.0, 1.0, 1.0, 1.0, 1.0, 1.0, 1.0, 1.0, 1.0, 1.0, 1.0]\n",
            "contrast: 0.0\n",
            "energy: 0.0\n",
            "[[215 213 222 220]\n",
            " [218 223 234 217]\n",
            " [216 223 229 215]\n",
            " [224 223 219 215]]\n",
            "dissimilarity: [0.0, 0.0, 0.0, 0.0, 0.0, 0.0, 0.0, 0.0, 0.0, 0.0, 0.0, 0.0, 0.0, 0.0, 0.0, 0.0, 0.0, 0.0, 0.0, 0.0, 0.0, 0.0, 0.0, 0.0, 0.0, 0.0, 0.0]\n",
            "correlation: [1.0, 1.0, 1.0, 1.0, 1.0, 1.0, 1.0, 1.0, 1.0, 1.0, 1.0, 1.0, 1.0, 1.0, 1.0, 1.0, 1.0, 1.0, 1.0, 1.0, 1.0, 1.0, 1.0, 1.0, 1.0, 1.0, 1.0]\n",
            "contrast: 0.0\n",
            "energy: 0.0\n",
            "[[245 119 167  56]\n",
            " [217 209  92   0]\n",
            " [218 255  77   0]\n",
            " [224 244 159   0]]\n",
            "dissimilarity: [0.0, 0.0, 0.0, 0.0, 0.0, 0.0, 0.0, 0.0, 0.0, 0.0, 0.0, 0.0, 0.0, 0.0, 0.0, 0.0, 0.0, 0.0, 0.0, 0.0, 0.0, 0.0, 0.0, 0.0, 0.0, 0.0, 0.0, 0.0]\n",
            "correlation: [1.0, 1.0, 1.0, 1.0, 1.0, 1.0, 1.0, 1.0, 1.0, 1.0, 1.0, 1.0, 1.0, 1.0, 1.0, 1.0, 1.0, 1.0, 1.0, 1.0, 1.0, 1.0, 1.0, 1.0, 1.0, 1.0, 1.0, 1.0]\n",
            "contrast: 0.0\n",
            "energy: 0.0\n",
            "[[  0   0   0   0]\n",
            " [  0  57 187 208]\n",
            " [  3 202 228 224]\n",
            " [ 98 233 198 210]]\n",
            "dissimilarity: [0.0, 0.0, 0.0, 0.0, 0.0, 0.0, 0.0, 0.0, 0.0, 0.0, 0.0, 0.0, 0.0, 0.0, 0.0, 0.0, 0.0, 0.0, 0.0, 0.0, 0.0, 0.0, 0.0, 0.0, 0.0, 0.0, 0.0, 0.0, 0.0]\n",
            "correlation: [1.0, 1.0, 1.0, 1.0, 1.0, 1.0, 1.0, 1.0, 1.0, 1.0, 1.0, 1.0, 1.0, 1.0, 1.0, 1.0, 1.0, 1.0, 1.0, 1.0, 1.0, 1.0, 1.0, 1.0, 1.0, 1.0, 1.0, 1.0, 1.0]\n",
            "contrast: 0.0\n",
            "energy: 0.0\n",
            "[[ 18  44  82 107]\n",
            " [224 221 224 208]\n",
            " [221 211 211 214]\n",
            " [222 229 229 234]]\n",
            "dissimilarity: [0.0, 0.0, 0.0, 0.0, 0.0, 0.0, 0.0, 0.0, 0.0, 0.0, 0.0, 0.0, 0.0, 0.0, 0.0, 0.0, 0.0, 0.0, 0.0, 0.0, 0.0, 0.0, 0.0, 0.0, 0.0, 0.0, 0.0, 0.0, 0.0, 0.0]\n",
            "correlation: [1.0, 1.0, 1.0, 1.0, 1.0, 1.0, 1.0, 1.0, 1.0, 1.0, 1.0, 1.0, 1.0, 1.0, 1.0, 1.0, 1.0, 1.0, 1.0, 1.0, 1.0, 1.0, 1.0, 1.0, 1.0, 1.0, 1.0, 1.0, 1.0, 1.0]\n",
            "contrast: 0.0\n",
            "energy: 0.0\n",
            "[[189 228 220 222]\n",
            " [204 214 208 209]\n",
            " [205 205 205 220]\n",
            " [249 220 194 215]]\n",
            "dissimilarity: [0.0, 0.0, 0.0, 0.0, 0.0, 0.0, 0.0, 0.0, 0.0, 0.0, 0.0, 0.0, 0.0, 0.0, 0.0, 0.0, 0.0, 0.0, 0.0, 0.0, 0.0, 0.0, 0.0, 0.0, 0.0, 0.0, 0.0, 0.0, 0.0, 0.0, 0.0]\n",
            "correlation: [1.0, 1.0, 1.0, 1.0, 1.0, 1.0, 1.0, 1.0, 1.0, 1.0, 1.0, 1.0, 1.0, 1.0, 1.0, 1.0, 1.0, 1.0, 1.0, 1.0, 1.0, 1.0, 1.0, 1.0, 1.0, 1.0, 1.0, 1.0, 1.0, 1.0, 1.0]\n",
            "contrast: 0.0\n",
            "energy: 0.0\n",
            "[[217 226 200 205]\n",
            " [200 159 245 193]\n",
            " [240  80 150 255]\n",
            " [217 241  65  73]]\n",
            "dissimilarity: [0.0, 0.0, 0.0, 0.0, 0.0, 0.0, 0.0, 0.0, 0.0, 0.0, 0.0, 0.0, 0.0, 0.0, 0.0, 0.0, 0.0, 0.0, 0.0, 0.0, 0.0, 0.0, 0.0, 0.0, 0.0, 0.0, 0.0, 0.0, 0.0, 0.0, 0.0, 0.0]\n",
            "correlation: [1.0, 1.0, 1.0, 1.0, 1.0, 1.0, 1.0, 1.0, 1.0, 1.0, 1.0, 1.0, 1.0, 1.0, 1.0, 1.0, 1.0, 1.0, 1.0, 1.0, 1.0, 1.0, 1.0, 1.0, 1.0, 1.0, 1.0, 1.0, 1.0, 1.0, 1.0, 1.0]\n",
            "contrast: 0.0\n",
            "energy: 0.0\n",
            "[[211 230 224 234]\n",
            " [206 223 255 255]\n",
            " [229 221 188 154]\n",
            " [106 117 168 219]]\n",
            "dissimilarity: [0.0, 0.0, 0.0, 0.0, 0.0, 0.0, 0.0, 0.0, 0.0, 0.0, 0.0, 0.0, 0.0, 0.0, 0.0, 0.0, 0.0, 0.0, 0.0, 0.0, 0.0, 0.0, 0.0, 0.0, 0.0, 0.0, 0.0, 0.0, 0.0, 0.0, 0.0, 0.0, 0.0]\n",
            "correlation: [1.0, 1.0, 1.0, 1.0, 1.0, 1.0, 1.0, 1.0, 1.0, 1.0, 1.0, 1.0, 1.0, 1.0, 1.0, 1.0, 1.0, 1.0, 1.0, 1.0, 1.0, 1.0, 1.0, 1.0, 1.0, 1.0, 1.0, 1.0, 1.0, 1.0, 1.0, 1.0, 1.0]\n",
            "contrast: 0.0\n",
            "energy: 0.0\n",
            "[[176 188 250 248]\n",
            " [221 234 221 211]\n",
            " [191 210 204 209]\n",
            " [221 215 217 223]]\n",
            "dissimilarity: [0.0, 0.0, 0.0, 0.0, 0.0, 0.0, 0.0, 0.0, 0.0, 0.0, 0.0, 0.0, 0.0, 0.0, 0.0, 0.0, 0.0, 0.0, 0.0, 0.0, 0.0, 0.0, 0.0, 0.0, 0.0, 0.0, 0.0, 0.0, 0.0, 0.0, 0.0, 0.0, 0.0, 0.0]\n",
            "correlation: [1.0, 1.0, 1.0, 1.0, 1.0, 1.0, 1.0, 1.0, 1.0, 1.0, 1.0, 1.0, 1.0, 1.0, 1.0, 1.0, 1.0, 1.0, 1.0, 1.0, 1.0, 1.0, 1.0, 1.0, 1.0, 1.0, 1.0, 1.0, 1.0, 1.0, 1.0, 1.0, 1.0, 1.0]\n",
            "contrast: 0.0\n",
            "energy: 0.0\n",
            "[[233 238 215   0]\n",
            " [220 232 246   0]\n",
            " [222 228 225   0]\n",
            " [223 224 229  29]]\n",
            "dissimilarity: [0.0, 0.0, 0.0, 0.0, 0.0, 0.0, 0.0, 0.0, 0.0, 0.0, 0.0, 0.0, 0.0, 0.0, 0.0, 0.0, 0.0, 0.0, 0.0, 0.0, 0.0, 0.0, 0.0, 0.0, 0.0, 0.0, 0.0, 0.0, 0.0, 0.0, 0.0, 0.0, 0.0, 0.0, 0.0]\n",
            "correlation: [1.0, 1.0, 1.0, 1.0, 1.0, 1.0, 1.0, 1.0, 1.0, 1.0, 1.0, 1.0, 1.0, 1.0, 1.0, 1.0, 1.0, 1.0, 1.0, 1.0, 1.0, 1.0, 1.0, 1.0, 1.0, 1.0, 1.0, 1.0, 1.0, 1.0, 1.0, 1.0, 1.0, 1.0, 1.0]\n",
            "contrast: 0.0\n",
            "energy: 0.0\n",
            "[[ 75 204 212 204]\n",
            " [ 48 203 183 194]\n",
            " [  0 122 219 193]\n",
            " [  0   0  74 189]]\n",
            "dissimilarity: [0.0, 0.0, 0.0, 0.0, 0.0, 0.0, 0.0, 0.0, 0.0, 0.0, 0.0, 0.0, 0.0, 0.0, 0.0, 0.0, 0.0, 0.0, 0.0, 0.0, 0.0, 0.0, 0.0, 0.0, 0.0, 0.0, 0.0, 0.0, 0.0, 0.0, 0.0, 0.0, 0.0, 0.0, 0.0, 0.0]\n",
            "correlation: [1.0, 1.0, 1.0, 1.0, 1.0, 1.0, 1.0, 1.0, 1.0, 1.0, 1.0, 1.0, 1.0, 1.0, 1.0, 1.0, 1.0, 1.0, 1.0, 1.0, 1.0, 1.0, 1.0, 1.0, 1.0, 1.0, 1.0, 1.0, 1.0, 1.0, 1.0, 1.0, 1.0, 1.0, 1.0, 1.0]\n",
            "contrast: 0.0\n",
            "energy: 0.0\n",
            "[[193 205 211 225]\n",
            " [213 197 185 190]\n",
            " [179 171 183 196]\n",
            " [212 191 175 172]]\n",
            "dissimilarity: [0.0, 0.0, 0.0, 0.0, 0.0, 0.0, 0.0, 0.0, 0.0, 0.0, 0.0, 0.0, 0.0, 0.0, 0.0, 0.0, 0.0, 0.0, 0.0, 0.0, 0.0, 0.0, 0.0, 0.0, 0.0, 0.0, 0.0, 0.0, 0.0, 0.0, 0.0, 0.0, 0.0, 0.0, 0.0, 0.0, 0.0]\n",
            "correlation: [1.0, 1.0, 1.0, 1.0, 1.0, 1.0, 1.0, 1.0, 1.0, 1.0, 1.0, 1.0, 1.0, 1.0, 1.0, 1.0, 1.0, 1.0, 1.0, 1.0, 1.0, 1.0, 1.0, 1.0, 1.0, 1.0, 1.0, 1.0, 1.0, 1.0, 1.0, 1.0, 1.0, 1.0, 1.0, 1.0, 1.0]\n",
            "contrast: 0.0\n",
            "energy: 0.0\n",
            "[[216 185 197 206]\n",
            " [194 192 202 214]\n",
            " [204 210 213 207]\n",
            " [175 181 185 188]]\n",
            "dissimilarity: [0.0, 0.0, 0.0, 0.0, 0.0, 0.0, 0.0, 0.0, 0.0, 0.0, 0.0, 0.0, 0.0, 0.0, 0.0, 0.0, 0.0, 0.0, 0.0, 0.0, 0.0, 0.0, 0.0, 0.0, 0.0, 0.0, 0.0, 0.0, 0.0, 0.0, 0.0, 0.0, 0.0, 0.0, 0.0, 0.0, 0.0, 0.0]\n",
            "correlation: [1.0, 1.0, 1.0, 1.0, 1.0, 1.0, 1.0, 1.0, 1.0, 1.0, 1.0, 1.0, 1.0, 1.0, 1.0, 1.0, 1.0, 1.0, 1.0, 1.0, 1.0, 1.0, 1.0, 1.0, 1.0, 1.0, 1.0, 1.0, 1.0, 1.0, 1.0, 1.0, 1.0, 1.0, 1.0, 1.0, 1.0, 1.0]\n",
            "contrast: 0.0\n",
            "energy: 0.0\n",
            "[[198 213 240 195]\n",
            " [219 221 220 236]\n",
            " [211 210 200 196]\n",
            " [189 188 193 198]]\n",
            "dissimilarity: [0.0, 0.0, 0.0, 0.0, 0.0, 0.0, 0.0, 0.0, 0.0, 0.0, 0.0, 0.0, 0.0, 0.0, 0.0, 0.0, 0.0, 0.0, 0.0, 0.0, 0.0, 0.0, 0.0, 0.0, 0.0, 0.0, 0.0, 0.0, 0.0, 0.0, 0.0, 0.0, 0.0, 0.0, 0.0, 0.0, 0.0, 0.0, 0.0]\n",
            "correlation: [1.0, 1.0, 1.0, 1.0, 1.0, 1.0, 1.0, 1.0, 1.0, 1.0, 1.0, 1.0, 1.0, 1.0, 1.0, 1.0, 1.0, 1.0, 1.0, 1.0, 1.0, 1.0, 1.0, 1.0, 1.0, 1.0, 1.0, 1.0, 1.0, 1.0, 1.0, 1.0, 1.0, 1.0, 1.0, 1.0, 1.0, 1.0, 1.0]\n",
            "contrast: 0.0\n",
            "energy: 0.0\n",
            "[[227 245 239 223]\n",
            " [225 216 199 206]\n",
            " [194 191 195 191]\n",
            " [204 209 210 210]]\n",
            "dissimilarity: [0.0, 0.0, 0.0, 0.0, 0.0, 0.0, 0.0, 0.0, 0.0, 0.0, 0.0, 0.0, 0.0, 0.0, 0.0, 0.0, 0.0, 0.0, 0.0, 0.0, 0.0, 0.0, 0.0, 0.0, 0.0, 0.0, 0.0, 0.0, 0.0, 0.0, 0.0, 0.0, 0.0, 0.0, 0.0, 0.0, 0.0, 0.0, 0.0, 0.0]\n",
            "correlation: [1.0, 1.0, 1.0, 1.0, 1.0, 1.0, 1.0, 1.0, 1.0, 1.0, 1.0, 1.0, 1.0, 1.0, 1.0, 1.0, 1.0, 1.0, 1.0, 1.0, 1.0, 1.0, 1.0, 1.0, 1.0, 1.0, 1.0, 1.0, 1.0, 1.0, 1.0, 1.0, 1.0, 1.0, 1.0, 1.0, 1.0, 1.0, 1.0, 1.0]\n",
            "contrast: 0.0\n",
            "energy: 0.0\n",
            "[[218 212 209 222]\n",
            " [186 181 177 172]\n",
            " [198 192 176 156]\n",
            " [211 188 188 194]]\n",
            "dissimilarity: [0.0, 0.0, 0.0, 0.0, 0.0, 0.0, 0.0, 0.0, 0.0, 0.0, 0.0, 0.0, 0.0, 0.0, 0.0, 0.0, 0.0, 0.0, 0.0, 0.0, 0.0, 0.0, 0.0, 0.0, 0.0, 0.0, 0.0, 0.0, 0.0, 0.0, 0.0, 0.0, 0.0, 0.0, 0.0, 0.0, 0.0, 0.0, 0.0, 0.0, 0.0]\n",
            "correlation: [1.0, 1.0, 1.0, 1.0, 1.0, 1.0, 1.0, 1.0, 1.0, 1.0, 1.0, 1.0, 1.0, 1.0, 1.0, 1.0, 1.0, 1.0, 1.0, 1.0, 1.0, 1.0, 1.0, 1.0, 1.0, 1.0, 1.0, 1.0, 1.0, 1.0, 1.0, 1.0, 1.0, 1.0, 1.0, 1.0, 1.0, 1.0, 1.0, 1.0, 1.0]\n",
            "contrast: 0.0\n",
            "energy: 0.0\n",
            "[[220 221 230  67]\n",
            " [181 205 206 115]\n",
            " [167 177 210  92]\n",
            " [192 216 170   0]]\n",
            "dissimilarity: [0.0, 0.0, 0.0, 0.0, 0.0, 0.0, 0.0, 0.0, 0.0, 0.0, 0.0, 0.0, 0.0, 0.0, 0.0, 0.0, 0.0, 0.0, 0.0, 0.0, 0.0, 0.0, 0.0, 0.0, 0.0, 0.0, 0.0, 0.0, 0.0, 0.0, 0.0, 0.0, 0.0, 0.0, 0.0, 0.0, 0.0, 0.0, 0.0, 0.0, 0.0, 0.0]\n",
            "correlation: [1.0, 1.0, 1.0, 1.0, 1.0, 1.0, 1.0, 1.0, 1.0, 1.0, 1.0, 1.0, 1.0, 1.0, 1.0, 1.0, 1.0, 1.0, 1.0, 1.0, 1.0, 1.0, 1.0, 1.0, 1.0, 1.0, 1.0, 1.0, 1.0, 1.0, 1.0, 1.0, 1.0, 1.0, 1.0, 1.0, 1.0, 1.0, 1.0, 1.0, 1.0, 1.0]\n",
            "contrast: 0.0\n",
            "energy: 0.0\n",
            "[[2 0 0 0]\n",
            " [0 0 0 0]\n",
            " [0 0 0 0]\n",
            " [0 0 0 0]]\n",
            "dissimilarity: [0.0, 0.0, 0.0, 0.0, 0.0, 0.0, 0.0, 0.0, 0.0, 0.0, 0.0, 0.0, 0.0, 0.0, 0.0, 0.0, 0.0, 0.0, 0.0, 0.0, 0.0, 0.0, 0.0, 0.0, 0.0, 0.0, 0.0, 0.0, 0.0, 0.0, 0.0, 0.0, 0.0, 0.0, 0.0, 0.0, 0.0, 0.0, 0.0, 0.0, 0.0, 0.0, 0.0]\n",
            "correlation: [1.0, 1.0, 1.0, 1.0, 1.0, 1.0, 1.0, 1.0, 1.0, 1.0, 1.0, 1.0, 1.0, 1.0, 1.0, 1.0, 1.0, 1.0, 1.0, 1.0, 1.0, 1.0, 1.0, 1.0, 1.0, 1.0, 1.0, 1.0, 1.0, 1.0, 1.0, 1.0, 1.0, 1.0, 1.0, 1.0, 1.0, 1.0, 1.0, 1.0, 1.0, 1.0, 1.0]\n",
            "contrast: 0.0\n",
            "energy: 0.0\n",
            "[[ 66 200 222 237]\n",
            " [  0   0   0  40]\n",
            " [  0   0   0   0]\n",
            " [  0   0   0   0]]\n",
            "dissimilarity: [0.0, 0.0, 0.0, 0.0, 0.0, 0.0, 0.0, 0.0, 0.0, 0.0, 0.0, 0.0, 0.0, 0.0, 0.0, 0.0, 0.0, 0.0, 0.0, 0.0, 0.0, 0.0, 0.0, 0.0, 0.0, 0.0, 0.0, 0.0, 0.0, 0.0, 0.0, 0.0, 0.0, 0.0, 0.0, 0.0, 0.0, 0.0, 0.0, 0.0, 0.0, 0.0, 0.0, 0.0]\n",
            "correlation: [1.0, 1.0, 1.0, 1.0, 1.0, 1.0, 1.0, 1.0, 1.0, 1.0, 1.0, 1.0, 1.0, 1.0, 1.0, 1.0, 1.0, 1.0, 1.0, 1.0, 1.0, 1.0, 1.0, 1.0, 1.0, 1.0, 1.0, 1.0, 1.0, 1.0, 1.0, 1.0, 1.0, 1.0, 1.0, 1.0, 1.0, 1.0, 1.0, 1.0, 1.0, 1.0, 1.0, 1.0]\n",
            "contrast: 0.0\n",
            "energy: 0.0\n",
            "[[239 242 246 243]\n",
            " [ 61  44  72  41]\n",
            " [  0   0   0   0]\n",
            " [  0   0   0   0]]\n",
            "dissimilarity: [0.0, 0.0, 0.0, 0.0, 0.0, 0.0, 0.0, 0.0, 0.0, 0.0, 0.0, 0.0, 0.0, 0.0, 0.0, 0.0, 0.0, 0.0, 0.0, 0.0, 0.0, 0.0, 0.0, 0.0, 0.0, 0.0, 0.0, 0.0, 0.0, 0.0, 0.0, 0.0, 0.0, 0.0, 0.0, 0.0, 0.0, 0.0, 0.0, 0.0, 0.0, 0.0, 0.0, 0.0, 0.0]\n",
            "correlation: [1.0, 1.0, 1.0, 1.0, 1.0, 1.0, 1.0, 1.0, 1.0, 1.0, 1.0, 1.0, 1.0, 1.0, 1.0, 1.0, 1.0, 1.0, 1.0, 1.0, 1.0, 1.0, 1.0, 1.0, 1.0, 1.0, 1.0, 1.0, 1.0, 1.0, 1.0, 1.0, 1.0, 1.0, 1.0, 1.0, 1.0, 1.0, 1.0, 1.0, 1.0, 1.0, 1.0, 1.0, 1.0]\n",
            "contrast: 0.0\n",
            "energy: 0.0\n",
            "[[244 221 220 193]\n",
            " [ 35   0   0   0]\n",
            " [  0   0   0   0]\n",
            " [  0   0   0   0]]\n",
            "dissimilarity: [0.0, 0.0, 0.0, 0.0, 0.0, 0.0, 0.0, 0.0, 0.0, 0.0, 0.0, 0.0, 0.0, 0.0, 0.0, 0.0, 0.0, 0.0, 0.0, 0.0, 0.0, 0.0, 0.0, 0.0, 0.0, 0.0, 0.0, 0.0, 0.0, 0.0, 0.0, 0.0, 0.0, 0.0, 0.0, 0.0, 0.0, 0.0, 0.0, 0.0, 0.0, 0.0, 0.0, 0.0, 0.0, 0.0]\n",
            "correlation: [1.0, 1.0, 1.0, 1.0, 1.0, 1.0, 1.0, 1.0, 1.0, 1.0, 1.0, 1.0, 1.0, 1.0, 1.0, 1.0, 1.0, 1.0, 1.0, 1.0, 1.0, 1.0, 1.0, 1.0, 1.0, 1.0, 1.0, 1.0, 1.0, 1.0, 1.0, 1.0, 1.0, 1.0, 1.0, 1.0, 1.0, 1.0, 1.0, 1.0, 1.0, 1.0, 1.0, 1.0, 1.0, 1.0]\n",
            "contrast: 0.0\n",
            "energy: 0.0\n",
            "[[191 179 182 182]\n",
            " [  0   0   0   0]\n",
            " [  0   0   0   0]\n",
            " [  0   0   0   0]]\n",
            "dissimilarity: [0.0, 0.0, 0.0, 0.0, 0.0, 0.0, 0.0, 0.0, 0.0, 0.0, 0.0, 0.0, 0.0, 0.0, 0.0, 0.0, 0.0, 0.0, 0.0, 0.0, 0.0, 0.0, 0.0, 0.0, 0.0, 0.0, 0.0, 0.0, 0.0, 0.0, 0.0, 0.0, 0.0, 0.0, 0.0, 0.0, 0.0, 0.0, 0.0, 0.0, 0.0, 0.0, 0.0, 0.0, 0.0, 0.0, 0.0]\n",
            "correlation: [1.0, 1.0, 1.0, 1.0, 1.0, 1.0, 1.0, 1.0, 1.0, 1.0, 1.0, 1.0, 1.0, 1.0, 1.0, 1.0, 1.0, 1.0, 1.0, 1.0, 1.0, 1.0, 1.0, 1.0, 1.0, 1.0, 1.0, 1.0, 1.0, 1.0, 1.0, 1.0, 1.0, 1.0, 1.0, 1.0, 1.0, 1.0, 1.0, 1.0, 1.0, 1.0, 1.0, 1.0, 1.0, 1.0, 1.0]\n",
            "contrast: 0.0\n",
            "energy: 0.0\n",
            "[[181 176 166 168]\n",
            " [  0   0   0   0]\n",
            " [  0   0   0   0]\n",
            " [  0   0   0   0]]\n",
            "dissimilarity: [0.0, 0.0, 0.0, 0.0, 0.0, 0.0, 0.0, 0.0, 0.0, 0.0, 0.0, 0.0, 0.0, 0.0, 0.0, 0.0, 0.0, 0.0, 0.0, 0.0, 0.0, 0.0, 0.0, 0.0, 0.0, 0.0, 0.0, 0.0, 0.0, 0.0, 0.0, 0.0, 0.0, 0.0, 0.0, 0.0, 0.0, 0.0, 0.0, 0.0, 0.0, 0.0, 0.0, 0.0, 0.0, 0.0, 0.0, 0.0]\n",
            "correlation: [1.0, 1.0, 1.0, 1.0, 1.0, 1.0, 1.0, 1.0, 1.0, 1.0, 1.0, 1.0, 1.0, 1.0, 1.0, 1.0, 1.0, 1.0, 1.0, 1.0, 1.0, 1.0, 1.0, 1.0, 1.0, 1.0, 1.0, 1.0, 1.0, 1.0, 1.0, 1.0, 1.0, 1.0, 1.0, 1.0, 1.0, 1.0, 1.0, 1.0, 1.0, 1.0, 1.0, 1.0, 1.0, 1.0, 1.0, 1.0]\n",
            "contrast: 0.0\n",
            "energy: 0.0\n",
            "[[99 58  0  0]\n",
            " [ 0  0  0  0]\n",
            " [ 0  0  0  0]\n",
            " [ 0  0  0  0]]\n",
            "dissimilarity: [0.0, 0.0, 0.0, 0.0, 0.0, 0.0, 0.0, 0.0, 0.0, 0.0, 0.0, 0.0, 0.0, 0.0, 0.0, 0.0, 0.0, 0.0, 0.0, 0.0, 0.0, 0.0, 0.0, 0.0, 0.0, 0.0, 0.0, 0.0, 0.0, 0.0, 0.0, 0.0, 0.0, 0.0, 0.0, 0.0, 0.0, 0.0, 0.0, 0.0, 0.0, 0.0, 0.0, 0.0, 0.0, 0.0, 0.0, 0.0, 0.0]\n",
            "correlation: [1.0, 1.0, 1.0, 1.0, 1.0, 1.0, 1.0, 1.0, 1.0, 1.0, 1.0, 1.0, 1.0, 1.0, 1.0, 1.0, 1.0, 1.0, 1.0, 1.0, 1.0, 1.0, 1.0, 1.0, 1.0, 1.0, 1.0, 1.0, 1.0, 1.0, 1.0, 1.0, 1.0, 1.0, 1.0, 1.0, 1.0, 1.0, 1.0, 1.0, 1.0, 1.0, 1.0, 1.0, 1.0, 1.0, 1.0, 1.0, 1.0]\n",
            "contrast: 0.0\n",
            "energy: 0.0\n"
          ]
        }
      ]
    },
    {
      "cell_type": "code",
      "source": [
        "len(dissimilarity)"
      ],
      "metadata": {
        "colab": {
          "base_uri": "https://localhost:8080/"
        },
        "id": "NvAguJiDe0YM",
        "outputId": "3ae46e24-8d7c-4800-d767-b08394b5b407"
      },
      "id": "NvAguJiDe0YM",
      "execution_count": 118,
      "outputs": [
        {
          "output_type": "execute_result",
          "data": {
            "text/plain": [
              "49"
            ]
          },
          "metadata": {},
          "execution_count": 118
        }
      ]
    },
    {
      "cell_type": "code",
      "execution_count": 122,
      "id": "186bebf1-f92a-460e-9d2a-60cc720cc77a",
      "metadata": {
        "id": "186bebf1-f92a-460e-9d2a-60cc720cc77a",
        "outputId": "304846f7-fb0f-4bcb-a36f-913d8c998a27",
        "colab": {
          "base_uri": "https://localhost:8080/",
          "height": 279
        }
      },
      "outputs": [
        {
          "output_type": "display_data",
          "data": {
            "text/plain": [
              "<Figure size 432x288 with 1 Axes>"
            ],
            "image/png": "[encoded data removed]"
          },
          "metadata": {
            "needs_background": "light"
          }
        }
      ],
      "source": [
        "# for each patch, plot (dissimilarity, correlation)\n",
        "plt.plot(dissimilarity[:len(patchesXTrain)], correlation[:len(patchesXTrain)], 'go')\n",
        "plt.xlabel('GLCM Dissimilarity')\n",
        "plt.ylabel('GLCM Correlation')\n",
        "plt.show()"
      ]
    },
    {
      "cell_type": "code",
      "execution_count": 42,
      "id": "ba8cc608-4bc3-4717-b6e4-fe0b4831c5f0",
      "metadata": {
        "id": "ba8cc608-4bc3-4717-b6e4-fe0b4831c5f0",
        "outputId": "cf0ec895-5a06-4075-892a-1b6c1791a006",
        "colab": {
          "base_uri": "https://localhost:8080/"
        }
      },
      "outputs": [
        {
          "output_type": "execute_result",
          "data": {
            "text/plain": [
              "16"
            ]
          },
          "metadata": {},
          "execution_count": 42
        }
      ],
      "source": [
        "PATCH_PER_IMAGE = int(28 / PATCH_SIZE) * int(28 / PATCH_SIZE)\n",
        "PATCH_PER_IMAGE"
      ]
    },
    {
      "cell_type": "code",
      "source": [
        "y_train = [0, 0, 1, 1, 0, 0, 1, 1, 1, 1, 1, 1, 1, 1, 1, 1]\n",
        "  \n",
        "# Calling DataFrame constructor after zipping\n",
        "# both lists, with columns specified\n",
        "X_train = pd.DataFrame(list(zip(dissimilarity, correlation)),\n",
        "               columns =['dissimilarity', 'correlation'])\n",
        "\n",
        "sc = StandardScaler()\n",
        "sc.fit(X_train)\n",
        "X_train= sc.transform(X_train)"
      ],
      "metadata": {
        "id": "4SgjXEThxjy2"
      },
      "id": "4SgjXEThxjy2",
      "execution_count": 43,
      "outputs": []
    },
    {
      "cell_type": "markdown",
      "source": [
        "### Test Data"
      ],
      "metadata": {
        "id": "h5O05Ao_1R13"
      },
      "id": "h5O05Ao_1R13"
    },
    {
      "cell_type": "code",
      "source": [
        "X_test= X_test[0].reshape((28, 28))\n",
        "plt.imshow(X_test, cmap=\"gray\")"
      ],
      "metadata": {
        "colab": {
          "base_uri": "https://localhost:8080/",
          "height": 282
        },
        "id": "Is_XpQwPy76T",
        "outputId": "faa3179b-e48e-4bc4-cabc-8d9bf65c4fac"
      },
      "id": "Is_XpQwPy76T",
      "execution_count": 44,
      "outputs": [
        {
          "output_type": "execute_result",
          "data": {
            "text/plain": [
              "<matplotlib.image.AxesImage at 0x7f46f4b40d00>"
            ]
          },
          "metadata": {},
          "execution_count": 44
        },
        {
          "output_type": "display_data",
          "data": {
            "text/plain": [
              "<Figure size 432x288 with 1 Axes>"
            ],
            "image/png": "[encoded data removed]"
          },
          "metadata": {
            "needs_background": "light"
          }
        }
      ]
    },
    {
      "cell_type": "code",
      "source": [
        "patchesXTest = getWantedSizedPatches(X_test, PATCH_SIZE)"
      ],
      "metadata": {
        "id": "4x-S0JH21XTK"
      },
      "id": "4x-S0JH21XTK",
      "execution_count": 45,
      "outputs": []
    },
    {
      "cell_type": "code",
      "source": [
        "showPatches(patchesXTest)"
      ],
      "metadata": {
        "colab": {
          "base_uri": "https://localhost:8080/",
          "height": 280
        },
        "id": "z8Xp8LIZ2Jwk",
        "outputId": "d7755fcb-f26e-4afe-b7dc-c24fe29b9a9e"
      },
      "id": "z8Xp8LIZ2Jwk",
      "execution_count": 46,
      "outputs": [
        {
          "output_type": "display_data",
          "data": {
            "text/plain": [
              "<Figure size 432x288 with 16 Axes>"
            ],
            "image/png": "[encoded data removed]"
          },
          "metadata": {
            "needs_background": "light"
          }
        }
      ]
    },
    {
      "cell_type": "code",
      "source": [
        "y_test = [0, 0, 0, 0, 0, 0, 1, 1, 1, 1, 1, 1, 0, 0, 0, 0]\n",
        "  \n",
        "# Calling DataFrame constructor after zipping\n",
        "# both lists, with columns specified\n",
        "X_test = pd.DataFrame(list(zip(dissimilarity, correlation)),\n",
        "               columns =['dissimilarity', 'correlation'])\n",
        "\n",
        "sc = StandardScaler()\n",
        "sc.fit(X_test)\n",
        "X_test = sc.transform(X_test)"
      ],
      "metadata": {
        "id": "0GHBv5cF2PKL"
      },
      "id": "0GHBv5cF2PKL",
      "execution_count": 47,
      "outputs": []
    },
    {
      "cell_type": "markdown",
      "id": "52318d8b-bbd2-4d3f-920c-55ca3ff5e931",
      "metadata": {
        "jp-MarkdownHeadingCollapsed": true,
        "tags": [],
        "id": "52318d8b-bbd2-4d3f-920c-55ca3ff5e931"
      },
      "source": [
        "## Tasks - Classification\n",
        "\n",
        "Build your own classifier and extract metrics to know how the classifier is working.\n",
        "\n",
        "Detect with which classes is the classifier working better and worse. Try to explain the reasons.\n",
        "\n",
        "\n",
        "**HINT:** The confusion matrix can be very helpful.\n",
        "\n",
        "Useful link: https://towardsdatascience.com/multi-class-classification-extracting-performance-metrics-from-the-confusion-matrix-b379b427a872\n"
      ]
    },
    {
      "cell_type": "code",
      "source": [
        "models = dict()\n",
        "\n",
        "models['GNB'] = GaussianNB()\n",
        "models['LR'] = LogisticRegression()\n",
        "models['DT'] = DecisionTreeClassifier()\n",
        "models['SVM'] = SVC()\n",
        "models['KNN'] = KNeighborsClassifier(n_neighbors=5)"
      ],
      "metadata": {
        "id": "vsou4_BUOaXk"
      },
      "id": "vsou4_BUOaXk",
      "execution_count": 53,
      "outputs": []
    },
    {
      "cell_type": "code",
      "source": [
        "def evaluateModels(models, X_train, X_test, y_train, y_test):\n",
        "  accuracy, precision, recall, f1Score, predictions = {}, {}, {}, {}, {}\n",
        "\n",
        "  for key in models.keys():\n",
        "      # print(SCORERS.keys())\n",
        "      print(\"Model:  \" + key)\n",
        "      models[key].fit(X_train, y_train)\n",
        "      y_pred = models[key].predict(X_test)\n",
        "\n",
        "      recall[key] = recall_score(y_test, y_pred)\n",
        "      accuracy[key] = accuracy_score(y_test, y_pred)\n",
        "      precision[key] = precision_score(y_test, y_pred)\n",
        "      f1Score[key] = f1_score(y_test, y_pred)\n",
        "\n",
        "  print(\"\")\n",
        "  df_model = pd.DataFrame(index=models.keys(), columns=['Accuracy', 'Precision', 'Recall'])\n",
        "  df_model['Accuracy'] = accuracy.values()\n",
        "  df_model['Precision'] = precision.values()\n",
        "  df_model['Recall'] = recall.values()\n",
        "  df_model['F1'] = f1Score.values()\n",
        "\n",
        "  print(df_model)\n",
        "\n",
        "  ax  = df_model.plot.bar(rot=45)\n",
        "  ax.legend(ncol= len(models.keys()), bbox_to_anchor=(0, 1), loc='lower left', prop={'size': 10})\n",
        "  plt.tight_layout()"
      ],
      "metadata": {
        "id": "AFk2HSiVO2G2"
      },
      "id": "AFk2HSiVO2G2",
      "execution_count": 51,
      "outputs": []
    },
    {
      "cell_type": "code",
      "source": [
        "evaluateModels(models, X_train, X_test, y_train, y_test)"
      ],
      "metadata": {
        "colab": {
          "base_uri": "https://localhost:8080/",
          "height": 505
        },
        "id": "QrQH6KIlVUNo",
        "outputId": "5c544678-7f02-4dfc-da06-76e9d3771844"
      },
      "id": "QrQH6KIlVUNo",
      "execution_count": 54,
      "outputs": [
        {
          "output_type": "stream",
          "name": "stdout",
          "text": [
            "Model:  GNB\n",
            "Model:  LR\n",
            "Model:  DT\n",
            "Model:  SVM\n",
            "Model:  KNN\n",
            "\n",
            "     Accuracy  Precision  Recall        F1\n",
            "GNB     0.375      0.375     1.0  0.545455\n",
            "LR      0.375      0.375     1.0  0.545455\n",
            "DT      0.625      0.500     1.0  0.666667\n",
            "SVM     0.375      0.375     1.0  0.545455\n",
            "KNN     0.375      0.375     1.0  0.545455\n"
          ]
        },
        {
          "output_type": "display_data",
          "data": {
            "text/plain": [
              "<Figure size 432x288 with 1 Axes>"
            ],
            "image/png": "[encoded data removed]"
          },
          "metadata": {
            "needs_background": "light"
          }
        }
      ]
    },
    {
      "cell_type": "code",
      "source": [
        "def confusionMatrix(model, X_test, y_test):\n",
        "  predicted = model.predict(X_test)\n",
        "  confusion_matrix = metrics.confusion_matrix(y_test, predicted)\n",
        "\n",
        "  cm_display = metrics.ConfusionMatrixDisplay(confusion_matrix = confusion_matrix, display_labels = [False, True])\n",
        "\n",
        "  cm_display.plot()\n",
        "  plt.show()"
      ],
      "metadata": {
        "id": "elf7WMq3VsQO"
      },
      "id": "elf7WMq3VsQO",
      "execution_count": 56,
      "outputs": []
    },
    {
      "cell_type": "code",
      "source": [
        "confusionMatrix(models[\"GNB\"], X_test, y_test)"
      ],
      "metadata": {
        "colab": {
          "base_uri": "https://localhost:8080/",
          "height": 283
        },
        "id": "1gKJx5nJ2x5p",
        "outputId": "6cce367e-b62b-46fb-d02f-ef2eb611f8f9"
      },
      "id": "1gKJx5nJ2x5p",
      "execution_count": 58,
      "outputs": [
        {
          "output_type": "display_data",
          "data": {
            "text/plain": [
              "<Figure size 432x288 with 2 Axes>"
            ],
            "image/png": "[encoded data removed]"
          },
          "metadata": {
            "needs_background": "light"
          }
        }
      ]
    }
  ],
  "metadata": {
    "kernelspec": {
      "display_name": "Python 3 (ipykernel)",
      "language": "python",
      "name": "python3"
    },
    "language_info": {
      "codemirror_mode": {
        "name": "ipython",
        "version": 3
      },
      "file_extension": ".py",
      "mimetype": "text/x-python",
      "name": "python",
      "nbconvert_exporter": "python",
      "pygments_lexer": "ipython3",
      "version": "3.9.6"
    },
    "colab": {
      "provenance": [],
      "collapsed_sections": [
        "aRdRo2swZ-ph",
        "BkiH2pv4aBad"
      ],
      "toc_visible": true,
      "include_colab_link": true
    }
  },
  "nbformat": 4,
  "nbformat_minor": 5
}